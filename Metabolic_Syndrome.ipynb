{
 "cells": [
  {
   "cell_type": "markdown",
   "id": "584ba316",
   "metadata": {},
   "source": [
    "## Libraries Required."
   ]
  },
  {
   "cell_type": "code",
   "execution_count": 3,
   "id": "fa2b5f28",
   "metadata": {},
   "outputs": [],
   "source": [
    "import pandas as pd\n",
    "import numpy as np\n",
    "\n",
    "from sklearn.linear_model import LogisticRegression\n",
    "from sklearn.neighbors import KNeighborsClassifier\n",
    "from sklearn.tree import DecisionTreeClassifier,plot_tree\n",
    "from sklearn.ensemble import RandomForestClassifier, AdaBoostClassifier\n",
    "\n",
    "from scipy.stats import skewnorm,skew\n",
    "\n",
    "from sklearn.preprocessing import MinMaxScaler,StandardScaler\n",
    "from sklearn.model_selection import train_test_split\n",
    "from sklearn.model_selection import GridSearchCV, RandomizedSearchCV\n",
    "\n",
    "from sklearn.metrics import accuracy_score, confusion_matrix, classification_report\n",
    "from sklearn.metrics import plot_confusion_matrix,roc_curve, multilabel_confusion_matrix\n",
    "from sklearn.metrics import precision_score,recall_score, f1_score\n",
    "\n",
    "import matplotlib.pyplot as plt\n",
    "import seaborn as sns\n",
    "\n",
    "import warnings\n",
    "warnings.filterwarnings('ignore')"
   ]
  },
  {
   "cell_type": "markdown",
   "id": "bc07ee00",
   "metadata": {},
   "source": [
    "## Data Set"
   ]
  },
  {
   "cell_type": "code",
   "execution_count": 4,
   "id": "e25bd7e7",
   "metadata": {
    "scrolled": true
   },
   "outputs": [
    {
     "data": {
      "text/html": [
       "<div>\n",
       "<style scoped>\n",
       "    .dataframe tbody tr th:only-of-type {\n",
       "        vertical-align: middle;\n",
       "    }\n",
       "\n",
       "    .dataframe tbody tr th {\n",
       "        vertical-align: top;\n",
       "    }\n",
       "\n",
       "    .dataframe thead th {\n",
       "        text-align: right;\n",
       "    }\n",
       "</style>\n",
       "<table border=\"1\" class=\"dataframe\">\n",
       "  <thead>\n",
       "    <tr style=\"text-align: right;\">\n",
       "      <th></th>\n",
       "      <th>seqn</th>\n",
       "      <th>Age</th>\n",
       "      <th>Sex</th>\n",
       "      <th>Marital</th>\n",
       "      <th>Income</th>\n",
       "      <th>Race</th>\n",
       "      <th>WaistCirc</th>\n",
       "      <th>BMI</th>\n",
       "      <th>Albuminuria</th>\n",
       "      <th>UrAlbCr</th>\n",
       "      <th>UricAcid</th>\n",
       "      <th>BloodGlucose</th>\n",
       "      <th>HDL</th>\n",
       "      <th>Triglycerides</th>\n",
       "      <th>MetabolicSyndrome</th>\n",
       "    </tr>\n",
       "  </thead>\n",
       "  <tbody>\n",
       "    <tr>\n",
       "      <th>0</th>\n",
       "      <td>62161</td>\n",
       "      <td>22</td>\n",
       "      <td>Male</td>\n",
       "      <td>Single</td>\n",
       "      <td>8200.0</td>\n",
       "      <td>White</td>\n",
       "      <td>81.0</td>\n",
       "      <td>23.3</td>\n",
       "      <td>0</td>\n",
       "      <td>3.88</td>\n",
       "      <td>4.9</td>\n",
       "      <td>92</td>\n",
       "      <td>41</td>\n",
       "      <td>84</td>\n",
       "      <td>No MetSyn</td>\n",
       "    </tr>\n",
       "    <tr>\n",
       "      <th>1</th>\n",
       "      <td>62164</td>\n",
       "      <td>44</td>\n",
       "      <td>Female</td>\n",
       "      <td>Married</td>\n",
       "      <td>4500.0</td>\n",
       "      <td>White</td>\n",
       "      <td>80.1</td>\n",
       "      <td>23.2</td>\n",
       "      <td>0</td>\n",
       "      <td>8.55</td>\n",
       "      <td>4.5</td>\n",
       "      <td>82</td>\n",
       "      <td>28</td>\n",
       "      <td>56</td>\n",
       "      <td>No MetSyn</td>\n",
       "    </tr>\n",
       "    <tr>\n",
       "      <th>2</th>\n",
       "      <td>62169</td>\n",
       "      <td>21</td>\n",
       "      <td>Male</td>\n",
       "      <td>Single</td>\n",
       "      <td>800.0</td>\n",
       "      <td>Asian</td>\n",
       "      <td>69.6</td>\n",
       "      <td>20.1</td>\n",
       "      <td>0</td>\n",
       "      <td>5.07</td>\n",
       "      <td>5.4</td>\n",
       "      <td>107</td>\n",
       "      <td>43</td>\n",
       "      <td>78</td>\n",
       "      <td>No MetSyn</td>\n",
       "    </tr>\n",
       "    <tr>\n",
       "      <th>3</th>\n",
       "      <td>62172</td>\n",
       "      <td>43</td>\n",
       "      <td>Female</td>\n",
       "      <td>Single</td>\n",
       "      <td>2000.0</td>\n",
       "      <td>Black</td>\n",
       "      <td>120.4</td>\n",
       "      <td>33.3</td>\n",
       "      <td>0</td>\n",
       "      <td>5.22</td>\n",
       "      <td>5.0</td>\n",
       "      <td>104</td>\n",
       "      <td>73</td>\n",
       "      <td>141</td>\n",
       "      <td>No MetSyn</td>\n",
       "    </tr>\n",
       "    <tr>\n",
       "      <th>4</th>\n",
       "      <td>62177</td>\n",
       "      <td>51</td>\n",
       "      <td>Male</td>\n",
       "      <td>Married</td>\n",
       "      <td>NaN</td>\n",
       "      <td>Asian</td>\n",
       "      <td>81.1</td>\n",
       "      <td>20.1</td>\n",
       "      <td>0</td>\n",
       "      <td>8.13</td>\n",
       "      <td>5.0</td>\n",
       "      <td>95</td>\n",
       "      <td>43</td>\n",
       "      <td>126</td>\n",
       "      <td>No MetSyn</td>\n",
       "    </tr>\n",
       "  </tbody>\n",
       "</table>\n",
       "</div>"
      ],
      "text/plain": [
       "    seqn  Age     Sex  Marital  Income   Race  WaistCirc   BMI  Albuminuria  \\\n",
       "0  62161   22    Male   Single  8200.0  White       81.0  23.3            0   \n",
       "1  62164   44  Female  Married  4500.0  White       80.1  23.2            0   \n",
       "2  62169   21    Male   Single   800.0  Asian       69.6  20.1            0   \n",
       "3  62172   43  Female   Single  2000.0  Black      120.4  33.3            0   \n",
       "4  62177   51    Male  Married     NaN  Asian       81.1  20.1            0   \n",
       "\n",
       "   UrAlbCr  UricAcid  BloodGlucose  HDL  Triglycerides MetabolicSyndrome  \n",
       "0     3.88       4.9            92   41             84         No MetSyn  \n",
       "1     8.55       4.5            82   28             56         No MetSyn  \n",
       "2     5.07       5.4           107   43             78         No MetSyn  \n",
       "3     5.22       5.0           104   73            141         No MetSyn  \n",
       "4     8.13       5.0            95   43            126         No MetSyn  "
      ]
     },
     "execution_count": 4,
     "metadata": {},
     "output_type": "execute_result"
    }
   ],
   "source": [
    "df = pd.read_csv(r\"D:\\VELOCITY\\m.csv\")\n",
    "df.head()"
   ]
  },
  {
   "cell_type": "code",
   "execution_count": 3,
   "id": "dd5a4399",
   "metadata": {},
   "outputs": [
    {
     "name": "stdout",
     "output_type": "stream",
     "text": [
      "<class 'pandas.core.frame.DataFrame'>\n",
      "RangeIndex: 2401 entries, 0 to 2400\n",
      "Data columns (total 15 columns):\n",
      " #   Column             Non-Null Count  Dtype  \n",
      "---  ------             --------------  -----  \n",
      " 0   seqn               2401 non-null   int64  \n",
      " 1   Age                2401 non-null   int64  \n",
      " 2   Sex                2401 non-null   object \n",
      " 3   Marital            2193 non-null   object \n",
      " 4   Income             2284 non-null   float64\n",
      " 5   Race               2401 non-null   object \n",
      " 6   WaistCirc          2316 non-null   float64\n",
      " 7   BMI                2375 non-null   float64\n",
      " 8   Albuminuria        2401 non-null   int64  \n",
      " 9   UrAlbCr            2401 non-null   float64\n",
      " 10  UricAcid           2401 non-null   float64\n",
      " 11  BloodGlucose       2401 non-null   int64  \n",
      " 12  HDL                2401 non-null   int64  \n",
      " 13  Triglycerides      2401 non-null   int64  \n",
      " 14  MetabolicSyndrome  2401 non-null   object \n",
      "dtypes: float64(5), int64(6), object(4)\n",
      "memory usage: 281.5+ KB\n"
     ]
    }
   ],
   "source": [
    "df.info()"
   ]
  },
  {
   "cell_type": "markdown",
   "id": "5b25ef3d",
   "metadata": {},
   "source": [
    "## Metabolic Syndrome "
   ]
  },
  {
   "cell_type": "code",
   "execution_count": 240,
   "id": "7b4a1372",
   "metadata": {},
   "outputs": [],
   "source": [
    "# Its the target column. \n",
    "# we have to predict whether the person has metabolic syndrome or not.\n",
    "# we are converting objective data into numerical using label encoding. \n",
    "# MetSyn = 1 and No MetSyn = 0."
   ]
  },
  {
   "cell_type": "code",
   "execution_count": 4,
   "id": "ff825995",
   "metadata": {},
   "outputs": [
    {
     "data": {
      "text/html": [
       "<div>\n",
       "<style scoped>\n",
       "    .dataframe tbody tr th:only-of-type {\n",
       "        vertical-align: middle;\n",
       "    }\n",
       "\n",
       "    .dataframe tbody tr th {\n",
       "        vertical-align: top;\n",
       "    }\n",
       "\n",
       "    .dataframe thead th {\n",
       "        text-align: right;\n",
       "    }\n",
       "</style>\n",
       "<table border=\"1\" class=\"dataframe\">\n",
       "  <thead>\n",
       "    <tr style=\"text-align: right;\">\n",
       "      <th></th>\n",
       "      <th>seqn</th>\n",
       "      <th>Age</th>\n",
       "      <th>Sex</th>\n",
       "      <th>Marital</th>\n",
       "      <th>Income</th>\n",
       "      <th>Race</th>\n",
       "      <th>WaistCirc</th>\n",
       "      <th>BMI</th>\n",
       "      <th>Albuminuria</th>\n",
       "      <th>UrAlbCr</th>\n",
       "      <th>UricAcid</th>\n",
       "      <th>BloodGlucose</th>\n",
       "      <th>HDL</th>\n",
       "      <th>Triglycerides</th>\n",
       "      <th>MetabolicSyndrome</th>\n",
       "    </tr>\n",
       "  </thead>\n",
       "  <tbody>\n",
       "    <tr>\n",
       "      <th>0</th>\n",
       "      <td>62161</td>\n",
       "      <td>22</td>\n",
       "      <td>Male</td>\n",
       "      <td>Single</td>\n",
       "      <td>8200.0</td>\n",
       "      <td>White</td>\n",
       "      <td>81.0</td>\n",
       "      <td>23.3</td>\n",
       "      <td>0</td>\n",
       "      <td>3.88</td>\n",
       "      <td>4.9</td>\n",
       "      <td>92</td>\n",
       "      <td>41</td>\n",
       "      <td>84</td>\n",
       "      <td>0</td>\n",
       "    </tr>\n",
       "    <tr>\n",
       "      <th>1</th>\n",
       "      <td>62164</td>\n",
       "      <td>44</td>\n",
       "      <td>Female</td>\n",
       "      <td>Married</td>\n",
       "      <td>4500.0</td>\n",
       "      <td>White</td>\n",
       "      <td>80.1</td>\n",
       "      <td>23.2</td>\n",
       "      <td>0</td>\n",
       "      <td>8.55</td>\n",
       "      <td>4.5</td>\n",
       "      <td>82</td>\n",
       "      <td>28</td>\n",
       "      <td>56</td>\n",
       "      <td>0</td>\n",
       "    </tr>\n",
       "    <tr>\n",
       "      <th>2</th>\n",
       "      <td>62169</td>\n",
       "      <td>21</td>\n",
       "      <td>Male</td>\n",
       "      <td>Single</td>\n",
       "      <td>800.0</td>\n",
       "      <td>Asian</td>\n",
       "      <td>69.6</td>\n",
       "      <td>20.1</td>\n",
       "      <td>0</td>\n",
       "      <td>5.07</td>\n",
       "      <td>5.4</td>\n",
       "      <td>107</td>\n",
       "      <td>43</td>\n",
       "      <td>78</td>\n",
       "      <td>0</td>\n",
       "    </tr>\n",
       "    <tr>\n",
       "      <th>3</th>\n",
       "      <td>62172</td>\n",
       "      <td>43</td>\n",
       "      <td>Female</td>\n",
       "      <td>Single</td>\n",
       "      <td>2000.0</td>\n",
       "      <td>Black</td>\n",
       "      <td>120.4</td>\n",
       "      <td>33.3</td>\n",
       "      <td>0</td>\n",
       "      <td>5.22</td>\n",
       "      <td>5.0</td>\n",
       "      <td>104</td>\n",
       "      <td>73</td>\n",
       "      <td>141</td>\n",
       "      <td>0</td>\n",
       "    </tr>\n",
       "    <tr>\n",
       "      <th>4</th>\n",
       "      <td>62177</td>\n",
       "      <td>51</td>\n",
       "      <td>Male</td>\n",
       "      <td>Married</td>\n",
       "      <td>NaN</td>\n",
       "      <td>Asian</td>\n",
       "      <td>81.1</td>\n",
       "      <td>20.1</td>\n",
       "      <td>0</td>\n",
       "      <td>8.13</td>\n",
       "      <td>5.0</td>\n",
       "      <td>95</td>\n",
       "      <td>43</td>\n",
       "      <td>126</td>\n",
       "      <td>0</td>\n",
       "    </tr>\n",
       "  </tbody>\n",
       "</table>\n",
       "</div>"
      ],
      "text/plain": [
       "    seqn  Age     Sex  Marital  Income   Race  WaistCirc   BMI  Albuminuria  \\\n",
       "0  62161   22    Male   Single  8200.0  White       81.0  23.3            0   \n",
       "1  62164   44  Female  Married  4500.0  White       80.1  23.2            0   \n",
       "2  62169   21    Male   Single   800.0  Asian       69.6  20.1            0   \n",
       "3  62172   43  Female   Single  2000.0  Black      120.4  33.3            0   \n",
       "4  62177   51    Male  Married     NaN  Asian       81.1  20.1            0   \n",
       "\n",
       "   UrAlbCr  UricAcid  BloodGlucose  HDL  Triglycerides  MetabolicSyndrome  \n",
       "0     3.88       4.9            92   41             84                  0  \n",
       "1     8.55       4.5            82   28             56                  0  \n",
       "2     5.07       5.4           107   43             78                  0  \n",
       "3     5.22       5.0           104   73            141                  0  \n",
       "4     8.13       5.0            95   43            126                  0  "
      ]
     },
     "execution_count": 4,
     "metadata": {},
     "output_type": "execute_result"
    }
   ],
   "source": [
    "\n",
    "df.head()"
   ]
  },
  {
   "cell_type": "code",
   "execution_count": 5,
   "id": "bc587834",
   "metadata": {},
   "outputs": [
    {
     "data": {
      "text/plain": [
       "0    1579\n",
       "1     822\n",
       "Name: MetabolicSyndrome, dtype: int64"
      ]
     },
     "execution_count": 5,
     "metadata": {},
     "output_type": "execute_result"
    }
   ],
   "source": [
    "df['MetabolicSyndrome'].value_counts()"
   ]
  },
  {
   "cell_type": "code",
   "execution_count": 6,
   "id": "52f4f11f",
   "metadata": {},
   "outputs": [
    {
     "data": {
      "text/plain": [
       "seqn                 0.011364\n",
       "Age                  0.248618\n",
       "Income              -0.083706\n",
       "WaistCirc            0.497479\n",
       "BMI                  0.430825\n",
       "Albuminuria          0.158501\n",
       "UrAlbCr              0.085168\n",
       "UricAcid             0.246423\n",
       "BloodGlucose         0.362219\n",
       "HDL                 -0.371378\n",
       "Triglycerides        0.427241\n",
       "MetabolicSyndrome    1.000000\n",
       "Name: MetabolicSyndrome, dtype: float64"
      ]
     },
     "execution_count": 6,
     "metadata": {},
     "output_type": "execute_result"
    }
   ],
   "source": [
    "df.corr()['MetabolicSyndrome']"
   ]
  },
  {
   "cell_type": "markdown",
   "id": "7efda2e7",
   "metadata": {},
   "source": [
    "## Label Encoding.."
   ]
  },
  {
   "cell_type": "markdown",
   "id": "2e55140a",
   "metadata": {},
   "source": [
    "### i. Sex"
   ]
  },
  {
   "cell_type": "code",
   "execution_count": 7,
   "id": "6c827984",
   "metadata": {},
   "outputs": [
    {
     "data": {
      "text/plain": [
       "{'Female': 1211, 'Male': 1190}"
      ]
     },
     "execution_count": 7,
     "metadata": {},
     "output_type": "execute_result"
    }
   ],
   "source": [
    "df['Sex'].value_counts().to_dict()"
   ]
  },
  {
   "cell_type": "code",
   "execution_count": 8,
   "id": "1b888a87",
   "metadata": {},
   "outputs": [
    {
     "data": {
      "text/html": [
       "<div>\n",
       "<style scoped>\n",
       "    .dataframe tbody tr th:only-of-type {\n",
       "        vertical-align: middle;\n",
       "    }\n",
       "\n",
       "    .dataframe tbody tr th {\n",
       "        vertical-align: top;\n",
       "    }\n",
       "\n",
       "    .dataframe thead th {\n",
       "        text-align: right;\n",
       "    }\n",
       "</style>\n",
       "<table border=\"1\" class=\"dataframe\">\n",
       "  <thead>\n",
       "    <tr style=\"text-align: right;\">\n",
       "      <th></th>\n",
       "      <th>seqn</th>\n",
       "      <th>Age</th>\n",
       "      <th>Sex</th>\n",
       "      <th>Marital</th>\n",
       "      <th>Income</th>\n",
       "      <th>Race</th>\n",
       "      <th>WaistCirc</th>\n",
       "      <th>BMI</th>\n",
       "      <th>Albuminuria</th>\n",
       "      <th>UrAlbCr</th>\n",
       "      <th>UricAcid</th>\n",
       "      <th>BloodGlucose</th>\n",
       "      <th>HDL</th>\n",
       "      <th>Triglycerides</th>\n",
       "      <th>MetabolicSyndrome</th>\n",
       "    </tr>\n",
       "  </thead>\n",
       "  <tbody>\n",
       "    <tr>\n",
       "      <th>0</th>\n",
       "      <td>62161</td>\n",
       "      <td>22</td>\n",
       "      <td>1</td>\n",
       "      <td>Single</td>\n",
       "      <td>8200.0</td>\n",
       "      <td>White</td>\n",
       "      <td>81.0</td>\n",
       "      <td>23.3</td>\n",
       "      <td>0</td>\n",
       "      <td>3.88</td>\n",
       "      <td>4.9</td>\n",
       "      <td>92</td>\n",
       "      <td>41</td>\n",
       "      <td>84</td>\n",
       "      <td>0</td>\n",
       "    </tr>\n",
       "    <tr>\n",
       "      <th>1</th>\n",
       "      <td>62164</td>\n",
       "      <td>44</td>\n",
       "      <td>0</td>\n",
       "      <td>Married</td>\n",
       "      <td>4500.0</td>\n",
       "      <td>White</td>\n",
       "      <td>80.1</td>\n",
       "      <td>23.2</td>\n",
       "      <td>0</td>\n",
       "      <td>8.55</td>\n",
       "      <td>4.5</td>\n",
       "      <td>82</td>\n",
       "      <td>28</td>\n",
       "      <td>56</td>\n",
       "      <td>0</td>\n",
       "    </tr>\n",
       "    <tr>\n",
       "      <th>2</th>\n",
       "      <td>62169</td>\n",
       "      <td>21</td>\n",
       "      <td>1</td>\n",
       "      <td>Single</td>\n",
       "      <td>800.0</td>\n",
       "      <td>Asian</td>\n",
       "      <td>69.6</td>\n",
       "      <td>20.1</td>\n",
       "      <td>0</td>\n",
       "      <td>5.07</td>\n",
       "      <td>5.4</td>\n",
       "      <td>107</td>\n",
       "      <td>43</td>\n",
       "      <td>78</td>\n",
       "      <td>0</td>\n",
       "    </tr>\n",
       "    <tr>\n",
       "      <th>3</th>\n",
       "      <td>62172</td>\n",
       "      <td>43</td>\n",
       "      <td>0</td>\n",
       "      <td>Single</td>\n",
       "      <td>2000.0</td>\n",
       "      <td>Black</td>\n",
       "      <td>120.4</td>\n",
       "      <td>33.3</td>\n",
       "      <td>0</td>\n",
       "      <td>5.22</td>\n",
       "      <td>5.0</td>\n",
       "      <td>104</td>\n",
       "      <td>73</td>\n",
       "      <td>141</td>\n",
       "      <td>0</td>\n",
       "    </tr>\n",
       "    <tr>\n",
       "      <th>4</th>\n",
       "      <td>62177</td>\n",
       "      <td>51</td>\n",
       "      <td>1</td>\n",
       "      <td>Married</td>\n",
       "      <td>NaN</td>\n",
       "      <td>Asian</td>\n",
       "      <td>81.1</td>\n",
       "      <td>20.1</td>\n",
       "      <td>0</td>\n",
       "      <td>8.13</td>\n",
       "      <td>5.0</td>\n",
       "      <td>95</td>\n",
       "      <td>43</td>\n",
       "      <td>126</td>\n",
       "      <td>0</td>\n",
       "    </tr>\n",
       "  </tbody>\n",
       "</table>\n",
       "</div>"
      ],
      "text/plain": [
       "    seqn  Age  Sex  Marital  Income   Race  WaistCirc   BMI  Albuminuria  \\\n",
       "0  62161   22    1   Single  8200.0  White       81.0  23.3            0   \n",
       "1  62164   44    0  Married  4500.0  White       80.1  23.2            0   \n",
       "2  62169   21    1   Single   800.0  Asian       69.6  20.1            0   \n",
       "3  62172   43    0   Single  2000.0  Black      120.4  33.3            0   \n",
       "4  62177   51    1  Married     NaN  Asian       81.1  20.1            0   \n",
       "\n",
       "   UrAlbCr  UricAcid  BloodGlucose  HDL  Triglycerides  MetabolicSyndrome  \n",
       "0     3.88       4.9            92   41             84                  0  \n",
       "1     8.55       4.5            82   28             56                  0  \n",
       "2     5.07       5.4           107   43             78                  0  \n",
       "3     5.22       5.0           104   73            141                  0  \n",
       "4     8.13       5.0            95   43            126                  0  "
      ]
     },
     "execution_count": 8,
     "metadata": {},
     "output_type": "execute_result"
    }
   ],
   "source": [
    "df['Sex'].replace({'Female': 0, 'Male': 1},inplace = True)\n",
    "df.head()"
   ]
  },
  {
   "cell_type": "markdown",
   "id": "c2b72ba8",
   "metadata": {},
   "source": [
    "### ii. Marital "
   ]
  },
  {
   "cell_type": "code",
   "execution_count": 9,
   "id": "8b30d3d3",
   "metadata": {},
   "outputs": [
    {
     "data": {
      "text/plain": [
       "{'Married': 1192,\n",
       " 'Single': 498,\n",
       " 'Divorced': 242,\n",
       " 'Widowed': 166,\n",
       " 'Separated': 95}"
      ]
     },
     "execution_count": 9,
     "metadata": {},
     "output_type": "execute_result"
    }
   ],
   "source": [
    "df['Marital'].value_counts().to_dict()"
   ]
  },
  {
   "cell_type": "code",
   "execution_count": 8,
   "id": "219fe249",
   "metadata": {},
   "outputs": [
    {
     "data": {
      "text/html": [
       "<div>\n",
       "<style scoped>\n",
       "    .dataframe tbody tr th:only-of-type {\n",
       "        vertical-align: middle;\n",
       "    }\n",
       "\n",
       "    .dataframe tbody tr th {\n",
       "        vertical-align: top;\n",
       "    }\n",
       "\n",
       "    .dataframe thead th {\n",
       "        text-align: right;\n",
       "    }\n",
       "</style>\n",
       "<table border=\"1\" class=\"dataframe\">\n",
       "  <thead>\n",
       "    <tr style=\"text-align: right;\">\n",
       "      <th></th>\n",
       "      <th>0</th>\n",
       "      <th>1</th>\n",
       "      <th>2</th>\n",
       "      <th>3</th>\n",
       "      <th>4</th>\n",
       "      <th>5</th>\n",
       "      <th>6</th>\n",
       "      <th>7</th>\n",
       "      <th>8</th>\n",
       "      <th>9</th>\n",
       "      <th>...</th>\n",
       "      <th>2391</th>\n",
       "      <th>2392</th>\n",
       "      <th>2393</th>\n",
       "      <th>2394</th>\n",
       "      <th>2395</th>\n",
       "      <th>2396</th>\n",
       "      <th>2397</th>\n",
       "      <th>2398</th>\n",
       "      <th>2399</th>\n",
       "      <th>2400</th>\n",
       "    </tr>\n",
       "  </thead>\n",
       "  <tbody>\n",
       "    <tr>\n",
       "      <th>seqn</th>\n",
       "      <td>62161</td>\n",
       "      <td>62164</td>\n",
       "      <td>62169</td>\n",
       "      <td>62172</td>\n",
       "      <td>62177</td>\n",
       "      <td>62178</td>\n",
       "      <td>62184</td>\n",
       "      <td>62189</td>\n",
       "      <td>62191</td>\n",
       "      <td>62195</td>\n",
       "      <td>...</td>\n",
       "      <td>71886</td>\n",
       "      <td>71887</td>\n",
       "      <td>71891</td>\n",
       "      <td>71895</td>\n",
       "      <td>71898</td>\n",
       "      <td>71901</td>\n",
       "      <td>71904</td>\n",
       "      <td>71909</td>\n",
       "      <td>71911</td>\n",
       "      <td>71915</td>\n",
       "    </tr>\n",
       "    <tr>\n",
       "      <th>Age</th>\n",
       "      <td>22</td>\n",
       "      <td>44</td>\n",
       "      <td>21</td>\n",
       "      <td>43</td>\n",
       "      <td>51</td>\n",
       "      <td>80</td>\n",
       "      <td>26</td>\n",
       "      <td>30</td>\n",
       "      <td>70</td>\n",
       "      <td>35</td>\n",
       "      <td>...</td>\n",
       "      <td>61</td>\n",
       "      <td>68</td>\n",
       "      <td>54</td>\n",
       "      <td>31</td>\n",
       "      <td>65</td>\n",
       "      <td>48</td>\n",
       "      <td>30</td>\n",
       "      <td>28</td>\n",
       "      <td>27</td>\n",
       "      <td>60</td>\n",
       "    </tr>\n",
       "    <tr>\n",
       "      <th>Sex</th>\n",
       "      <td>Male</td>\n",
       "      <td>Female</td>\n",
       "      <td>Male</td>\n",
       "      <td>Female</td>\n",
       "      <td>Male</td>\n",
       "      <td>Male</td>\n",
       "      <td>Male</td>\n",
       "      <td>Female</td>\n",
       "      <td>Male</td>\n",
       "      <td>Male</td>\n",
       "      <td>...</td>\n",
       "      <td>Male</td>\n",
       "      <td>Female</td>\n",
       "      <td>Female</td>\n",
       "      <td>Male</td>\n",
       "      <td>Female</td>\n",
       "      <td>Female</td>\n",
       "      <td>Female</td>\n",
       "      <td>Male</td>\n",
       "      <td>Male</td>\n",
       "      <td>Male</td>\n",
       "    </tr>\n",
       "    <tr>\n",
       "      <th>Marital</th>\n",
       "      <td>Single</td>\n",
       "      <td>Married</td>\n",
       "      <td>Single</td>\n",
       "      <td>Single</td>\n",
       "      <td>Married</td>\n",
       "      <td>Widowed</td>\n",
       "      <td>Single</td>\n",
       "      <td>Married</td>\n",
       "      <td>Divorced</td>\n",
       "      <td>NaN</td>\n",
       "      <td>...</td>\n",
       "      <td>Single</td>\n",
       "      <td>Married</td>\n",
       "      <td>Married</td>\n",
       "      <td>Married</td>\n",
       "      <td>Married</td>\n",
       "      <td>Married</td>\n",
       "      <td>Single</td>\n",
       "      <td>Single</td>\n",
       "      <td>Married</td>\n",
       "      <td>Single</td>\n",
       "    </tr>\n",
       "    <tr>\n",
       "      <th>Income</th>\n",
       "      <td>8200.0</td>\n",
       "      <td>4500.0</td>\n",
       "      <td>800.0</td>\n",
       "      <td>2000.0</td>\n",
       "      <td>NaN</td>\n",
       "      <td>300.0</td>\n",
       "      <td>9000.0</td>\n",
       "      <td>6200.0</td>\n",
       "      <td>1000.0</td>\n",
       "      <td>2500.0</td>\n",
       "      <td>...</td>\n",
       "      <td>2500.0</td>\n",
       "      <td>1600.0</td>\n",
       "      <td>5400.0</td>\n",
       "      <td>2500.0</td>\n",
       "      <td>5400.0</td>\n",
       "      <td>1000.0</td>\n",
       "      <td>2000.0</td>\n",
       "      <td>800.0</td>\n",
       "      <td>8200.0</td>\n",
       "      <td>6200.0</td>\n",
       "    </tr>\n",
       "    <tr>\n",
       "      <th>Race</th>\n",
       "      <td>White</td>\n",
       "      <td>White</td>\n",
       "      <td>Asian</td>\n",
       "      <td>Black</td>\n",
       "      <td>Asian</td>\n",
       "      <td>White</td>\n",
       "      <td>Black</td>\n",
       "      <td>Asian</td>\n",
       "      <td>Black</td>\n",
       "      <td>Black</td>\n",
       "      <td>...</td>\n",
       "      <td>Black</td>\n",
       "      <td>Hispanic</td>\n",
       "      <td>MexAmerican</td>\n",
       "      <td>Asian</td>\n",
       "      <td>MexAmerican</td>\n",
       "      <td>Other</td>\n",
       "      <td>Asian</td>\n",
       "      <td>MexAmerican</td>\n",
       "      <td>MexAmerican</td>\n",
       "      <td>White</td>\n",
       "    </tr>\n",
       "    <tr>\n",
       "      <th>WaistCirc</th>\n",
       "      <td>81.0</td>\n",
       "      <td>80.1</td>\n",
       "      <td>69.6</td>\n",
       "      <td>120.4</td>\n",
       "      <td>81.1</td>\n",
       "      <td>112.5</td>\n",
       "      <td>78.6</td>\n",
       "      <td>80.2</td>\n",
       "      <td>NaN</td>\n",
       "      <td>99.0</td>\n",
       "      <td>...</td>\n",
       "      <td>98.2</td>\n",
       "      <td>95.8</td>\n",
       "      <td>96.0</td>\n",
       "      <td>74.0</td>\n",
       "      <td>98.5</td>\n",
       "      <td>NaN</td>\n",
       "      <td>NaN</td>\n",
       "      <td>100.8</td>\n",
       "      <td>106.6</td>\n",
       "      <td>106.6</td>\n",
       "    </tr>\n",
       "    <tr>\n",
       "      <th>BMI</th>\n",
       "      <td>23.3</td>\n",
       "      <td>23.2</td>\n",
       "      <td>20.1</td>\n",
       "      <td>33.3</td>\n",
       "      <td>20.1</td>\n",
       "      <td>28.5</td>\n",
       "      <td>22.1</td>\n",
       "      <td>22.4</td>\n",
       "      <td>NaN</td>\n",
       "      <td>28.2</td>\n",
       "      <td>...</td>\n",
       "      <td>26.8</td>\n",
       "      <td>28.9</td>\n",
       "      <td>28.4</td>\n",
       "      <td>20.6</td>\n",
       "      <td>29.4</td>\n",
       "      <td>59.7</td>\n",
       "      <td>18.0</td>\n",
       "      <td>29.4</td>\n",
       "      <td>31.3</td>\n",
       "      <td>27.5</td>\n",
       "    </tr>\n",
       "    <tr>\n",
       "      <th>Albuminuria</th>\n",
       "      <td>0</td>\n",
       "      <td>0</td>\n",
       "      <td>0</td>\n",
       "      <td>0</td>\n",
       "      <td>0</td>\n",
       "      <td>0</td>\n",
       "      <td>0</td>\n",
       "      <td>0</td>\n",
       "      <td>1</td>\n",
       "      <td>0</td>\n",
       "      <td>...</td>\n",
       "      <td>0</td>\n",
       "      <td>0</td>\n",
       "      <td>0</td>\n",
       "      <td>0</td>\n",
       "      <td>0</td>\n",
       "      <td>0</td>\n",
       "      <td>0</td>\n",
       "      <td>0</td>\n",
       "      <td>0</td>\n",
       "      <td>0</td>\n",
       "    </tr>\n",
       "    <tr>\n",
       "      <th>UrAlbCr</th>\n",
       "      <td>3.88</td>\n",
       "      <td>8.55</td>\n",
       "      <td>5.07</td>\n",
       "      <td>5.22</td>\n",
       "      <td>8.13</td>\n",
       "      <td>9.79</td>\n",
       "      <td>9.21</td>\n",
       "      <td>8.78</td>\n",
       "      <td>45.67</td>\n",
       "      <td>2.21</td>\n",
       "      <td>...</td>\n",
       "      <td>2.91</td>\n",
       "      <td>5.15</td>\n",
       "      <td>5.39</td>\n",
       "      <td>2.0</td>\n",
       "      <td>5.51</td>\n",
       "      <td>22.11</td>\n",
       "      <td>2.9</td>\n",
       "      <td>2.78</td>\n",
       "      <td>4.15</td>\n",
       "      <td>12.82</td>\n",
       "    </tr>\n",
       "    <tr>\n",
       "      <th>UricAcid</th>\n",
       "      <td>4.9</td>\n",
       "      <td>4.5</td>\n",
       "      <td>5.4</td>\n",
       "      <td>5.0</td>\n",
       "      <td>5.0</td>\n",
       "      <td>4.8</td>\n",
       "      <td>5.4</td>\n",
       "      <td>6.7</td>\n",
       "      <td>5.4</td>\n",
       "      <td>6.7</td>\n",
       "      <td>...</td>\n",
       "      <td>5.3</td>\n",
       "      <td>5.6</td>\n",
       "      <td>3.2</td>\n",
       "      <td>6.7</td>\n",
       "      <td>6.7</td>\n",
       "      <td>5.8</td>\n",
       "      <td>7.9</td>\n",
       "      <td>6.2</td>\n",
       "      <td>6.2</td>\n",
       "      <td>5.2</td>\n",
       "    </tr>\n",
       "    <tr>\n",
       "      <th>BloodGlucose</th>\n",
       "      <td>92</td>\n",
       "      <td>82</td>\n",
       "      <td>107</td>\n",
       "      <td>104</td>\n",
       "      <td>95</td>\n",
       "      <td>105</td>\n",
       "      <td>87</td>\n",
       "      <td>83</td>\n",
       "      <td>96</td>\n",
       "      <td>94</td>\n",
       "      <td>...</td>\n",
       "      <td>95</td>\n",
       "      <td>96</td>\n",
       "      <td>96</td>\n",
       "      <td>95</td>\n",
       "      <td>114</td>\n",
       "      <td>152</td>\n",
       "      <td>91</td>\n",
       "      <td>99</td>\n",
       "      <td>100</td>\n",
       "      <td>91</td>\n",
       "    </tr>\n",
       "    <tr>\n",
       "      <th>HDL</th>\n",
       "      <td>41</td>\n",
       "      <td>28</td>\n",
       "      <td>43</td>\n",
       "      <td>73</td>\n",
       "      <td>43</td>\n",
       "      <td>47</td>\n",
       "      <td>61</td>\n",
       "      <td>48</td>\n",
       "      <td>35</td>\n",
       "      <td>46</td>\n",
       "      <td>...</td>\n",
       "      <td>61</td>\n",
       "      <td>60</td>\n",
       "      <td>65</td>\n",
       "      <td>64</td>\n",
       "      <td>49</td>\n",
       "      <td>57</td>\n",
       "      <td>90</td>\n",
       "      <td>47</td>\n",
       "      <td>41</td>\n",
       "      <td>36</td>\n",
       "    </tr>\n",
       "    <tr>\n",
       "      <th>Triglycerides</th>\n",
       "      <td>84</td>\n",
       "      <td>56</td>\n",
       "      <td>78</td>\n",
       "      <td>141</td>\n",
       "      <td>126</td>\n",
       "      <td>100</td>\n",
       "      <td>40</td>\n",
       "      <td>91</td>\n",
       "      <td>75</td>\n",
       "      <td>86</td>\n",
       "      <td>...</td>\n",
       "      <td>51</td>\n",
       "      <td>75</td>\n",
       "      <td>144</td>\n",
       "      <td>81</td>\n",
       "      <td>165</td>\n",
       "      <td>107</td>\n",
       "      <td>91</td>\n",
       "      <td>84</td>\n",
       "      <td>124</td>\n",
       "      <td>226</td>\n",
       "    </tr>\n",
       "    <tr>\n",
       "      <th>MetabolicSyndrome</th>\n",
       "      <td>No MetSyn</td>\n",
       "      <td>No MetSyn</td>\n",
       "      <td>No MetSyn</td>\n",
       "      <td>No MetSyn</td>\n",
       "      <td>No MetSyn</td>\n",
       "      <td>No MetSyn</td>\n",
       "      <td>No MetSyn</td>\n",
       "      <td>No MetSyn</td>\n",
       "      <td>No MetSyn</td>\n",
       "      <td>No MetSyn</td>\n",
       "      <td>...</td>\n",
       "      <td>No MetSyn</td>\n",
       "      <td>No MetSyn</td>\n",
       "      <td>No MetSyn</td>\n",
       "      <td>No MetSyn</td>\n",
       "      <td>MetSyn</td>\n",
       "      <td>No MetSyn</td>\n",
       "      <td>No MetSyn</td>\n",
       "      <td>No MetSyn</td>\n",
       "      <td>MetSyn</td>\n",
       "      <td>MetSyn</td>\n",
       "    </tr>\n",
       "  </tbody>\n",
       "</table>\n",
       "<p>15 rows × 2401 columns</p>\n",
       "</div>"
      ],
      "text/plain": [
       "                        0          1          2          3          4     \\\n",
       "seqn                   62161      62164      62169      62172      62177   \n",
       "Age                       22         44         21         43         51   \n",
       "Sex                     Male     Female       Male     Female       Male   \n",
       "Marital               Single    Married     Single     Single    Married   \n",
       "Income                8200.0     4500.0      800.0     2000.0        NaN   \n",
       "Race                   White      White      Asian      Black      Asian   \n",
       "WaistCirc               81.0       80.1       69.6      120.4       81.1   \n",
       "BMI                     23.3       23.2       20.1       33.3       20.1   \n",
       "Albuminuria                0          0          0          0          0   \n",
       "UrAlbCr                 3.88       8.55       5.07       5.22       8.13   \n",
       "UricAcid                 4.9        4.5        5.4        5.0        5.0   \n",
       "BloodGlucose              92         82        107        104         95   \n",
       "HDL                       41         28         43         73         43   \n",
       "Triglycerides             84         56         78        141        126   \n",
       "MetabolicSyndrome  No MetSyn  No MetSyn  No MetSyn  No MetSyn  No MetSyn   \n",
       "\n",
       "                        5          6          7          8          9     ...  \\\n",
       "seqn                   62178      62184      62189      62191      62195  ...   \n",
       "Age                       80         26         30         70         35  ...   \n",
       "Sex                     Male       Male     Female       Male       Male  ...   \n",
       "Marital              Widowed     Single    Married   Divorced        NaN  ...   \n",
       "Income                 300.0     9000.0     6200.0     1000.0     2500.0  ...   \n",
       "Race                   White      Black      Asian      Black      Black  ...   \n",
       "WaistCirc              112.5       78.6       80.2        NaN       99.0  ...   \n",
       "BMI                     28.5       22.1       22.4        NaN       28.2  ...   \n",
       "Albuminuria                0          0          0          1          0  ...   \n",
       "UrAlbCr                 9.79       9.21       8.78      45.67       2.21  ...   \n",
       "UricAcid                 4.8        5.4        6.7        5.4        6.7  ...   \n",
       "BloodGlucose             105         87         83         96         94  ...   \n",
       "HDL                       47         61         48         35         46  ...   \n",
       "Triglycerides            100         40         91         75         86  ...   \n",
       "MetabolicSyndrome  No MetSyn  No MetSyn  No MetSyn  No MetSyn  No MetSyn  ...   \n",
       "\n",
       "                        2391       2392         2393       2394         2395  \\\n",
       "seqn                   71886      71887        71891      71895        71898   \n",
       "Age                       61         68           54         31           65   \n",
       "Sex                     Male     Female       Female       Male       Female   \n",
       "Marital               Single    Married      Married    Married      Married   \n",
       "Income                2500.0     1600.0       5400.0     2500.0       5400.0   \n",
       "Race                   Black   Hispanic  MexAmerican      Asian  MexAmerican   \n",
       "WaistCirc               98.2       95.8         96.0       74.0         98.5   \n",
       "BMI                     26.8       28.9         28.4       20.6         29.4   \n",
       "Albuminuria                0          0            0          0            0   \n",
       "UrAlbCr                 2.91       5.15         5.39        2.0         5.51   \n",
       "UricAcid                 5.3        5.6          3.2        6.7          6.7   \n",
       "BloodGlucose              95         96           96         95          114   \n",
       "HDL                       61         60           65         64           49   \n",
       "Triglycerides             51         75          144         81          165   \n",
       "MetabolicSyndrome  No MetSyn  No MetSyn    No MetSyn  No MetSyn       MetSyn   \n",
       "\n",
       "                        2396       2397         2398         2399    2400  \n",
       "seqn                   71901      71904        71909        71911   71915  \n",
       "Age                       48         30           28           27      60  \n",
       "Sex                   Female     Female         Male         Male    Male  \n",
       "Marital              Married     Single       Single      Married  Single  \n",
       "Income                1000.0     2000.0        800.0       8200.0  6200.0  \n",
       "Race                   Other      Asian  MexAmerican  MexAmerican   White  \n",
       "WaistCirc                NaN        NaN        100.8        106.6   106.6  \n",
       "BMI                     59.7       18.0         29.4         31.3    27.5  \n",
       "Albuminuria                0          0            0            0       0  \n",
       "UrAlbCr                22.11        2.9         2.78         4.15   12.82  \n",
       "UricAcid                 5.8        7.9          6.2          6.2     5.2  \n",
       "BloodGlucose             152         91           99          100      91  \n",
       "HDL                       57         90           47           41      36  \n",
       "Triglycerides            107         91           84          124     226  \n",
       "MetabolicSyndrome  No MetSyn  No MetSyn    No MetSyn       MetSyn  MetSyn  \n",
       "\n",
       "[15 rows x 2401 columns]"
      ]
     },
     "execution_count": 8,
     "metadata": {},
     "output_type": "execute_result"
    }
   ],
   "source": [
    "df.T"
   ]
  },
  {
   "cell_type": "code",
   "execution_count": 10,
   "id": "c113d8e6",
   "metadata": {},
   "outputs": [
    {
     "data": {
      "text/html": [
       "<div>\n",
       "<style scoped>\n",
       "    .dataframe tbody tr th:only-of-type {\n",
       "        vertical-align: middle;\n",
       "    }\n",
       "\n",
       "    .dataframe tbody tr th {\n",
       "        vertical-align: top;\n",
       "    }\n",
       "\n",
       "    .dataframe thead th {\n",
       "        text-align: right;\n",
       "    }\n",
       "</style>\n",
       "<table border=\"1\" class=\"dataframe\">\n",
       "  <thead>\n",
       "    <tr style=\"text-align: right;\">\n",
       "      <th></th>\n",
       "      <th>Marital</th>\n",
       "      <th>MetabolicSyndrome</th>\n",
       "    </tr>\n",
       "  </thead>\n",
       "  <tbody>\n",
       "    <tr>\n",
       "      <th>0</th>\n",
       "      <td>Single</td>\n",
       "      <td>No MetSyn</td>\n",
       "    </tr>\n",
       "    <tr>\n",
       "      <th>1</th>\n",
       "      <td>Married</td>\n",
       "      <td>No MetSyn</td>\n",
       "    </tr>\n",
       "    <tr>\n",
       "      <th>2</th>\n",
       "      <td>Single</td>\n",
       "      <td>No MetSyn</td>\n",
       "    </tr>\n",
       "    <tr>\n",
       "      <th>3</th>\n",
       "      <td>Single</td>\n",
       "      <td>No MetSyn</td>\n",
       "    </tr>\n",
       "    <tr>\n",
       "      <th>4</th>\n",
       "      <td>Married</td>\n",
       "      <td>No MetSyn</td>\n",
       "    </tr>\n",
       "    <tr>\n",
       "      <th>...</th>\n",
       "      <td>...</td>\n",
       "      <td>...</td>\n",
       "    </tr>\n",
       "    <tr>\n",
       "      <th>2396</th>\n",
       "      <td>Married</td>\n",
       "      <td>No MetSyn</td>\n",
       "    </tr>\n",
       "    <tr>\n",
       "      <th>2397</th>\n",
       "      <td>Single</td>\n",
       "      <td>No MetSyn</td>\n",
       "    </tr>\n",
       "    <tr>\n",
       "      <th>2398</th>\n",
       "      <td>Single</td>\n",
       "      <td>No MetSyn</td>\n",
       "    </tr>\n",
       "    <tr>\n",
       "      <th>2399</th>\n",
       "      <td>Married</td>\n",
       "      <td>MetSyn</td>\n",
       "    </tr>\n",
       "    <tr>\n",
       "      <th>2400</th>\n",
       "      <td>Single</td>\n",
       "      <td>MetSyn</td>\n",
       "    </tr>\n",
       "  </tbody>\n",
       "</table>\n",
       "<p>2401 rows × 2 columns</p>\n",
       "</div>"
      ],
      "text/plain": [
       "      Marital MetabolicSyndrome\n",
       "0      Single         No MetSyn\n",
       "1     Married         No MetSyn\n",
       "2      Single         No MetSyn\n",
       "3      Single         No MetSyn\n",
       "4     Married         No MetSyn\n",
       "...       ...               ...\n",
       "2396  Married         No MetSyn\n",
       "2397   Single         No MetSyn\n",
       "2398   Single         No MetSyn\n",
       "2399  Married            MetSyn\n",
       "2400   Single            MetSyn\n",
       "\n",
       "[2401 rows x 2 columns]"
      ]
     },
     "execution_count": 10,
     "metadata": {},
     "output_type": "execute_result"
    }
   ],
   "source": [
    "df[[\"Marital\",'MetabolicSyndrome']]"
   ]
  },
  {
   "cell_type": "code",
   "execution_count": 10,
   "id": "4c8a9e0c",
   "metadata": {},
   "outputs": [
    {
     "data": {
      "text/html": [
       "<div>\n",
       "<style scoped>\n",
       "    .dataframe tbody tr th:only-of-type {\n",
       "        vertical-align: middle;\n",
       "    }\n",
       "\n",
       "    .dataframe tbody tr th {\n",
       "        vertical-align: top;\n",
       "    }\n",
       "\n",
       "    .dataframe thead th {\n",
       "        text-align: right;\n",
       "    }\n",
       "</style>\n",
       "<table border=\"1\" class=\"dataframe\">\n",
       "  <thead>\n",
       "    <tr style=\"text-align: right;\">\n",
       "      <th></th>\n",
       "      <th>seqn</th>\n",
       "      <th>Age</th>\n",
       "      <th>Sex</th>\n",
       "      <th>Marital</th>\n",
       "      <th>Income</th>\n",
       "      <th>Race</th>\n",
       "      <th>WaistCirc</th>\n",
       "      <th>BMI</th>\n",
       "      <th>Albuminuria</th>\n",
       "      <th>UrAlbCr</th>\n",
       "      <th>UricAcid</th>\n",
       "      <th>BloodGlucose</th>\n",
       "      <th>HDL</th>\n",
       "      <th>Triglycerides</th>\n",
       "      <th>MetabolicSyndrome</th>\n",
       "    </tr>\n",
       "  </thead>\n",
       "  <tbody>\n",
       "    <tr>\n",
       "      <th>0</th>\n",
       "      <td>62161</td>\n",
       "      <td>22</td>\n",
       "      <td>1</td>\n",
       "      <td>1.0</td>\n",
       "      <td>8200.0</td>\n",
       "      <td>White</td>\n",
       "      <td>81.0</td>\n",
       "      <td>23.3</td>\n",
       "      <td>0</td>\n",
       "      <td>3.88</td>\n",
       "      <td>4.9</td>\n",
       "      <td>92</td>\n",
       "      <td>41</td>\n",
       "      <td>84</td>\n",
       "      <td>0</td>\n",
       "    </tr>\n",
       "    <tr>\n",
       "      <th>1</th>\n",
       "      <td>62164</td>\n",
       "      <td>44</td>\n",
       "      <td>0</td>\n",
       "      <td>0.0</td>\n",
       "      <td>4500.0</td>\n",
       "      <td>White</td>\n",
       "      <td>80.1</td>\n",
       "      <td>23.2</td>\n",
       "      <td>0</td>\n",
       "      <td>8.55</td>\n",
       "      <td>4.5</td>\n",
       "      <td>82</td>\n",
       "      <td>28</td>\n",
       "      <td>56</td>\n",
       "      <td>0</td>\n",
       "    </tr>\n",
       "    <tr>\n",
       "      <th>2</th>\n",
       "      <td>62169</td>\n",
       "      <td>21</td>\n",
       "      <td>1</td>\n",
       "      <td>1.0</td>\n",
       "      <td>800.0</td>\n",
       "      <td>Asian</td>\n",
       "      <td>69.6</td>\n",
       "      <td>20.1</td>\n",
       "      <td>0</td>\n",
       "      <td>5.07</td>\n",
       "      <td>5.4</td>\n",
       "      <td>107</td>\n",
       "      <td>43</td>\n",
       "      <td>78</td>\n",
       "      <td>0</td>\n",
       "    </tr>\n",
       "    <tr>\n",
       "      <th>3</th>\n",
       "      <td>62172</td>\n",
       "      <td>43</td>\n",
       "      <td>0</td>\n",
       "      <td>1.0</td>\n",
       "      <td>2000.0</td>\n",
       "      <td>Black</td>\n",
       "      <td>120.4</td>\n",
       "      <td>33.3</td>\n",
       "      <td>0</td>\n",
       "      <td>5.22</td>\n",
       "      <td>5.0</td>\n",
       "      <td>104</td>\n",
       "      <td>73</td>\n",
       "      <td>141</td>\n",
       "      <td>0</td>\n",
       "    </tr>\n",
       "    <tr>\n",
       "      <th>4</th>\n",
       "      <td>62177</td>\n",
       "      <td>51</td>\n",
       "      <td>1</td>\n",
       "      <td>0.0</td>\n",
       "      <td>NaN</td>\n",
       "      <td>Asian</td>\n",
       "      <td>81.1</td>\n",
       "      <td>20.1</td>\n",
       "      <td>0</td>\n",
       "      <td>8.13</td>\n",
       "      <td>5.0</td>\n",
       "      <td>95</td>\n",
       "      <td>43</td>\n",
       "      <td>126</td>\n",
       "      <td>0</td>\n",
       "    </tr>\n",
       "  </tbody>\n",
       "</table>\n",
       "</div>"
      ],
      "text/plain": [
       "    seqn  Age  Sex  Marital  Income   Race  WaistCirc   BMI  Albuminuria  \\\n",
       "0  62161   22    1      1.0  8200.0  White       81.0  23.3            0   \n",
       "1  62164   44    0      0.0  4500.0  White       80.1  23.2            0   \n",
       "2  62169   21    1      1.0   800.0  Asian       69.6  20.1            0   \n",
       "3  62172   43    0      1.0  2000.0  Black      120.4  33.3            0   \n",
       "4  62177   51    1      0.0     NaN  Asian       81.1  20.1            0   \n",
       "\n",
       "   UrAlbCr  UricAcid  BloodGlucose  HDL  Triglycerides  MetabolicSyndrome  \n",
       "0     3.88       4.9            92   41             84                  0  \n",
       "1     8.55       4.5            82   28             56                  0  \n",
       "2     5.07       5.4           107   43             78                  0  \n",
       "3     5.22       5.0           104   73            141                  0  \n",
       "4     8.13       5.0            95   43            126                  0  "
      ]
     },
     "execution_count": 10,
     "metadata": {},
     "output_type": "execute_result"
    }
   ],
   "source": [
    "df['Marital'].replace({'Married': 0,\n",
    " 'Single': 1,\n",
    " 'Divorced': 2,\n",
    " 'Widowed': 3,\n",
    " 'Separated': 4},inplace = True)\n",
    "df.head()"
   ]
  },
  {
   "cell_type": "markdown",
   "id": "c44a89e3",
   "metadata": {},
   "source": [
    "### iii. Race"
   ]
  },
  {
   "cell_type": "code",
   "execution_count": 11,
   "id": "a15215b7",
   "metadata": {},
   "outputs": [
    {
     "data": {
      "text/plain": [
       "{'White': 933,\n",
       " 'Black': 548,\n",
       " 'Asian': 349,\n",
       " 'Hispanic': 257,\n",
       " 'MexAmerican': 253,\n",
       " 'Other': 61}"
      ]
     },
     "execution_count": 11,
     "metadata": {},
     "output_type": "execute_result"
    }
   ],
   "source": [
    "df['Race'].value_counts().to_dict()"
   ]
  },
  {
   "cell_type": "code",
   "execution_count": 12,
   "id": "f69b628a",
   "metadata": {},
   "outputs": [
    {
     "data": {
      "text/html": [
       "<div>\n",
       "<style scoped>\n",
       "    .dataframe tbody tr th:only-of-type {\n",
       "        vertical-align: middle;\n",
       "    }\n",
       "\n",
       "    .dataframe tbody tr th {\n",
       "        vertical-align: top;\n",
       "    }\n",
       "\n",
       "    .dataframe thead th {\n",
       "        text-align: right;\n",
       "    }\n",
       "</style>\n",
       "<table border=\"1\" class=\"dataframe\">\n",
       "  <thead>\n",
       "    <tr style=\"text-align: right;\">\n",
       "      <th></th>\n",
       "      <th>seqn</th>\n",
       "      <th>Age</th>\n",
       "      <th>Sex</th>\n",
       "      <th>Marital</th>\n",
       "      <th>Income</th>\n",
       "      <th>Race</th>\n",
       "      <th>WaistCirc</th>\n",
       "      <th>BMI</th>\n",
       "      <th>Albuminuria</th>\n",
       "      <th>UrAlbCr</th>\n",
       "      <th>UricAcid</th>\n",
       "      <th>BloodGlucose</th>\n",
       "      <th>HDL</th>\n",
       "      <th>Triglycerides</th>\n",
       "      <th>MetabolicSyndrome</th>\n",
       "    </tr>\n",
       "  </thead>\n",
       "  <tbody>\n",
       "    <tr>\n",
       "      <th>0</th>\n",
       "      <td>62161</td>\n",
       "      <td>22</td>\n",
       "      <td>1</td>\n",
       "      <td>1.0</td>\n",
       "      <td>8200.0</td>\n",
       "      <td>1</td>\n",
       "      <td>81.0</td>\n",
       "      <td>23.3</td>\n",
       "      <td>0</td>\n",
       "      <td>3.88</td>\n",
       "      <td>4.9</td>\n",
       "      <td>92</td>\n",
       "      <td>41</td>\n",
       "      <td>84</td>\n",
       "      <td>0</td>\n",
       "    </tr>\n",
       "    <tr>\n",
       "      <th>1</th>\n",
       "      <td>62164</td>\n",
       "      <td>44</td>\n",
       "      <td>0</td>\n",
       "      <td>0.0</td>\n",
       "      <td>4500.0</td>\n",
       "      <td>1</td>\n",
       "      <td>80.1</td>\n",
       "      <td>23.2</td>\n",
       "      <td>0</td>\n",
       "      <td>8.55</td>\n",
       "      <td>4.5</td>\n",
       "      <td>82</td>\n",
       "      <td>28</td>\n",
       "      <td>56</td>\n",
       "      <td>0</td>\n",
       "    </tr>\n",
       "    <tr>\n",
       "      <th>2</th>\n",
       "      <td>62169</td>\n",
       "      <td>21</td>\n",
       "      <td>1</td>\n",
       "      <td>1.0</td>\n",
       "      <td>800.0</td>\n",
       "      <td>3</td>\n",
       "      <td>69.6</td>\n",
       "      <td>20.1</td>\n",
       "      <td>0</td>\n",
       "      <td>5.07</td>\n",
       "      <td>5.4</td>\n",
       "      <td>107</td>\n",
       "      <td>43</td>\n",
       "      <td>78</td>\n",
       "      <td>0</td>\n",
       "    </tr>\n",
       "    <tr>\n",
       "      <th>3</th>\n",
       "      <td>62172</td>\n",
       "      <td>43</td>\n",
       "      <td>0</td>\n",
       "      <td>1.0</td>\n",
       "      <td>2000.0</td>\n",
       "      <td>2</td>\n",
       "      <td>120.4</td>\n",
       "      <td>33.3</td>\n",
       "      <td>0</td>\n",
       "      <td>5.22</td>\n",
       "      <td>5.0</td>\n",
       "      <td>104</td>\n",
       "      <td>73</td>\n",
       "      <td>141</td>\n",
       "      <td>0</td>\n",
       "    </tr>\n",
       "    <tr>\n",
       "      <th>4</th>\n",
       "      <td>62177</td>\n",
       "      <td>51</td>\n",
       "      <td>1</td>\n",
       "      <td>0.0</td>\n",
       "      <td>NaN</td>\n",
       "      <td>3</td>\n",
       "      <td>81.1</td>\n",
       "      <td>20.1</td>\n",
       "      <td>0</td>\n",
       "      <td>8.13</td>\n",
       "      <td>5.0</td>\n",
       "      <td>95</td>\n",
       "      <td>43</td>\n",
       "      <td>126</td>\n",
       "      <td>0</td>\n",
       "    </tr>\n",
       "  </tbody>\n",
       "</table>\n",
       "</div>"
      ],
      "text/plain": [
       "    seqn  Age  Sex  Marital  Income  Race  WaistCirc   BMI  Albuminuria  \\\n",
       "0  62161   22    1      1.0  8200.0     1       81.0  23.3            0   \n",
       "1  62164   44    0      0.0  4500.0     1       80.1  23.2            0   \n",
       "2  62169   21    1      1.0   800.0     3       69.6  20.1            0   \n",
       "3  62172   43    0      1.0  2000.0     2      120.4  33.3            0   \n",
       "4  62177   51    1      0.0     NaN     3       81.1  20.1            0   \n",
       "\n",
       "   UrAlbCr  UricAcid  BloodGlucose  HDL  Triglycerides  MetabolicSyndrome  \n",
       "0     3.88       4.9            92   41             84                  0  \n",
       "1     8.55       4.5            82   28             56                  0  \n",
       "2     5.07       5.4           107   43             78                  0  \n",
       "3     5.22       5.0           104   73            141                  0  \n",
       "4     8.13       5.0            95   43            126                  0  "
      ]
     },
     "execution_count": 12,
     "metadata": {},
     "output_type": "execute_result"
    }
   ],
   "source": [
    "df['Race'].replace({'White': 1,\n",
    " 'Black': 2,\n",
    " 'Asian': 3,\n",
    " 'Hispanic': 4,\n",
    " 'MexAmerican': 5,\n",
    " 'Other': 6},inplace = True)\n",
    "df.head()"
   ]
  },
  {
   "cell_type": "code",
   "execution_count": 13,
   "id": "4bae3d93",
   "metadata": {},
   "outputs": [
    {
     "name": "stdout",
     "output_type": "stream",
     "text": [
      "<class 'pandas.core.frame.DataFrame'>\n",
      "RangeIndex: 2401 entries, 0 to 2400\n",
      "Data columns (total 15 columns):\n",
      " #   Column             Non-Null Count  Dtype  \n",
      "---  ------             --------------  -----  \n",
      " 0   seqn               2401 non-null   int64  \n",
      " 1   Age                2401 non-null   int64  \n",
      " 2   Sex                2401 non-null   int64  \n",
      " 3   Marital            2193 non-null   float64\n",
      " 4   Income             2284 non-null   float64\n",
      " 5   Race               2401 non-null   int64  \n",
      " 6   WaistCirc          2316 non-null   float64\n",
      " 7   BMI                2375 non-null   float64\n",
      " 8   Albuminuria        2401 non-null   int64  \n",
      " 9   UrAlbCr            2401 non-null   float64\n",
      " 10  UricAcid           2401 non-null   float64\n",
      " 11  BloodGlucose       2401 non-null   int64  \n",
      " 12  HDL                2401 non-null   int64  \n",
      " 13  Triglycerides      2401 non-null   int64  \n",
      " 14  MetabolicSyndrome  2401 non-null   int64  \n",
      "dtypes: float64(6), int64(9)\n",
      "memory usage: 281.5 KB\n"
     ]
    }
   ],
   "source": [
    "df.info()"
   ]
  },
  {
   "cell_type": "markdown",
   "id": "2d0c281e",
   "metadata": {},
   "source": [
    "## Checking for Null Values.."
   ]
  },
  {
   "cell_type": "code",
   "execution_count": 14,
   "id": "94cc2842",
   "metadata": {},
   "outputs": [
    {
     "data": {
      "text/plain": [
       "seqn                   0\n",
       "Age                    0\n",
       "Sex                    0\n",
       "Marital              208\n",
       "Income               117\n",
       "Race                   0\n",
       "WaistCirc             85\n",
       "BMI                   26\n",
       "Albuminuria            0\n",
       "UrAlbCr                0\n",
       "UricAcid               0\n",
       "BloodGlucose           0\n",
       "HDL                    0\n",
       "Triglycerides          0\n",
       "MetabolicSyndrome      0\n",
       "dtype: int64"
      ]
     },
     "execution_count": 14,
     "metadata": {},
     "output_type": "execute_result"
    }
   ],
   "source": [
    "df.isna().sum()"
   ]
  },
  {
   "cell_type": "markdown",
   "id": "3305a8a4",
   "metadata": {},
   "source": [
    "## Handling Null values.."
   ]
  },
  {
   "cell_type": "markdown",
   "id": "7f005a0b",
   "metadata": {},
   "source": [
    "### i. Waist Circle"
   ]
  },
  {
   "cell_type": "code",
   "execution_count": 15,
   "id": "b159439f",
   "metadata": {},
   "outputs": [
    {
     "data": {
      "text/plain": [
       "85"
      ]
     },
     "execution_count": 15,
     "metadata": {},
     "output_type": "execute_result"
    }
   ],
   "source": [
    "df['WaistCirc'].isna().sum()"
   ]
  },
  {
   "cell_type": "code",
   "execution_count": 16,
   "id": "eaf23416",
   "metadata": {},
   "outputs": [
    {
     "data": {
      "text/plain": [
       "97.0     23\n",
       "100.0    17\n",
       "103.0    14\n",
       "99.0     13\n",
       "89.0     12\n",
       "         ..\n",
       "81.7      1\n",
       "135.8     1\n",
       "124.7     1\n",
       "63.1      1\n",
       "69.5      1\n",
       "Name: WaistCirc, Length: 635, dtype: int64"
      ]
     },
     "execution_count": 16,
     "metadata": {},
     "output_type": "execute_result"
    }
   ],
   "source": [
    "df['WaistCirc'].value_counts()"
   ]
  },
  {
   "cell_type": "code",
   "execution_count": 17,
   "id": "90b9ee0f",
   "metadata": {},
   "outputs": [
    {
     "data": {
      "text/plain": [
       "count    2316.000000\n",
       "mean       98.307254\n",
       "std        16.252634\n",
       "min        56.200000\n",
       "25%        86.675000\n",
       "50%        97.000000\n",
       "75%       107.625000\n",
       "max       176.000000\n",
       "Name: WaistCirc, dtype: float64"
      ]
     },
     "execution_count": 17,
     "metadata": {},
     "output_type": "execute_result"
    }
   ],
   "source": [
    "df['WaistCirc'].describe()"
   ]
  },
  {
   "cell_type": "code",
   "execution_count": 255,
   "id": "0f461ad7",
   "metadata": {},
   "outputs": [],
   "source": [
    "# using Median because median value is around 97 cm and the normal proportion of most people having \n",
    "# waist circle is around 94cm to 102cm"
   ]
  },
  {
   "cell_type": "code",
   "execution_count": 18,
   "id": "255436bc",
   "metadata": {},
   "outputs": [
    {
     "data": {
      "text/plain": [
       "0"
      ]
     },
     "execution_count": 18,
     "metadata": {},
     "output_type": "execute_result"
    }
   ],
   "source": [
    "df['WaistCirc'] = df['WaistCirc'].fillna(df['WaistCirc'].median())\n",
    "df['WaistCirc'].isna().sum()"
   ]
  },
  {
   "cell_type": "markdown",
   "id": "45f0bfa6",
   "metadata": {},
   "source": [
    "### ii. BMI"
   ]
  },
  {
   "cell_type": "code",
   "execution_count": 19,
   "id": "19478d3b",
   "metadata": {},
   "outputs": [
    {
     "data": {
      "text/plain": [
       "26"
      ]
     },
     "execution_count": 19,
     "metadata": {},
     "output_type": "execute_result"
    }
   ],
   "source": [
    "df['BMI'].isna().sum()"
   ]
  },
  {
   "cell_type": "code",
   "execution_count": 20,
   "id": "ca254358",
   "metadata": {},
   "outputs": [
    {
     "data": {
      "text/plain": [
       "count    2375.000000\n",
       "mean       28.702189\n",
       "std         6.662242\n",
       "min        13.400000\n",
       "25%        24.000000\n",
       "50%        27.700000\n",
       "75%        32.100000\n",
       "max        68.700000\n",
       "Name: BMI, dtype: float64"
      ]
     },
     "execution_count": 20,
     "metadata": {},
     "output_type": "execute_result"
    }
   ],
   "source": [
    "df['BMI'].describe()"
   ]
  },
  {
   "cell_type": "code",
   "execution_count": 259,
   "id": "83b1ed79",
   "metadata": {},
   "outputs": [],
   "source": [
    "# Range for BMI\n",
    "# underweight = below 18.5\n",
    "# healthy = between 18.5 and 24.9\n",
    "# overweight = between 25 and 29.9\n",
    "# obese = more than 30."
   ]
  },
  {
   "cell_type": "code",
   "execution_count": 21,
   "id": "f452b935",
   "metadata": {},
   "outputs": [
    {
     "data": {
      "text/plain": [
       "<AxesSubplot:>"
      ]
     },
     "execution_count": 21,
     "metadata": {},
     "output_type": "execute_result"
    },
    {
     "data": {
      "image/png": "[encoded data removed]",
      "text/plain": [
       "<Figure size 432x288 with 1 Axes>"
      ]
     },
     "metadata": {
      "needs_background": "light"
     },
     "output_type": "display_data"
    }
   ],
   "source": [
    "df['BMI'].plot()"
   ]
  },
  {
   "cell_type": "code",
   "execution_count": 22,
   "id": "a6fe4674",
   "metadata": {},
   "outputs": [
    {
     "data": {
      "image/png": "[encoded data removed]",
      "text/plain": [
       "<Figure size 432x288 with 1 Axes>"
      ]
     },
     "metadata": {
      "needs_background": "light"
     },
     "output_type": "display_data"
    }
   ],
   "source": [
    "plt.hist(df['BMI'],edgecolor='black',bins=10)\n",
    "plt.show()"
   ]
  },
  {
   "cell_type": "code",
   "execution_count": 262,
   "id": "267c36ee",
   "metadata": {},
   "outputs": [],
   "source": [
    "# we are using median as fill value because the number of people having BMI in this range are higher."
   ]
  },
  {
   "cell_type": "code",
   "execution_count": 23,
   "id": "4f6a00cf",
   "metadata": {},
   "outputs": [
    {
     "data": {
      "text/plain": [
       "0"
      ]
     },
     "execution_count": 23,
     "metadata": {},
     "output_type": "execute_result"
    }
   ],
   "source": [
    "df['BMI'] = df['BMI'].fillna(df['BMI'].median())\n",
    "df['BMI'].isna().sum()"
   ]
  },
  {
   "cell_type": "markdown",
   "id": "bd55feb6",
   "metadata": {},
   "source": [
    "### iii. Marital"
   ]
  },
  {
   "cell_type": "code",
   "execution_count": 24,
   "id": "0dd38212",
   "metadata": {},
   "outputs": [
    {
     "data": {
      "text/plain": [
       "208"
      ]
     },
     "execution_count": 24,
     "metadata": {},
     "output_type": "execute_result"
    }
   ],
   "source": [
    "df['Marital'].isna().sum()"
   ]
  },
  {
   "cell_type": "code",
   "execution_count": 25,
   "id": "690bb832",
   "metadata": {},
   "outputs": [
    {
     "data": {
      "text/plain": [
       "0.0    1192\n",
       "1.0     498\n",
       "2.0     242\n",
       "3.0     166\n",
       "4.0      95\n",
       "Name: Marital, dtype: int64"
      ]
     },
     "execution_count": 25,
     "metadata": {},
     "output_type": "execute_result"
    }
   ],
   "source": [
    "# {'Married': 1192,\n",
    "#  'Single': 498,\n",
    "#  'Divorced': 242,\n",
    "#  'Widowed': 166,\n",
    "#  'Separated': 95}\n",
    "\n",
    "df['Marital'].value_counts()"
   ]
  },
  {
   "cell_type": "code",
   "execution_count": 26,
   "id": "2dc9f1a5",
   "metadata": {},
   "outputs": [
    {
     "data": {
      "text/plain": [
       "<AxesSubplot:ylabel='Marital'>"
      ]
     },
     "execution_count": 26,
     "metadata": {},
     "output_type": "execute_result"
    },
    {
     "data": {
      "image/png": "[encoded data removed]",
      "text/plain": [
       "<Figure size 432x288 with 1 Axes>"
      ]
     },
     "metadata": {},
     "output_type": "display_data"
    }
   ],
   "source": [
    "df['Marital'].value_counts().plot(kind='pie',autopct='%.2f')"
   ]
  },
  {
   "cell_type": "code",
   "execution_count": 267,
   "id": "0b068ca6",
   "metadata": {},
   "outputs": [],
   "source": [
    "# we are using mode here because this column has categorical value.\n",
    "# and we are taking most common value to fill the null values."
   ]
  },
  {
   "cell_type": "code",
   "execution_count": 27,
   "id": "81111151",
   "metadata": {},
   "outputs": [
    {
     "data": {
      "text/plain": [
       "<AxesSubplot:xlabel='Marital', ylabel='count'>"
      ]
     },
     "execution_count": 27,
     "metadata": {},
     "output_type": "execute_result"
    },
    {
     "data": {
      "image/png": "[encoded data removed]",
      "text/plain": [
       "<Figure size 432x288 with 1 Axes>"
      ]
     },
     "metadata": {
      "needs_background": "light"
     },
     "output_type": "display_data"
    }
   ],
   "source": [
    "sns.countplot(x ='Marital', data = df)"
   ]
  },
  {
   "cell_type": "code",
   "execution_count": 28,
   "id": "d6aa20d1",
   "metadata": {},
   "outputs": [
    {
     "data": {
      "text/plain": [
       "0"
      ]
     },
     "execution_count": 28,
     "metadata": {},
     "output_type": "execute_result"
    }
   ],
   "source": [
    "df['Marital'] = df['Marital'].fillna(df['Marital'].mode()[0])\n",
    "df['Marital'].isna().sum()"
   ]
  },
  {
   "cell_type": "code",
   "execution_count": 29,
   "id": "910eb45f",
   "metadata": {},
   "outputs": [
    {
     "data": {
      "text/plain": [
       "<AxesSubplot:xlabel='Marital', ylabel='count'>"
      ]
     },
     "execution_count": 29,
     "metadata": {},
     "output_type": "execute_result"
    },
    {
     "data": {
      "image/png": "[encoded data removed]",
      "text/plain": [
       "<Figure size 432x288 with 1 Axes>"
      ]
     },
     "metadata": {
      "needs_background": "light"
     },
     "output_type": "display_data"
    }
   ],
   "source": [
    "sns.countplot(x ='Marital', data = df)"
   ]
  },
  {
   "cell_type": "markdown",
   "id": "1a603bc0",
   "metadata": {},
   "source": [
    "### iv. Income"
   ]
  },
  {
   "cell_type": "code",
   "execution_count": 30,
   "id": "02bbdc83",
   "metadata": {},
   "outputs": [
    {
     "data": {
      "text/plain": [
       "count    2284.000000\n",
       "mean     4005.253940\n",
       "std      2954.032186\n",
       "min       300.000000\n",
       "25%      1600.000000\n",
       "50%      2500.000000\n",
       "75%      6200.000000\n",
       "max      9000.000000\n",
       "Name: Income, dtype: float64"
      ]
     },
     "execution_count": 30,
     "metadata": {},
     "output_type": "execute_result"
    }
   ],
   "source": [
    "df['Income'].describe()"
   ]
  },
  {
   "cell_type": "code",
   "execution_count": 31,
   "id": "5f65bf75",
   "metadata": {},
   "outputs": [
    {
     "data": {
      "text/html": [
       "<div>\n",
       "<style scoped>\n",
       "    .dataframe tbody tr th:only-of-type {\n",
       "        vertical-align: middle;\n",
       "    }\n",
       "\n",
       "    .dataframe tbody tr th {\n",
       "        vertical-align: top;\n",
       "    }\n",
       "\n",
       "    .dataframe thead th {\n",
       "        text-align: right;\n",
       "    }\n",
       "</style>\n",
       "<table border=\"1\" class=\"dataframe\">\n",
       "  <thead>\n",
       "    <tr style=\"text-align: right;\">\n",
       "      <th></th>\n",
       "      <th>MetabolicSyndrome</th>\n",
       "      <th>0</th>\n",
       "      <th>1</th>\n",
       "    </tr>\n",
       "    <tr>\n",
       "      <th>Income</th>\n",
       "      <th>BMI</th>\n",
       "      <th></th>\n",
       "      <th></th>\n",
       "    </tr>\n",
       "  </thead>\n",
       "  <tbody>\n",
       "    <tr>\n",
       "      <th rowspan=\"5\" valign=\"top\">300.0</th>\n",
       "      <th>17.0</th>\n",
       "      <td>1.0</td>\n",
       "      <td>0.0</td>\n",
       "    </tr>\n",
       "    <tr>\n",
       "      <th>17.1</th>\n",
       "      <td>1.0</td>\n",
       "      <td>0.0</td>\n",
       "    </tr>\n",
       "    <tr>\n",
       "      <th>17.6</th>\n",
       "      <td>1.0</td>\n",
       "      <td>0.0</td>\n",
       "    </tr>\n",
       "    <tr>\n",
       "      <th>17.7</th>\n",
       "      <td>1.0</td>\n",
       "      <td>0.0</td>\n",
       "    </tr>\n",
       "    <tr>\n",
       "      <th>17.8</th>\n",
       "      <td>1.0</td>\n",
       "      <td>0.0</td>\n",
       "    </tr>\n",
       "    <tr>\n",
       "      <th>...</th>\n",
       "      <th>...</th>\n",
       "      <td>...</td>\n",
       "      <td>...</td>\n",
       "    </tr>\n",
       "    <tr>\n",
       "      <th rowspan=\"5\" valign=\"top\">9000.0</th>\n",
       "      <th>19.0</th>\n",
       "      <td>1.0</td>\n",
       "      <td>0.0</td>\n",
       "    </tr>\n",
       "    <tr>\n",
       "      <th>42.5</th>\n",
       "      <td>0.0</td>\n",
       "      <td>1.0</td>\n",
       "    </tr>\n",
       "    <tr>\n",
       "      <th>48.2</th>\n",
       "      <td>0.0</td>\n",
       "      <td>1.0</td>\n",
       "    </tr>\n",
       "    <tr>\n",
       "      <th>59.0</th>\n",
       "      <td>0.0</td>\n",
       "      <td>1.0</td>\n",
       "    </tr>\n",
       "    <tr>\n",
       "      <th>68.7</th>\n",
       "      <td>0.0</td>\n",
       "      <td>1.0</td>\n",
       "    </tr>\n",
       "  </tbody>\n",
       "</table>\n",
       "<p>1526 rows × 2 columns</p>\n",
       "</div>"
      ],
      "text/plain": [
       "MetabolicSyndrome    0    1\n",
       "Income BMI                 \n",
       "300.0  17.0        1.0  0.0\n",
       "       17.1        1.0  0.0\n",
       "       17.6        1.0  0.0\n",
       "       17.7        1.0  0.0\n",
       "       17.8        1.0  0.0\n",
       "...                ...  ...\n",
       "9000.0 19.0        1.0  0.0\n",
       "       42.5        0.0  1.0\n",
       "       48.2        0.0  1.0\n",
       "       59.0        0.0  1.0\n",
       "       68.7        0.0  1.0\n",
       "\n",
       "[1526 rows x 2 columns]"
      ]
     },
     "execution_count": 31,
     "metadata": {},
     "output_type": "execute_result"
    }
   ],
   "source": [
    "pd.crosstab([df['Income'],df['BMI']], df['MetabolicSyndrome'], normalize = 'index')"
   ]
  },
  {
   "cell_type": "code",
   "execution_count": 32,
   "id": "f427dd0c",
   "metadata": {},
   "outputs": [
    {
     "data": {
      "text/plain": [
       "9000.0    337\n",
       "2500.0    257\n",
       "3500.0    228\n",
       "1000.0    210\n",
       "2000.0    207\n",
       "1600.0    190\n",
       "8200.0    178\n",
       "6200.0    138\n",
       "4500.0    136\n",
       "800.0     123\n",
       "5400.0    103\n",
       "300.0      93\n",
       "1700.0     54\n",
       "1500.0     30\n",
       "Name: Income, dtype: int64"
      ]
     },
     "execution_count": 32,
     "metadata": {},
     "output_type": "execute_result"
    }
   ],
   "source": [
    "df['Income'].value_counts()"
   ]
  },
  {
   "cell_type": "code",
   "execution_count": 33,
   "id": "fc4b47de",
   "metadata": {},
   "outputs": [
    {
     "data": {
      "text/plain": [
       "seqn                 0.009265\n",
       "Age                  0.208364\n",
       "Sex                  0.020355\n",
       "Marital             -0.003188\n",
       "Income              -0.065071\n",
       "Race                -0.008372\n",
       "WaistCirc            0.414156\n",
       "BMI                  0.373531\n",
       "Albuminuria          0.157026\n",
       "UrAlbCr              0.155540\n",
       "UricAcid             0.193908\n",
       "BloodGlucose         0.432501\n",
       "HDL                 -0.340988\n",
       "Triglycerides        0.394229\n",
       "MetabolicSyndrome    1.000000\n",
       "Name: MetabolicSyndrome, dtype: float64"
      ]
     },
     "execution_count": 33,
     "metadata": {},
     "output_type": "execute_result"
    }
   ],
   "source": [
    "df.corr(method = 'kendall')['MetabolicSyndrome']"
   ]
  },
  {
   "cell_type": "code",
   "execution_count": 34,
   "id": "62e947a7",
   "metadata": {},
   "outputs": [
    {
     "data": {
      "text/plain": [
       "117"
      ]
     },
     "execution_count": 34,
     "metadata": {},
     "output_type": "execute_result"
    }
   ],
   "source": [
    "df['Income'].isna().sum()"
   ]
  },
  {
   "cell_type": "code",
   "execution_count": 35,
   "id": "d1286449",
   "metadata": {},
   "outputs": [
    {
     "data": {
      "text/plain": [
       "0"
      ]
     },
     "execution_count": 35,
     "metadata": {},
     "output_type": "execute_result"
    }
   ],
   "source": [
    "df['Income'] = df['Income'].fillna(df['Income'].median())\n",
    "df['Income'].isna().sum()"
   ]
  },
  {
   "cell_type": "code",
   "execution_count": null,
   "id": "2286f5c5",
   "metadata": {},
   "outputs": [],
   "source": []
  },
  {
   "cell_type": "markdown",
   "id": "ad08fddb",
   "metadata": {},
   "source": [
    "## Handlling Outliers.."
   ]
  },
  {
   "cell_type": "markdown",
   "id": "34c6b836",
   "metadata": {},
   "source": [
    "### i. Waist Circle"
   ]
  },
  {
   "cell_type": "code",
   "execution_count": 36,
   "id": "0464b559",
   "metadata": {},
   "outputs": [
    {
     "data": {
      "text/plain": [
       "<AxesSubplot:xlabel='WaistCirc'>"
      ]
     },
     "execution_count": 36,
     "metadata": {},
     "output_type": "execute_result"
    },
    {
     "data": {
      "image/png": "[encoded data removed]",
      "text/plain": [
       "<Figure size 432x288 with 1 Axes>"
      ]
     },
     "metadata": {
      "needs_background": "light"
     },
     "output_type": "display_data"
    }
   ],
   "source": [
    "sns.boxplot(x = df['WaistCirc'])"
   ]
  },
  {
   "cell_type": "code",
   "execution_count": 37,
   "id": "84ef9d72",
   "metadata": {},
   "outputs": [
    {
     "data": {
      "text/plain": [
       "<AxesSubplot:xlabel='WaistCirc', ylabel='Density'>"
      ]
     },
     "execution_count": 37,
     "metadata": {},
     "output_type": "execute_result"
    },
    {
     "data": {
      "image/png": "[encoded data removed]",
      "text/plain": [
       "<Figure size 432x288 with 1 Axes>"
      ]
     },
     "metadata": {
      "needs_background": "light"
     },
     "output_type": "display_data"
    }
   ],
   "source": [
    "sns.kdeplot(df['WaistCirc'])"
   ]
  },
  {
   "cell_type": "code",
   "execution_count": 38,
   "id": "8e8cdc19",
   "metadata": {},
   "outputs": [
    {
     "data": {
      "text/plain": [
       "0.6542140064169628"
      ]
     },
     "execution_count": 38,
     "metadata": {},
     "output_type": "execute_result"
    }
   ],
   "source": [
    "skew(df['WaistCirc'])                  # skewnewss -0.5 to 0.5"
   ]
  },
  {
   "cell_type": "code",
   "execution_count": 39,
   "id": "12f9acc8",
   "metadata": {},
   "outputs": [
    {
     "name": "stdout",
     "output_type": "stream",
     "text": [
      "Q1 : 87.0\n",
      "Q2 : 97.0\n",
      "Q3 : 107.2\n",
      "mean : 98.26097459391929\n",
      "Upper Tail : 167.8\n",
      "Lower Tail : 26.39999999999999\n"
     ]
    }
   ],
   "source": [
    "q1 = df['WaistCirc'].quantile(0.25)\n",
    "q2 = df['WaistCirc'].quantile(0.50)\n",
    "q3 = df['WaistCirc'].quantile(0.75)\n",
    "mean = df['WaistCirc'].mean()\n",
    "print(\"Q1 :\",q1)\n",
    "print(\"Q2 :\",q2)\n",
    "print(\"Q3 :\",q3)\n",
    "print(\"mean :\",mean)\n",
    "\n",
    "iqr = q3 - q1\n",
    "\n",
    "upper_tail = q3 + 3*iqr\n",
    "lower_tail = q1 - 3*iqr\n",
    "print(\"Upper Tail :\",upper_tail)\n",
    "print(\"Lower Tail :\",lower_tail)"
   ]
  },
  {
   "cell_type": "code",
   "execution_count": 281,
   "id": "7fd8fd50",
   "metadata": {},
   "outputs": [],
   "source": [
    "#df[['WaistCirc']].loc[df['WaistCirc'] > upper_tail]"
   ]
  },
  {
   "cell_type": "code",
   "execution_count": 40,
   "id": "13f68824",
   "metadata": {},
   "outputs": [
    {
     "data": {
      "text/plain": [
       "count    2401.000000\n",
       "mean       98.260975\n",
       "std        15.964061\n",
       "min        56.200000\n",
       "25%        87.000000\n",
       "50%        97.000000\n",
       "75%       107.200000\n",
       "max       176.000000\n",
       "Name: WaistCirc, dtype: float64"
      ]
     },
     "execution_count": 40,
     "metadata": {},
     "output_type": "execute_result"
    }
   ],
   "source": [
    "df['WaistCirc'].describe()"
   ]
  },
  {
   "cell_type": "code",
   "execution_count": 283,
   "id": "87f64ef1",
   "metadata": {},
   "outputs": [],
   "source": [
    "# for i in df['WaistCirc']:\n",
    "#     q1 = df['WaistCirc'].quantile(0.25)\n",
    "#     q3 = df['WaistCirc'].quantile(0.75)\n",
    "#     IQR = q3 - q1\n",
    "#     upper_tail = q3 + 1.5*IQR\n",
    "#     lower_tail = q1 - 1.5*IQR\n",
    "#     if (i > upper_tail):\n",
    "#         df['WaistCirc'] = df['WaistCirc'].replace(i,upper_tail)\n",
    "        \n",
    "#     elif (i < lower_tail):\n",
    "#         df['WaistCirc'] = df['WaistCirc'].replace(i,lower_tail)"
   ]
  },
  {
   "cell_type": "code",
   "execution_count": 41,
   "id": "f63ffc31",
   "metadata": {},
   "outputs": [
    {
     "data": {
      "text/plain": [
       "<AxesSubplot:xlabel='WaistCirc'>"
      ]
     },
     "execution_count": 41,
     "metadata": {},
     "output_type": "execute_result"
    },
    {
     "data": {
      "image/png": "[encoded data removed]",
      "text/plain": [
       "<Figure size 432x288 with 1 Axes>"
      ]
     },
     "metadata": {
      "needs_background": "light"
     },
     "output_type": "display_data"
    }
   ],
   "source": [
    "sns.boxplot(df['WaistCirc'])"
   ]
  },
  {
   "cell_type": "markdown",
   "id": "6afbd5e3",
   "metadata": {},
   "source": [
    "### ii. BMI "
   ]
  },
  {
   "cell_type": "code",
   "execution_count": 42,
   "id": "9fec9bf6",
   "metadata": {},
   "outputs": [
    {
     "data": {
      "text/plain": [
       "count    2401.000000\n",
       "mean       28.691337\n",
       "std         6.626869\n",
       "min        13.400000\n",
       "25%        24.000000\n",
       "50%        27.700000\n",
       "75%        32.000000\n",
       "max        68.700000\n",
       "Name: BMI, dtype: float64"
      ]
     },
     "execution_count": 42,
     "metadata": {},
     "output_type": "execute_result"
    }
   ],
   "source": [
    "df['BMI'].describe()"
   ]
  },
  {
   "cell_type": "code",
   "execution_count": 43,
   "id": "737318be",
   "metadata": {},
   "outputs": [
    {
     "data": {
      "text/plain": [
       "<AxesSubplot:xlabel='BMI'>"
      ]
     },
     "execution_count": 43,
     "metadata": {},
     "output_type": "execute_result"
    },
    {
     "data": {
      "image/png": "[encoded data removed]",
      "text/plain": [
       "<Figure size 432x288 with 1 Axes>"
      ]
     },
     "metadata": {
      "needs_background": "light"
     },
     "output_type": "display_data"
    }
   ],
   "source": [
    "sns.boxplot(df['BMI'])"
   ]
  },
  {
   "cell_type": "code",
   "execution_count": 44,
   "id": "d4e7b92d",
   "metadata": {},
   "outputs": [
    {
     "data": {
      "text/plain": [
       "<AxesSubplot:xlabel='BMI', ylabel='Density'>"
      ]
     },
     "execution_count": 44,
     "metadata": {},
     "output_type": "execute_result"
    },
    {
     "data": {
      "image/png": "[encoded data removed]",
      "text/plain": [
       "<Figure size 432x288 with 1 Axes>"
      ]
     },
     "metadata": {
      "needs_background": "light"
     },
     "output_type": "display_data"
    }
   ],
   "source": [
    "sns.kdeplot(df['BMI'])"
   ]
  },
  {
   "cell_type": "code",
   "execution_count": 45,
   "id": "a51f88cd",
   "metadata": {},
   "outputs": [
    {
     "name": "stdout",
     "output_type": "stream",
     "text": [
      "Q1 : 24.0\n",
      "Q2 : 27.7\n",
      "Q3 : 32.0\n",
      "mean : 28.691336942940428\n",
      "Upper Tail : 44.0\n",
      "Lower Tail : 12.0\n"
     ]
    }
   ],
   "source": [
    "q1 = df[\"BMI\"].quantile(0.25)\n",
    "q2 = df[\"BMI\"].quantile(0.50)\n",
    "q3 = df[\"BMI\"].quantile(0.75)\n",
    "mean = df[\"BMI\"].mean()\n",
    "print(\"Q1 :\",q1)\n",
    "print(\"Q2 :\",q2)\n",
    "print(\"Q3 :\",q3)\n",
    "print(\"mean :\",mean)\n",
    "\n",
    "iqr = q3 - q1\n",
    "\n",
    "upper_tail = q3 + 1.5*iqr\n",
    "lower_tail = q1 - 1.5*iqr\n",
    "print(\"Upper Tail :\",upper_tail)\n",
    "print(\"Lower Tail :\",lower_tail)"
   ]
  },
  {
   "cell_type": "code",
   "execution_count": 289,
   "id": "334cf27e",
   "metadata": {},
   "outputs": [],
   "source": [
    "# for i in df[\"BMI\"]:\n",
    "#     q1 = df[\"BMI\"].quantile(0.25)\n",
    "#     q3 = df[\"BMI\"].quantile(0.75)\n",
    "#     IQR = q3 - q1\n",
    "#     upper_tail = q3 + 1.5*IQR\n",
    "#     lower_tail = q1 - 1.5*IQR\n",
    "#     if (i < lower_tail) or (i > upper_tail):\n",
    "#         df[\"BMI\"] = df[\"BMI\"].replace(i,np.median(df[\"BMI\"]))"
   ]
  },
  {
   "cell_type": "code",
   "execution_count": 46,
   "id": "75fe699e",
   "metadata": {},
   "outputs": [
    {
     "data": {
      "text/plain": [
       "<AxesSubplot:xlabel='BMI'>"
      ]
     },
     "execution_count": 46,
     "metadata": {},
     "output_type": "execute_result"
    },
    {
     "data": {
      "image/png": "[encoded data removed]",
      "text/plain": [
       "<Figure size 432x288 with 1 Axes>"
      ]
     },
     "metadata": {
      "needs_background": "light"
     },
     "output_type": "display_data"
    }
   ],
   "source": [
    "sns.boxplot(df['BMI'])"
   ]
  },
  {
   "cell_type": "code",
   "execution_count": 47,
   "id": "d8b79157",
   "metadata": {},
   "outputs": [
    {
     "data": {
      "text/plain": [
       "<AxesSubplot:xlabel='BMI', ylabel='Density'>"
      ]
     },
     "execution_count": 47,
     "metadata": {},
     "output_type": "execute_result"
    },
    {
     "data": {
      "image/png": "[encoded data removed]",
      "text/plain": [
       "<Figure size 432x288 with 1 Axes>"
      ]
     },
     "metadata": {
      "needs_background": "light"
     },
     "output_type": "display_data"
    }
   ],
   "source": [
    "sns.kdeplot(df['BMI'])"
   ]
  },
  {
   "cell_type": "code",
   "execution_count": 48,
   "id": "248f0dff",
   "metadata": {},
   "outputs": [
    {
     "data": {
      "text/plain": [
       "1.1322193859471514"
      ]
     },
     "execution_count": 48,
     "metadata": {},
     "output_type": "execute_result"
    }
   ],
   "source": [
    "skew(df['BMI'])"
   ]
  },
  {
   "cell_type": "code",
   "execution_count": 49,
   "id": "c7970eda",
   "metadata": {},
   "outputs": [
    {
     "data": {
      "text/plain": [
       "seqn                 0.011364\n",
       "Age                  0.248618\n",
       "Sex                  0.020355\n",
       "Marital              0.022793\n",
       "Income              -0.078950\n",
       "Race                 0.004521\n",
       "WaistCirc            0.491376\n",
       "BMI                  0.429441\n",
       "Albuminuria          0.158501\n",
       "UrAlbCr              0.085168\n",
       "UricAcid             0.246423\n",
       "BloodGlucose         0.362219\n",
       "HDL                 -0.371378\n",
       "Triglycerides        0.427241\n",
       "MetabolicSyndrome    1.000000\n",
       "Name: MetabolicSyndrome, dtype: float64"
      ]
     },
     "execution_count": 49,
     "metadata": {},
     "output_type": "execute_result"
    }
   ],
   "source": [
    "df.corr()['MetabolicSyndrome']"
   ]
  },
  {
   "cell_type": "code",
   "execution_count": 50,
   "id": "7064ea51",
   "metadata": {},
   "outputs": [
    {
     "name": "stdout",
     "output_type": "stream",
     "text": [
      "<class 'pandas.core.frame.DataFrame'>\n",
      "RangeIndex: 2401 entries, 0 to 2400\n",
      "Data columns (total 15 columns):\n",
      " #   Column             Non-Null Count  Dtype  \n",
      "---  ------             --------------  -----  \n",
      " 0   seqn               2401 non-null   int64  \n",
      " 1   Age                2401 non-null   int64  \n",
      " 2   Sex                2401 non-null   int64  \n",
      " 3   Marital            2401 non-null   float64\n",
      " 4   Income             2401 non-null   float64\n",
      " 5   Race               2401 non-null   int64  \n",
      " 6   WaistCirc          2401 non-null   float64\n",
      " 7   BMI                2401 non-null   float64\n",
      " 8   Albuminuria        2401 non-null   int64  \n",
      " 9   UrAlbCr            2401 non-null   float64\n",
      " 10  UricAcid           2401 non-null   float64\n",
      " 11  BloodGlucose       2401 non-null   int64  \n",
      " 12  HDL                2401 non-null   int64  \n",
      " 13  Triglycerides      2401 non-null   int64  \n",
      " 14  MetabolicSyndrome  2401 non-null   int64  \n",
      "dtypes: float64(6), int64(9)\n",
      "memory usage: 281.5 KB\n"
     ]
    }
   ],
   "source": [
    "df.info()"
   ]
  },
  {
   "cell_type": "code",
   "execution_count": 51,
   "id": "a3a09ab8",
   "metadata": {},
   "outputs": [
    {
     "data": {
      "image/png": "[encoded data removed]",
      "text/plain": [
       "<Figure size 1440x720 with 15 Axes>"
      ]
     },
     "metadata": {
      "needs_background": "light"
     },
     "output_type": "display_data"
    }
   ],
   "source": [
    "plt.figure(figsize = (20, 10))\n",
    "x = 1 \n",
    "\n",
    "for column in df.describe().columns:\n",
    "    plt.subplot(6,4,x)\n",
    "    sns.boxplot(df[column])\n",
    "    x+=1\n",
    "    \n",
    "plt.tight_layout()"
   ]
  },
  {
   "cell_type": "markdown",
   "id": "30f6f98d",
   "metadata": {},
   "source": [
    "###  Albuminuria "
   ]
  },
  {
   "cell_type": "code",
   "execution_count": 296,
   "id": "7304fb45",
   "metadata": {},
   "outputs": [],
   "source": [
    "# Albuminuria has 3 categories: A1, A2 & A3."
   ]
  },
  {
   "cell_type": "markdown",
   "id": "87d705a1",
   "metadata": {},
   "source": [
    "|Category||ACR (mg/g)||Terms|\n",
    "|------||--------||--------|\n",
    "|A1||<30||Normal to mildly increased|\n",
    "|A2||30-300||Moderately increased*|\n",
    "|A3||>300||Severely increased**|\n"
   ]
  },
  {
   "cell_type": "code",
   "execution_count": 52,
   "id": "1ea681e4",
   "metadata": {},
   "outputs": [
    {
     "data": {
      "text/plain": [
       "0    2089\n",
       "1     254\n",
       "2      58\n",
       "Name: Albuminuria, dtype: int64"
      ]
     },
     "execution_count": 52,
     "metadata": {},
     "output_type": "execute_result"
    }
   ],
   "source": [
    "df['Albuminuria'].value_counts()"
   ]
  },
  {
   "cell_type": "code",
   "execution_count": 53,
   "id": "05ed525b",
   "metadata": {},
   "outputs": [
    {
     "data": {
      "text/plain": [
       "5.00     18\n",
       "10.00    12\n",
       "6.67     10\n",
       "5.38     10\n",
       "5.56      9\n",
       "         ..\n",
       "15.92     1\n",
       "15.04     1\n",
       "14.64     1\n",
       "19.22     1\n",
       "12.82     1\n",
       "Name: UrAlbCr, Length: 1383, dtype: int64"
      ]
     },
     "execution_count": 53,
     "metadata": {},
     "output_type": "execute_result"
    }
   ],
   "source": [
    "df['UrAlbCr'].value_counts()"
   ]
  },
  {
   "cell_type": "code",
   "execution_count": 54,
   "id": "4f8f0410",
   "metadata": {},
   "outputs": [
    {
     "data": {
      "text/plain": [
       "5.2     77\n",
       "5.8     75\n",
       "4.6     71\n",
       "5.4     69\n",
       "5.0     69\n",
       "        ..\n",
       "1.9      1\n",
       "9.6      1\n",
       "11.3     1\n",
       "9.7      1\n",
       "2.2      1\n",
       "Name: UricAcid, Length: 88, dtype: int64"
      ]
     },
     "execution_count": 54,
     "metadata": {},
     "output_type": "execute_result"
    }
   ],
   "source": [
    "df['UricAcid'].value_counts()"
   ]
  },
  {
   "cell_type": "code",
   "execution_count": 55,
   "id": "75b0694f",
   "metadata": {},
   "outputs": [
    {
     "data": {
      "text/plain": [
       "0    1579\n",
       "1     822\n",
       "Name: MetabolicSyndrome, dtype: int64"
      ]
     },
     "execution_count": 55,
     "metadata": {},
     "output_type": "execute_result"
    }
   ],
   "source": [
    "df['MetabolicSyndrome'].value_counts() # 0 = negative, 1 = positive"
   ]
  },
  {
   "cell_type": "code",
   "execution_count": 56,
   "id": "801bc52e",
   "metadata": {},
   "outputs": [
    {
     "data": {
      "text/plain": [
       "<AxesSubplot:ylabel='MetabolicSyndrome'>"
      ]
     },
     "execution_count": 56,
     "metadata": {},
     "output_type": "execute_result"
    },
    {
     "data": {
      "image/png": "[encoded data removed]",
      "text/plain": [
       "<Figure size 432x288 with 1 Axes>"
      ]
     },
     "metadata": {},
     "output_type": "display_data"
    }
   ],
   "source": [
    "df['MetabolicSyndrome'].value_counts().plot(kind='pie',autopct='%.2f')"
   ]
  },
  {
   "cell_type": "code",
   "execution_count": 57,
   "id": "c477d22e",
   "metadata": {},
   "outputs": [
    {
     "data": {
      "text/html": [
       "<div>\n",
       "<style scoped>\n",
       "    .dataframe tbody tr th:only-of-type {\n",
       "        vertical-align: middle;\n",
       "    }\n",
       "\n",
       "    .dataframe tbody tr th {\n",
       "        vertical-align: top;\n",
       "    }\n",
       "\n",
       "    .dataframe thead th {\n",
       "        text-align: right;\n",
       "    }\n",
       "</style>\n",
       "<table border=\"1\" class=\"dataframe\">\n",
       "  <thead>\n",
       "    <tr style=\"text-align: right;\">\n",
       "      <th></th>\n",
       "      <th>Column</th>\n",
       "      <th>Dtype</th>\n",
       "      <th>Null</th>\n",
       "      <th>Null (%)</th>\n",
       "      <th>nUnique</th>\n",
       "      <th>Unique</th>\n",
       "    </tr>\n",
       "  </thead>\n",
       "  <tbody>\n",
       "    <tr>\n",
       "      <th>0</th>\n",
       "      <td>seqn</td>\n",
       "      <td>int64</td>\n",
       "      <td>0</td>\n",
       "      <td>0.0</td>\n",
       "      <td>2401</td>\n",
       "      <td>[62161, 62164, 62169, 62172, 62177, 62178, 621...</td>\n",
       "    </tr>\n",
       "    <tr>\n",
       "      <th>1</th>\n",
       "      <td>Age</td>\n",
       "      <td>int64</td>\n",
       "      <td>0</td>\n",
       "      <td>0.0</td>\n",
       "      <td>61</td>\n",
       "      <td>[22, 44, 21, 43, 51, 80, 26, 30, 70, 35, 57, 3...</td>\n",
       "    </tr>\n",
       "    <tr>\n",
       "      <th>2</th>\n",
       "      <td>Sex</td>\n",
       "      <td>int64</td>\n",
       "      <td>0</td>\n",
       "      <td>0.0</td>\n",
       "      <td>2</td>\n",
       "      <td>[1, 0]</td>\n",
       "    </tr>\n",
       "    <tr>\n",
       "      <th>3</th>\n",
       "      <td>Marital</td>\n",
       "      <td>float64</td>\n",
       "      <td>0</td>\n",
       "      <td>0.0</td>\n",
       "      <td>5</td>\n",
       "      <td>[1.0, 0.0, 3.0, 2.0, 4.0]</td>\n",
       "    </tr>\n",
       "    <tr>\n",
       "      <th>4</th>\n",
       "      <td>Income</td>\n",
       "      <td>float64</td>\n",
       "      <td>0</td>\n",
       "      <td>0.0</td>\n",
       "      <td>14</td>\n",
       "      <td>[8200.0, 4500.0, 800.0, 2000.0, 2500.0, 300.0,...</td>\n",
       "    </tr>\n",
       "    <tr>\n",
       "      <th>5</th>\n",
       "      <td>Race</td>\n",
       "      <td>int64</td>\n",
       "      <td>0</td>\n",
       "      <td>0.0</td>\n",
       "      <td>6</td>\n",
       "      <td>[1, 3, 2, 5, 4, 6]</td>\n",
       "    </tr>\n",
       "    <tr>\n",
       "      <th>6</th>\n",
       "      <td>WaistCirc</td>\n",
       "      <td>float64</td>\n",
       "      <td>0</td>\n",
       "      <td>0.0</td>\n",
       "      <td>635</td>\n",
       "      <td>[81.0, 80.1, 69.6, 120.4, 81.1, 112.5, 78.6, 8...</td>\n",
       "    </tr>\n",
       "    <tr>\n",
       "      <th>7</th>\n",
       "      <td>BMI</td>\n",
       "      <td>float64</td>\n",
       "      <td>0</td>\n",
       "      <td>0.0</td>\n",
       "      <td>322</td>\n",
       "      <td>[23.3, 23.2, 20.1, 33.3, 28.5, 22.1, 22.4, 27....</td>\n",
       "    </tr>\n",
       "    <tr>\n",
       "      <th>8</th>\n",
       "      <td>Albuminuria</td>\n",
       "      <td>int64</td>\n",
       "      <td>0</td>\n",
       "      <td>0.0</td>\n",
       "      <td>3</td>\n",
       "      <td>[0, 1, 2]</td>\n",
       "    </tr>\n",
       "    <tr>\n",
       "      <th>9</th>\n",
       "      <td>UrAlbCr</td>\n",
       "      <td>float64</td>\n",
       "      <td>0</td>\n",
       "      <td>0.0</td>\n",
       "      <td>1383</td>\n",
       "      <td>[3.88, 8.55, 5.07, 5.22, 8.13, 9.79, 9.21, 8.7...</td>\n",
       "    </tr>\n",
       "    <tr>\n",
       "      <th>10</th>\n",
       "      <td>UricAcid</td>\n",
       "      <td>float64</td>\n",
       "      <td>0</td>\n",
       "      <td>0.0</td>\n",
       "      <td>88</td>\n",
       "      <td>[4.9, 4.5, 5.4, 5.0, 4.8, 6.7, 6.0, 8.8, 3.6, ...</td>\n",
       "    </tr>\n",
       "    <tr>\n",
       "      <th>11</th>\n",
       "      <td>BloodGlucose</td>\n",
       "      <td>int64</td>\n",
       "      <td>0</td>\n",
       "      <td>0.0</td>\n",
       "      <td>187</td>\n",
       "      <td>[92, 82, 107, 104, 95, 105, 87, 83, 96, 94, 10...</td>\n",
       "    </tr>\n",
       "    <tr>\n",
       "      <th>12</th>\n",
       "      <td>HDL</td>\n",
       "      <td>int64</td>\n",
       "      <td>0</td>\n",
       "      <td>0.0</td>\n",
       "      <td>93</td>\n",
       "      <td>[41, 28, 43, 73, 47, 61, 48, 35, 46, 58, 40, 3...</td>\n",
       "    </tr>\n",
       "    <tr>\n",
       "      <th>13</th>\n",
       "      <td>Triglycerides</td>\n",
       "      <td>int64</td>\n",
       "      <td>0</td>\n",
       "      <td>0.0</td>\n",
       "      <td>345</td>\n",
       "      <td>[84, 56, 78, 141, 126, 100, 40, 91, 75, 86, 98...</td>\n",
       "    </tr>\n",
       "    <tr>\n",
       "      <th>14</th>\n",
       "      <td>MetabolicSyndrome</td>\n",
       "      <td>int64</td>\n",
       "      <td>0</td>\n",
       "      <td>0.0</td>\n",
       "      <td>2</td>\n",
       "      <td>[0, 1]</td>\n",
       "    </tr>\n",
       "  </tbody>\n",
       "</table>\n",
       "</div>"
      ],
      "text/plain": [
       "               Column    Dtype  Null  Null (%)  nUnique  \\\n",
       "0                seqn    int64     0       0.0     2401   \n",
       "1                 Age    int64     0       0.0       61   \n",
       "2                 Sex    int64     0       0.0        2   \n",
       "3             Marital  float64     0       0.0        5   \n",
       "4              Income  float64     0       0.0       14   \n",
       "5                Race    int64     0       0.0        6   \n",
       "6           WaistCirc  float64     0       0.0      635   \n",
       "7                 BMI  float64     0       0.0      322   \n",
       "8         Albuminuria    int64     0       0.0        3   \n",
       "9             UrAlbCr  float64     0       0.0     1383   \n",
       "10           UricAcid  float64     0       0.0       88   \n",
       "11       BloodGlucose    int64     0       0.0      187   \n",
       "12                HDL    int64     0       0.0       93   \n",
       "13      Triglycerides    int64     0       0.0      345   \n",
       "14  MetabolicSyndrome    int64     0       0.0        2   \n",
       "\n",
       "                                               Unique  \n",
       "0   [62161, 62164, 62169, 62172, 62177, 62178, 621...  \n",
       "1   [22, 44, 21, 43, 51, 80, 26, 30, 70, 35, 57, 3...  \n",
       "2                                              [1, 0]  \n",
       "3                           [1.0, 0.0, 3.0, 2.0, 4.0]  \n",
       "4   [8200.0, 4500.0, 800.0, 2000.0, 2500.0, 300.0,...  \n",
       "5                                  [1, 3, 2, 5, 4, 6]  \n",
       "6   [81.0, 80.1, 69.6, 120.4, 81.1, 112.5, 78.6, 8...  \n",
       "7   [23.3, 23.2, 20.1, 33.3, 28.5, 22.1, 22.4, 27....  \n",
       "8                                           [0, 1, 2]  \n",
       "9   [3.88, 8.55, 5.07, 5.22, 8.13, 9.79, 9.21, 8.7...  \n",
       "10  [4.9, 4.5, 5.4, 5.0, 4.8, 6.7, 6.0, 8.8, 3.6, ...  \n",
       "11  [92, 82, 107, 104, 95, 105, 87, 83, 96, 94, 10...  \n",
       "12  [41, 28, 43, 73, 47, 61, 48, 35, 46, 58, 40, 3...  \n",
       "13  [84, 56, 78, 141, 126, 100, 40, 91, 75, 86, 98...  \n",
       "14                                             [0, 1]  "
      ]
     },
     "execution_count": 57,
     "metadata": {},
     "output_type": "execute_result"
    }
   ],
   "source": [
    "df_descr = []\n",
    "j = 0\n",
    "for name in df.columns:\n",
    "      df_descr.append(\n",
    "      [\n",
    "       name,\n",
    "       df[name].dtypes,\n",
    "       df[name].isnull().sum(),\n",
    "       round(df[name].isnull().sum()/len(df)*100, 2),\n",
    "       df[name].nunique(),\n",
    "       df[name].unique(),\n",
    "       ]\n",
    "       )\n",
    "j += 1\n",
    "\n",
    "df_columns_desc = pd.DataFrame(df_descr, columns = ['Column', 'Dtype', 'Null', 'Null (%)', 'nUnique', 'Unique'])\n",
    "df_columns_desc"
   ]
  },
  {
   "cell_type": "code",
   "execution_count": 58,
   "id": "b885e62d",
   "metadata": {},
   "outputs": [
    {
     "data": {
      "text/html": [
       "<div>\n",
       "<style scoped>\n",
       "    .dataframe tbody tr th:only-of-type {\n",
       "        vertical-align: middle;\n",
       "    }\n",
       "\n",
       "    .dataframe tbody tr th {\n",
       "        vertical-align: top;\n",
       "    }\n",
       "\n",
       "    .dataframe thead th {\n",
       "        text-align: right;\n",
       "    }\n",
       "</style>\n",
       "<table border=\"1\" class=\"dataframe\">\n",
       "  <thead>\n",
       "    <tr style=\"text-align: right;\">\n",
       "      <th></th>\n",
       "      <th>Age</th>\n",
       "      <th>Sex</th>\n",
       "      <th>Marital</th>\n",
       "      <th>Income</th>\n",
       "      <th>Race</th>\n",
       "      <th>WaistCirc</th>\n",
       "      <th>BMI</th>\n",
       "      <th>Albuminuria</th>\n",
       "      <th>UrAlbCr</th>\n",
       "      <th>UricAcid</th>\n",
       "      <th>BloodGlucose</th>\n",
       "      <th>HDL</th>\n",
       "      <th>Triglycerides</th>\n",
       "      <th>MetabolicSyndrome</th>\n",
       "    </tr>\n",
       "  </thead>\n",
       "  <tbody>\n",
       "    <tr>\n",
       "      <th>0</th>\n",
       "      <td>22</td>\n",
       "      <td>1</td>\n",
       "      <td>1.0</td>\n",
       "      <td>8200.0</td>\n",
       "      <td>1</td>\n",
       "      <td>81.0</td>\n",
       "      <td>23.3</td>\n",
       "      <td>0</td>\n",
       "      <td>3.88</td>\n",
       "      <td>4.9</td>\n",
       "      <td>92</td>\n",
       "      <td>41</td>\n",
       "      <td>84</td>\n",
       "      <td>0</td>\n",
       "    </tr>\n",
       "    <tr>\n",
       "      <th>1</th>\n",
       "      <td>44</td>\n",
       "      <td>0</td>\n",
       "      <td>0.0</td>\n",
       "      <td>4500.0</td>\n",
       "      <td>1</td>\n",
       "      <td>80.1</td>\n",
       "      <td>23.2</td>\n",
       "      <td>0</td>\n",
       "      <td>8.55</td>\n",
       "      <td>4.5</td>\n",
       "      <td>82</td>\n",
       "      <td>28</td>\n",
       "      <td>56</td>\n",
       "      <td>0</td>\n",
       "    </tr>\n",
       "    <tr>\n",
       "      <th>2</th>\n",
       "      <td>21</td>\n",
       "      <td>1</td>\n",
       "      <td>1.0</td>\n",
       "      <td>800.0</td>\n",
       "      <td>3</td>\n",
       "      <td>69.6</td>\n",
       "      <td>20.1</td>\n",
       "      <td>0</td>\n",
       "      <td>5.07</td>\n",
       "      <td>5.4</td>\n",
       "      <td>107</td>\n",
       "      <td>43</td>\n",
       "      <td>78</td>\n",
       "      <td>0</td>\n",
       "    </tr>\n",
       "    <tr>\n",
       "      <th>3</th>\n",
       "      <td>43</td>\n",
       "      <td>0</td>\n",
       "      <td>1.0</td>\n",
       "      <td>2000.0</td>\n",
       "      <td>2</td>\n",
       "      <td>120.4</td>\n",
       "      <td>33.3</td>\n",
       "      <td>0</td>\n",
       "      <td>5.22</td>\n",
       "      <td>5.0</td>\n",
       "      <td>104</td>\n",
       "      <td>73</td>\n",
       "      <td>141</td>\n",
       "      <td>0</td>\n",
       "    </tr>\n",
       "    <tr>\n",
       "      <th>4</th>\n",
       "      <td>51</td>\n",
       "      <td>1</td>\n",
       "      <td>0.0</td>\n",
       "      <td>2500.0</td>\n",
       "      <td>3</td>\n",
       "      <td>81.1</td>\n",
       "      <td>20.1</td>\n",
       "      <td>0</td>\n",
       "      <td>8.13</td>\n",
       "      <td>5.0</td>\n",
       "      <td>95</td>\n",
       "      <td>43</td>\n",
       "      <td>126</td>\n",
       "      <td>0</td>\n",
       "    </tr>\n",
       "    <tr>\n",
       "      <th>...</th>\n",
       "      <td>...</td>\n",
       "      <td>...</td>\n",
       "      <td>...</td>\n",
       "      <td>...</td>\n",
       "      <td>...</td>\n",
       "      <td>...</td>\n",
       "      <td>...</td>\n",
       "      <td>...</td>\n",
       "      <td>...</td>\n",
       "      <td>...</td>\n",
       "      <td>...</td>\n",
       "      <td>...</td>\n",
       "      <td>...</td>\n",
       "      <td>...</td>\n",
       "    </tr>\n",
       "    <tr>\n",
       "      <th>2396</th>\n",
       "      <td>48</td>\n",
       "      <td>0</td>\n",
       "      <td>0.0</td>\n",
       "      <td>1000.0</td>\n",
       "      <td>6</td>\n",
       "      <td>97.0</td>\n",
       "      <td>59.7</td>\n",
       "      <td>0</td>\n",
       "      <td>22.11</td>\n",
       "      <td>5.8</td>\n",
       "      <td>152</td>\n",
       "      <td>57</td>\n",
       "      <td>107</td>\n",
       "      <td>0</td>\n",
       "    </tr>\n",
       "    <tr>\n",
       "      <th>2397</th>\n",
       "      <td>30</td>\n",
       "      <td>0</td>\n",
       "      <td>1.0</td>\n",
       "      <td>2000.0</td>\n",
       "      <td>3</td>\n",
       "      <td>97.0</td>\n",
       "      <td>18.0</td>\n",
       "      <td>0</td>\n",
       "      <td>2.90</td>\n",
       "      <td>7.9</td>\n",
       "      <td>91</td>\n",
       "      <td>90</td>\n",
       "      <td>91</td>\n",
       "      <td>0</td>\n",
       "    </tr>\n",
       "    <tr>\n",
       "      <th>2398</th>\n",
       "      <td>28</td>\n",
       "      <td>1</td>\n",
       "      <td>1.0</td>\n",
       "      <td>800.0</td>\n",
       "      <td>5</td>\n",
       "      <td>100.8</td>\n",
       "      <td>29.4</td>\n",
       "      <td>0</td>\n",
       "      <td>2.78</td>\n",
       "      <td>6.2</td>\n",
       "      <td>99</td>\n",
       "      <td>47</td>\n",
       "      <td>84</td>\n",
       "      <td>0</td>\n",
       "    </tr>\n",
       "    <tr>\n",
       "      <th>2399</th>\n",
       "      <td>27</td>\n",
       "      <td>1</td>\n",
       "      <td>0.0</td>\n",
       "      <td>8200.0</td>\n",
       "      <td>5</td>\n",
       "      <td>106.6</td>\n",
       "      <td>31.3</td>\n",
       "      <td>0</td>\n",
       "      <td>4.15</td>\n",
       "      <td>6.2</td>\n",
       "      <td>100</td>\n",
       "      <td>41</td>\n",
       "      <td>124</td>\n",
       "      <td>1</td>\n",
       "    </tr>\n",
       "    <tr>\n",
       "      <th>2400</th>\n",
       "      <td>60</td>\n",
       "      <td>1</td>\n",
       "      <td>1.0</td>\n",
       "      <td>6200.0</td>\n",
       "      <td>1</td>\n",
       "      <td>106.6</td>\n",
       "      <td>27.5</td>\n",
       "      <td>0</td>\n",
       "      <td>12.82</td>\n",
       "      <td>5.2</td>\n",
       "      <td>91</td>\n",
       "      <td>36</td>\n",
       "      <td>226</td>\n",
       "      <td>1</td>\n",
       "    </tr>\n",
       "  </tbody>\n",
       "</table>\n",
       "<p>2401 rows × 14 columns</p>\n",
       "</div>"
      ],
      "text/plain": [
       "      Age  Sex  Marital  Income  Race  WaistCirc   BMI  Albuminuria  UrAlbCr  \\\n",
       "0      22    1      1.0  8200.0     1       81.0  23.3            0     3.88   \n",
       "1      44    0      0.0  4500.0     1       80.1  23.2            0     8.55   \n",
       "2      21    1      1.0   800.0     3       69.6  20.1            0     5.07   \n",
       "3      43    0      1.0  2000.0     2      120.4  33.3            0     5.22   \n",
       "4      51    1      0.0  2500.0     3       81.1  20.1            0     8.13   \n",
       "...   ...  ...      ...     ...   ...        ...   ...          ...      ...   \n",
       "2396   48    0      0.0  1000.0     6       97.0  59.7            0    22.11   \n",
       "2397   30    0      1.0  2000.0     3       97.0  18.0            0     2.90   \n",
       "2398   28    1      1.0   800.0     5      100.8  29.4            0     2.78   \n",
       "2399   27    1      0.0  8200.0     5      106.6  31.3            0     4.15   \n",
       "2400   60    1      1.0  6200.0     1      106.6  27.5            0    12.82   \n",
       "\n",
       "      UricAcid  BloodGlucose  HDL  Triglycerides  MetabolicSyndrome  \n",
       "0          4.9            92   41             84                  0  \n",
       "1          4.5            82   28             56                  0  \n",
       "2          5.4           107   43             78                  0  \n",
       "3          5.0           104   73            141                  0  \n",
       "4          5.0            95   43            126                  0  \n",
       "...        ...           ...  ...            ...                ...  \n",
       "2396       5.8           152   57            107                  0  \n",
       "2397       7.9            91   90             91                  0  \n",
       "2398       6.2            99   47             84                  0  \n",
       "2399       6.2           100   41            124                  1  \n",
       "2400       5.2            91   36            226                  1  \n",
       "\n",
       "[2401 rows x 14 columns]"
      ]
     },
     "execution_count": 58,
     "metadata": {},
     "output_type": "execute_result"
    }
   ],
   "source": [
    "df =df.drop(columns = ['seqn'])\n",
    "df"
   ]
  },
  {
   "cell_type": "markdown",
   "id": "7e0a47eb",
   "metadata": {},
   "source": [
    "# SMOTE - Sampling"
   ]
  },
  {
   "cell_type": "code",
   "execution_count": 59,
   "id": "0eddcf24",
   "metadata": {},
   "outputs": [
    {
     "data": {
      "text/plain": [
       "0    1579\n",
       "1     822\n",
       "Name: MetabolicSyndrome, dtype: int64"
      ]
     },
     "execution_count": 59,
     "metadata": {},
     "output_type": "execute_result"
    }
   ],
   "source": [
    "df['MetabolicSyndrome'].value_counts()"
   ]
  },
  {
   "cell_type": "code",
   "execution_count": 60,
   "id": "a31fe64b",
   "metadata": {},
   "outputs": [],
   "source": [
    "from imblearn.over_sampling import SMOTE\n",
    "smote = SMOTE()"
   ]
  },
  {
   "cell_type": "code",
   "execution_count": 61,
   "id": "fe608ca7",
   "metadata": {},
   "outputs": [],
   "source": [
    "x = df.drop(\"MetabolicSyndrome\",axis = 1)\n",
    "y = df['MetabolicSyndrome']\n",
    "\n",
    "#x_train, x_test, y_train, y_test = train_test_split(x,y,test_size=0.35, random_state=22, stratify=y)"
   ]
  },
  {
   "cell_type": "code",
   "execution_count": 62,
   "id": "a45e6d05",
   "metadata": {},
   "outputs": [
    {
     "data": {
      "text/plain": [
       "0    1579\n",
       "1    1421\n",
       "Name: MetabolicSyndrome, dtype: int64"
      ]
     },
     "execution_count": 62,
     "metadata": {},
     "output_type": "execute_result"
    }
   ],
   "source": [
    "smt = SMOTE(sampling_strategy=0.90,random_state=None,k_neighbors=5)\n",
    "x_sampled, y_sampled = smt.fit_resample(x,y)\n",
    "y_sampled.value_counts()\n",
    "#y.value_counts()"
   ]
  },
  {
   "cell_type": "code",
   "execution_count": 64,
   "id": "de7f286a",
   "metadata": {},
   "outputs": [],
   "source": [
    "x_train, x_test, y_train, y_test = train_test_split(x_sampled,y_sampled,test_size=0.20, random_state=22,stratify=y_sampled)"
   ]
  },
  {
   "cell_type": "code",
   "execution_count": 65,
   "id": "39492306",
   "metadata": {},
   "outputs": [
    {
     "data": {
      "text/plain": [
       "(2400, 13)"
      ]
     },
     "execution_count": 65,
     "metadata": {},
     "output_type": "execute_result"
    }
   ],
   "source": [
    "x_train.shape"
   ]
  },
  {
   "cell_type": "code",
   "execution_count": 67,
   "id": "a8460374",
   "metadata": {},
   "outputs": [
    {
     "data": {
      "text/plain": [
       "(600, 13)"
      ]
     },
     "execution_count": 67,
     "metadata": {},
     "output_type": "execute_result"
    }
   ],
   "source": [
    "x_test.shape"
   ]
  },
  {
   "cell_type": "markdown",
   "id": "6bac1125",
   "metadata": {},
   "source": [
    "# Features Selection Tech"
   ]
  },
  {
   "cell_type": "markdown",
   "id": "89a09992",
   "metadata": {},
   "source": [
    "### Kendall's Corr"
   ]
  },
  {
   "cell_type": "code",
   "execution_count": 69,
   "id": "147d9742",
   "metadata": {},
   "outputs": [],
   "source": [
    "corr = df.corr(method='kendall')[\"MetabolicSyndrome\"]\n",
    "# plt.figure(figsize=(20,2))\n",
    "# sns.heatmap(corr, annot= True)"
   ]
  },
  {
   "cell_type": "code",
   "execution_count": 71,
   "id": "c5cb5575",
   "metadata": {},
   "outputs": [
    {
     "data": {
      "text/plain": [
       "HDL                 -0.340988\n",
       "Income              -0.062592\n",
       "Race                -0.008372\n",
       "Marital             -0.003188\n",
       "Sex                  0.020355\n",
       "UrAlbCr              0.155540\n",
       "Albuminuria          0.157026\n",
       "UricAcid             0.193908\n",
       "Age                  0.208364\n",
       "BMI                  0.373531\n",
       "Triglycerides        0.394229\n",
       "WaistCirc            0.414156\n",
       "BloodGlucose         0.432501\n",
       "MetabolicSyndrome    1.000000\n",
       "Name: MetabolicSyndrome, dtype: float64"
      ]
     },
     "execution_count": 71,
     "metadata": {},
     "output_type": "execute_result"
    }
   ],
   "source": [
    "corr.sort_values()"
   ]
  },
  {
   "cell_type": "markdown",
   "id": "bd4d63e7",
   "metadata": {},
   "source": [
    "## ANOVA Test"
   ]
  },
  {
   "cell_type": "code",
   "execution_count": 72,
   "id": "c73fddb4",
   "metadata": {},
   "outputs": [
    {
     "data": {
      "text/html": [
       "<div>\n",
       "<style scoped>\n",
       "    .dataframe tbody tr th:only-of-type {\n",
       "        vertical-align: middle;\n",
       "    }\n",
       "\n",
       "    .dataframe tbody tr th {\n",
       "        vertical-align: top;\n",
       "    }\n",
       "\n",
       "    .dataframe thead th {\n",
       "        text-align: right;\n",
       "    }\n",
       "</style>\n",
       "<table border=\"1\" class=\"dataframe\">\n",
       "  <thead>\n",
       "    <tr style=\"text-align: right;\">\n",
       "      <th></th>\n",
       "      <th>f_val</th>\n",
       "      <th>p_val</th>\n",
       "    </tr>\n",
       "  </thead>\n",
       "  <tbody>\n",
       "    <tr>\n",
       "      <th>Marital</th>\n",
       "      <td>1.152905</td>\n",
       "      <td>0.28303</td>\n",
       "    </tr>\n",
       "    <tr>\n",
       "      <th>Race</th>\n",
       "      <td>5.084880</td>\n",
       "      <td>0.02421</td>\n",
       "    </tr>\n",
       "    <tr>\n",
       "      <th>Sex</th>\n",
       "      <td>15.261213</td>\n",
       "      <td>0.00010</td>\n",
       "    </tr>\n",
       "    <tr>\n",
       "      <th>UrAlbCr</th>\n",
       "      <td>16.405369</td>\n",
       "      <td>0.00005</td>\n",
       "    </tr>\n",
       "    <tr>\n",
       "      <th>Income</th>\n",
       "      <td>24.338555</td>\n",
       "      <td>0.00000</td>\n",
       "    </tr>\n",
       "    <tr>\n",
       "      <th>Albuminuria</th>\n",
       "      <td>35.446497</td>\n",
       "      <td>0.00000</td>\n",
       "    </tr>\n",
       "    <tr>\n",
       "      <th>UricAcid</th>\n",
       "      <td>215.380345</td>\n",
       "      <td>0.00000</td>\n",
       "    </tr>\n",
       "    <tr>\n",
       "      <th>Age</th>\n",
       "      <td>223.860073</td>\n",
       "      <td>0.00000</td>\n",
       "    </tr>\n",
       "    <tr>\n",
       "      <th>BloodGlucose</th>\n",
       "      <td>412.920796</td>\n",
       "      <td>0.00000</td>\n",
       "    </tr>\n",
       "    <tr>\n",
       "      <th>HDL</th>\n",
       "      <td>611.965870</td>\n",
       "      <td>0.00000</td>\n",
       "    </tr>\n",
       "    <tr>\n",
       "      <th>Triglycerides</th>\n",
       "      <td>641.505764</td>\n",
       "      <td>0.00000</td>\n",
       "    </tr>\n",
       "    <tr>\n",
       "      <th>BMI</th>\n",
       "      <td>753.678927</td>\n",
       "      <td>0.00000</td>\n",
       "    </tr>\n",
       "    <tr>\n",
       "      <th>WaistCirc</th>\n",
       "      <td>1088.685342</td>\n",
       "      <td>0.00000</td>\n",
       "    </tr>\n",
       "  </tbody>\n",
       "</table>\n",
       "</div>"
      ],
      "text/plain": [
       "                     f_val    p_val\n",
       "Marital           1.152905  0.28303\n",
       "Race              5.084880  0.02421\n",
       "Sex              15.261213  0.00010\n",
       "UrAlbCr          16.405369  0.00005\n",
       "Income           24.338555  0.00000\n",
       "Albuminuria      35.446497  0.00000\n",
       "UricAcid        215.380345  0.00000\n",
       "Age             223.860073  0.00000\n",
       "BloodGlucose    412.920796  0.00000\n",
       "HDL             611.965870  0.00000\n",
       "Triglycerides   641.505764  0.00000\n",
       "BMI             753.678927  0.00000\n",
       "WaistCirc      1088.685342  0.00000"
      ]
     },
     "execution_count": 72,
     "metadata": {},
     "output_type": "execute_result"
    }
   ],
   "source": [
    "from sklearn.feature_selection import f_classif\n",
    "\n",
    "f_val, p_val = f_classif(x_sampled,y_sampled)\n",
    "\n",
    "df4 = pd.DataFrame({'f_val':f_val,'p_val':np.around(p_val,5)},index=x_sampled.columns)\n",
    "df4.sort_values('f_val')"
   ]
  },
  {
   "cell_type": "raw",
   "id": "32b4b5b9",
   "metadata": {},
   "source": [
    "By Analysis Both the feature selection tech. we found that, the following\n",
    "featrues importantance is less:\n",
    "    Marital\n",
    "    Race"
   ]
  },
  {
   "cell_type": "code",
   "execution_count": 74,
   "id": "f61df1f4",
   "metadata": {},
   "outputs": [
    {
     "data": {
      "text/html": [
       "<div>\n",
       "<style scoped>\n",
       "    .dataframe tbody tr th:only-of-type {\n",
       "        vertical-align: middle;\n",
       "    }\n",
       "\n",
       "    .dataframe tbody tr th {\n",
       "        vertical-align: top;\n",
       "    }\n",
       "\n",
       "    .dataframe thead th {\n",
       "        text-align: right;\n",
       "    }\n",
       "</style>\n",
       "<table border=\"1\" class=\"dataframe\">\n",
       "  <thead>\n",
       "    <tr style=\"text-align: right;\">\n",
       "      <th></th>\n",
       "      <th>Age</th>\n",
       "      <th>Sex</th>\n",
       "      <th>Income</th>\n",
       "      <th>WaistCirc</th>\n",
       "      <th>BMI</th>\n",
       "      <th>Albuminuria</th>\n",
       "      <th>UrAlbCr</th>\n",
       "      <th>UricAcid</th>\n",
       "      <th>BloodGlucose</th>\n",
       "      <th>HDL</th>\n",
       "      <th>Triglycerides</th>\n",
       "      <th>MetabolicSyndrome</th>\n",
       "    </tr>\n",
       "  </thead>\n",
       "  <tbody>\n",
       "    <tr>\n",
       "      <th>0</th>\n",
       "      <td>22</td>\n",
       "      <td>1</td>\n",
       "      <td>8200.0</td>\n",
       "      <td>81.0</td>\n",
       "      <td>23.3</td>\n",
       "      <td>0</td>\n",
       "      <td>3.88</td>\n",
       "      <td>4.9</td>\n",
       "      <td>92</td>\n",
       "      <td>41</td>\n",
       "      <td>84</td>\n",
       "      <td>0</td>\n",
       "    </tr>\n",
       "    <tr>\n",
       "      <th>1</th>\n",
       "      <td>44</td>\n",
       "      <td>0</td>\n",
       "      <td>4500.0</td>\n",
       "      <td>80.1</td>\n",
       "      <td>23.2</td>\n",
       "      <td>0</td>\n",
       "      <td>8.55</td>\n",
       "      <td>4.5</td>\n",
       "      <td>82</td>\n",
       "      <td>28</td>\n",
       "      <td>56</td>\n",
       "      <td>0</td>\n",
       "    </tr>\n",
       "    <tr>\n",
       "      <th>2</th>\n",
       "      <td>21</td>\n",
       "      <td>1</td>\n",
       "      <td>800.0</td>\n",
       "      <td>69.6</td>\n",
       "      <td>20.1</td>\n",
       "      <td>0</td>\n",
       "      <td>5.07</td>\n",
       "      <td>5.4</td>\n",
       "      <td>107</td>\n",
       "      <td>43</td>\n",
       "      <td>78</td>\n",
       "      <td>0</td>\n",
       "    </tr>\n",
       "    <tr>\n",
       "      <th>3</th>\n",
       "      <td>43</td>\n",
       "      <td>0</td>\n",
       "      <td>2000.0</td>\n",
       "      <td>120.4</td>\n",
       "      <td>33.3</td>\n",
       "      <td>0</td>\n",
       "      <td>5.22</td>\n",
       "      <td>5.0</td>\n",
       "      <td>104</td>\n",
       "      <td>73</td>\n",
       "      <td>141</td>\n",
       "      <td>0</td>\n",
       "    </tr>\n",
       "    <tr>\n",
       "      <th>4</th>\n",
       "      <td>51</td>\n",
       "      <td>1</td>\n",
       "      <td>2500.0</td>\n",
       "      <td>81.1</td>\n",
       "      <td>20.1</td>\n",
       "      <td>0</td>\n",
       "      <td>8.13</td>\n",
       "      <td>5.0</td>\n",
       "      <td>95</td>\n",
       "      <td>43</td>\n",
       "      <td>126</td>\n",
       "      <td>0</td>\n",
       "    </tr>\n",
       "    <tr>\n",
       "      <th>...</th>\n",
       "      <td>...</td>\n",
       "      <td>...</td>\n",
       "      <td>...</td>\n",
       "      <td>...</td>\n",
       "      <td>...</td>\n",
       "      <td>...</td>\n",
       "      <td>...</td>\n",
       "      <td>...</td>\n",
       "      <td>...</td>\n",
       "      <td>...</td>\n",
       "      <td>...</td>\n",
       "      <td>...</td>\n",
       "    </tr>\n",
       "    <tr>\n",
       "      <th>2396</th>\n",
       "      <td>48</td>\n",
       "      <td>0</td>\n",
       "      <td>1000.0</td>\n",
       "      <td>97.0</td>\n",
       "      <td>59.7</td>\n",
       "      <td>0</td>\n",
       "      <td>22.11</td>\n",
       "      <td>5.8</td>\n",
       "      <td>152</td>\n",
       "      <td>57</td>\n",
       "      <td>107</td>\n",
       "      <td>0</td>\n",
       "    </tr>\n",
       "    <tr>\n",
       "      <th>2397</th>\n",
       "      <td>30</td>\n",
       "      <td>0</td>\n",
       "      <td>2000.0</td>\n",
       "      <td>97.0</td>\n",
       "      <td>18.0</td>\n",
       "      <td>0</td>\n",
       "      <td>2.90</td>\n",
       "      <td>7.9</td>\n",
       "      <td>91</td>\n",
       "      <td>90</td>\n",
       "      <td>91</td>\n",
       "      <td>0</td>\n",
       "    </tr>\n",
       "    <tr>\n",
       "      <th>2398</th>\n",
       "      <td>28</td>\n",
       "      <td>1</td>\n",
       "      <td>800.0</td>\n",
       "      <td>100.8</td>\n",
       "      <td>29.4</td>\n",
       "      <td>0</td>\n",
       "      <td>2.78</td>\n",
       "      <td>6.2</td>\n",
       "      <td>99</td>\n",
       "      <td>47</td>\n",
       "      <td>84</td>\n",
       "      <td>0</td>\n",
       "    </tr>\n",
       "    <tr>\n",
       "      <th>2399</th>\n",
       "      <td>27</td>\n",
       "      <td>1</td>\n",
       "      <td>8200.0</td>\n",
       "      <td>106.6</td>\n",
       "      <td>31.3</td>\n",
       "      <td>0</td>\n",
       "      <td>4.15</td>\n",
       "      <td>6.2</td>\n",
       "      <td>100</td>\n",
       "      <td>41</td>\n",
       "      <td>124</td>\n",
       "      <td>1</td>\n",
       "    </tr>\n",
       "    <tr>\n",
       "      <th>2400</th>\n",
       "      <td>60</td>\n",
       "      <td>1</td>\n",
       "      <td>6200.0</td>\n",
       "      <td>106.6</td>\n",
       "      <td>27.5</td>\n",
       "      <td>0</td>\n",
       "      <td>12.82</td>\n",
       "      <td>5.2</td>\n",
       "      <td>91</td>\n",
       "      <td>36</td>\n",
       "      <td>226</td>\n",
       "      <td>1</td>\n",
       "    </tr>\n",
       "  </tbody>\n",
       "</table>\n",
       "<p>2401 rows × 12 columns</p>\n",
       "</div>"
      ],
      "text/plain": [
       "      Age  Sex  Income  WaistCirc   BMI  Albuminuria  UrAlbCr  UricAcid  \\\n",
       "0      22    1  8200.0       81.0  23.3            0     3.88       4.9   \n",
       "1      44    0  4500.0       80.1  23.2            0     8.55       4.5   \n",
       "2      21    1   800.0       69.6  20.1            0     5.07       5.4   \n",
       "3      43    0  2000.0      120.4  33.3            0     5.22       5.0   \n",
       "4      51    1  2500.0       81.1  20.1            0     8.13       5.0   \n",
       "...   ...  ...     ...        ...   ...          ...      ...       ...   \n",
       "2396   48    0  1000.0       97.0  59.7            0    22.11       5.8   \n",
       "2397   30    0  2000.0       97.0  18.0            0     2.90       7.9   \n",
       "2398   28    1   800.0      100.8  29.4            0     2.78       6.2   \n",
       "2399   27    1  8200.0      106.6  31.3            0     4.15       6.2   \n",
       "2400   60    1  6200.0      106.6  27.5            0    12.82       5.2   \n",
       "\n",
       "      BloodGlucose  HDL  Triglycerides  MetabolicSyndrome  \n",
       "0               92   41             84                  0  \n",
       "1               82   28             56                  0  \n",
       "2              107   43             78                  0  \n",
       "3              104   73            141                  0  \n",
       "4               95   43            126                  0  \n",
       "...            ...  ...            ...                ...  \n",
       "2396           152   57            107                  0  \n",
       "2397            91   90             91                  0  \n",
       "2398            99   47             84                  0  \n",
       "2399           100   41            124                  1  \n",
       "2400            91   36            226                  1  \n",
       "\n",
       "[2401 rows x 12 columns]"
      ]
     },
     "execution_count": 74,
     "metadata": {},
     "output_type": "execute_result"
    }
   ],
   "source": [
    "df=df.drop(['Marital','Race'],axis=1)\n",
    "df"
   ]
  },
  {
   "cell_type": "code",
   "execution_count": 75,
   "id": "b221e382",
   "metadata": {},
   "outputs": [],
   "source": [
    "# train test split"
   ]
  },
  {
   "cell_type": "code",
   "execution_count": 76,
   "id": "6cb689dc",
   "metadata": {},
   "outputs": [],
   "source": [
    "x_train, x_test, y_train, y_test = train_test_split(x_sampled,y_sampled,test_size=0.20, random_state=22,stratify=y_sampled)"
   ]
  },
  {
   "cell_type": "markdown",
   "id": "436600d9",
   "metadata": {},
   "source": [
    "## Model Training"
   ]
  },
  {
   "cell_type": "code",
   "execution_count": 77,
   "id": "b949d38f",
   "metadata": {},
   "outputs": [
    {
     "data": {
      "text/html": [
       "<style>#sk-container-id-2 {color: black;background-color: white;}#sk-container-id-2 pre{padding: 0;}#sk-container-id-2 div.sk-toggleable {background-color: white;}#sk-container-id-2 label.sk-toggleable__label {cursor: pointer;display: block;width: 100%;margin-bottom: 0;padding: 0.3em;box-sizing: border-box;text-align: center;}#sk-container-id-2 label.sk-toggleable__label-arrow:before {content: \"▸\";float: left;margin-right: 0.25em;color: #696969;}#sk-container-id-2 label.sk-toggleable__label-arrow:hover:before {color: black;}#sk-container-id-2 div.sk-estimator:hover label.sk-toggleable__label-arrow:before {color: black;}#sk-container-id-2 div.sk-toggleable__content {max-height: 0;max-width: 0;overflow: hidden;text-align: left;background-color: #f0f8ff;}#sk-container-id-2 div.sk-toggleable__content pre {margin: 0.2em;color: black;border-radius: 0.25em;background-color: #f0f8ff;}#sk-container-id-2 input.sk-toggleable__control:checked~div.sk-toggleable__content {max-height: 200px;max-width: 100%;overflow: auto;}#sk-container-id-2 input.sk-toggleable__control:checked~label.sk-toggleable__label-arrow:before {content: \"▾\";}#sk-container-id-2 div.sk-estimator input.sk-toggleable__control:checked~label.sk-toggleable__label {background-color: #d4ebff;}#sk-container-id-2 div.sk-label input.sk-toggleable__control:checked~label.sk-toggleable__label {background-color: #d4ebff;}#sk-container-id-2 input.sk-hidden--visually {border: 0;clip: rect(1px 1px 1px 1px);clip: rect(1px, 1px, 1px, 1px);height: 1px;margin: -1px;overflow: hidden;padding: 0;position: absolute;width: 1px;}#sk-container-id-2 div.sk-estimator {font-family: monospace;background-color: #f0f8ff;border: 1px dotted black;border-radius: 0.25em;box-sizing: border-box;margin-bottom: 0.5em;}#sk-container-id-2 div.sk-estimator:hover {background-color: #d4ebff;}#sk-container-id-2 div.sk-parallel-item::after {content: \"\";width: 100%;border-bottom: 1px solid gray;flex-grow: 1;}#sk-container-id-2 div.sk-label:hover label.sk-toggleable__label {background-color: #d4ebff;}#sk-container-id-2 div.sk-serial::before {content: \"\";position: absolute;border-left: 1px solid gray;box-sizing: border-box;top: 0;bottom: 0;left: 50%;z-index: 0;}#sk-container-id-2 div.sk-serial {display: flex;flex-direction: column;align-items: center;background-color: white;padding-right: 0.2em;padding-left: 0.2em;position: relative;}#sk-container-id-2 div.sk-item {position: relative;z-index: 1;}#sk-container-id-2 div.sk-parallel {display: flex;align-items: stretch;justify-content: center;background-color: white;position: relative;}#sk-container-id-2 div.sk-item::before, #sk-container-id-2 div.sk-parallel-item::before {content: \"\";position: absolute;border-left: 1px solid gray;box-sizing: border-box;top: 0;bottom: 0;left: 50%;z-index: -1;}#sk-container-id-2 div.sk-parallel-item {display: flex;flex-direction: column;z-index: 1;position: relative;background-color: white;}#sk-container-id-2 div.sk-parallel-item:first-child::after {align-self: flex-end;width: 50%;}#sk-container-id-2 div.sk-parallel-item:last-child::after {align-self: flex-start;width: 50%;}#sk-container-id-2 div.sk-parallel-item:only-child::after {width: 0;}#sk-container-id-2 div.sk-dashed-wrapped {border: 1px dashed gray;margin: 0 0.4em 0.5em 0.4em;box-sizing: border-box;padding-bottom: 0.4em;background-color: white;}#sk-container-id-2 div.sk-label label {font-family: monospace;font-weight: bold;display: inline-block;line-height: 1.2em;}#sk-container-id-2 div.sk-label-container {text-align: center;}#sk-container-id-2 div.sk-container {/* jupyter's `normalize.less` sets `[hidden] { display: none; }` but bootstrap.min.css set `[hidden] { display: none !important; }` so we also need the `!important` here to be able to override the default hidden behavior on the sphinx rendered scikit-learn.org. See: https://github.com/scikit-learn/scikit-learn/issues/21755 */display: inline-block !important;position: relative;}#sk-container-id-2 div.sk-text-repr-fallback {display: none;}</style><div id=\"sk-container-id-2\" class=\"sk-top-container\"><div class=\"sk-text-repr-fallback\"><pre>LogisticRegression()</pre><b>In a Jupyter environment, please rerun this cell to show the HTML representation or trust the notebook. <br />On GitHub, the HTML representation is unable to render, please try loading this page with nbviewer.org.</b></div><div class=\"sk-container\" hidden><div class=\"sk-item\"><div class=\"sk-estimator sk-toggleable\"><input class=\"sk-toggleable__control sk-hidden--visually\" id=\"sk-estimator-id-2\" type=\"checkbox\" checked><label for=\"sk-estimator-id-2\" class=\"sk-toggleable__label sk-toggleable__label-arrow\">LogisticRegression</label><div class=\"sk-toggleable__content\"><pre>LogisticRegression()</pre></div></div></div></div></div>"
      ],
      "text/plain": [
       "LogisticRegression()"
      ]
     },
     "execution_count": 77,
     "metadata": {},
     "output_type": "execute_result"
    }
   ],
   "source": [
    "Log_mod =LogisticRegression()\n",
    "Log_mod.fit(x_train,y_train)"
   ]
  },
  {
   "cell_type": "code",
   "execution_count": 78,
   "id": "40dc2d2c",
   "metadata": {},
   "outputs": [
    {
     "name": "stdout",
     "output_type": "stream",
     "text": [
      "Confusion Matrix :\n",
      " [[244  72]\n",
      " [ 52 232]]\n",
      "****************************************************************************************\n",
      "Accuracy : 0.7933333333333333\n",
      "****************************************************************************************\n",
      "Classification Report :\n",
      "               precision    recall  f1-score   support\n",
      "\n",
      "           0       0.82      0.77      0.80       316\n",
      "           1       0.76      0.82      0.79       284\n",
      "\n",
      "    accuracy                           0.79       600\n",
      "   macro avg       0.79      0.79      0.79       600\n",
      "weighted avg       0.80      0.79      0.79       600\n",
      "\n",
      "****************************************************************************************\n",
      "Precision : 0.7631578947368421\n",
      "Recall : 0.8169014084507042\n",
      "f1-score : 0.7891156462585034\n"
     ]
    }
   ],
   "source": [
    "# Testing Data Evaluation\n",
    "y_pred = Log_mod.predict(x_test)\n",
    "\n",
    "cnf_matrix = confusion_matrix(y_test, y_pred)\n",
    "print(\"Confusion Matrix :\\n\",cnf_matrix)\n",
    "print(\"*\"*88)\n",
    "\n",
    "Log_acc_test = accuracy_score(y_test, y_pred)\n",
    "print(\"Accuracy :\",Log_acc_test)\n",
    "print(\"*\"*88)\n",
    "\n",
    "clf_report = classification_report(y_test, y_pred)\n",
    "print(\"Classification Report :\\n\",clf_report)\n",
    "\n",
    "print(\"*\"*88)\n",
    "log_precision_test = precision_score(y_test, y_pred)\n",
    "print(\"Precision :\",log_precision_test)\n",
    "\n",
    "log_recall_test = recall_score(y_test, y_pred)\n",
    "print(\"Recall :\",log_recall_test)\n",
    "\n",
    "log_f1_score_test = f1_score(y_test, y_pred)\n",
    "print(\"f1-score :\",log_f1_score_test)"
   ]
  },
  {
   "cell_type": "code",
   "execution_count": 79,
   "id": "fc765705",
   "metadata": {},
   "outputs": [
    {
     "name": "stdout",
     "output_type": "stream",
     "text": [
      "Confusion Matrix :\n",
      " [[1022  241]\n",
      " [ 225  912]]\n",
      "****************************************************************************************\n",
      "Accuracy : 0.8058333333333333\n",
      "****************************************************************************************\n",
      "Classification Report :\n",
      "               precision    recall  f1-score   support\n",
      "\n",
      "           0       0.82      0.81      0.81      1263\n",
      "           1       0.79      0.80      0.80      1137\n",
      "\n",
      "    accuracy                           0.81      2400\n",
      "   macro avg       0.81      0.81      0.81      2400\n",
      "weighted avg       0.81      0.81      0.81      2400\n",
      "\n",
      "****************************************************************************************\n",
      "Precision : 0.7909800520381614\n",
      "Recall : 0.8021108179419525\n",
      "f1-score : 0.7965065502183406\n"
     ]
    }
   ],
   "source": [
    "# Training Data Evaluation\n",
    "y_pred_train = Log_mod.predict(x_train)\n",
    "\n",
    "cnf_matrix = confusion_matrix(y_train, y_pred_train)\n",
    "print(\"Confusion Matrix :\\n\",cnf_matrix)\n",
    "\n",
    "print(\"*\"*88)\n",
    "\n",
    "Log_acc_train = accuracy_score(y_train, y_pred_train)\n",
    "print(\"Accuracy :\",Log_acc_train)\n",
    "print(\"*\"*88)\n",
    "\n",
    "clf_report = classification_report(y_train, y_pred_train)\n",
    "print(\"Classification Report :\\n\",clf_report)\n",
    "\n",
    "print(\"*\"*88)\n",
    "log_precision_train = precision_score(y_train, y_pred_train)\n",
    "print(\"Precision :\",log_precision_train)\n",
    "\n",
    "log_recall_train = recall_score(y_train, y_pred_train)\n",
    "print(\"Recall :\",log_recall_train)\n",
    "\n",
    "log_f1_score_train = f1_score(y_train, y_pred_train)\n",
    "print(\"f1-score :\",log_f1_score_train)"
   ]
  },
  {
   "cell_type": "markdown",
   "id": "bb79e96f",
   "metadata": {},
   "source": [
    "## KNN"
   ]
  },
  {
   "cell_type": "code",
   "execution_count": 80,
   "id": "c8a936d2",
   "metadata": {},
   "outputs": [
    {
     "data": {
      "text/html": [
       "<div>\n",
       "<style scoped>\n",
       "    .dataframe tbody tr th:only-of-type {\n",
       "        vertical-align: middle;\n",
       "    }\n",
       "\n",
       "    .dataframe tbody tr th {\n",
       "        vertical-align: top;\n",
       "    }\n",
       "\n",
       "    .dataframe thead th {\n",
       "        text-align: right;\n",
       "    }\n",
       "</style>\n",
       "<table border=\"1\" class=\"dataframe\">\n",
       "  <thead>\n",
       "    <tr style=\"text-align: right;\">\n",
       "      <th></th>\n",
       "      <th>Age</th>\n",
       "      <th>Sex</th>\n",
       "      <th>Marital</th>\n",
       "      <th>Income</th>\n",
       "      <th>Race</th>\n",
       "      <th>WaistCirc</th>\n",
       "      <th>BMI</th>\n",
       "      <th>Albuminuria</th>\n",
       "      <th>UrAlbCr</th>\n",
       "      <th>UricAcid</th>\n",
       "      <th>BloodGlucose</th>\n",
       "      <th>HDL</th>\n",
       "      <th>Triglycerides</th>\n",
       "    </tr>\n",
       "  </thead>\n",
       "  <tbody>\n",
       "    <tr>\n",
       "      <th>0</th>\n",
       "      <td>-1.634069</td>\n",
       "      <td>1.095177</td>\n",
       "      <td>0.204130</td>\n",
       "      <td>1.512302</td>\n",
       "      <td>-0.929236</td>\n",
       "      <td>-1.220995</td>\n",
       "      <td>-0.933233</td>\n",
       "      <td>-0.35732</td>\n",
       "      <td>-0.161928</td>\n",
       "      <td>-0.482122</td>\n",
       "      <td>-0.531208</td>\n",
       "      <td>-0.727491</td>\n",
       "      <td>-0.547370</td>\n",
       "    </tr>\n",
       "    <tr>\n",
       "      <th>1</th>\n",
       "      <td>-0.340021</td>\n",
       "      <td>-0.913094</td>\n",
       "      <td>-0.709351</td>\n",
       "      <td>0.225300</td>\n",
       "      <td>-0.929236</td>\n",
       "      <td>-1.277727</td>\n",
       "      <td>-0.948451</td>\n",
       "      <td>-0.35732</td>\n",
       "      <td>-0.143946</td>\n",
       "      <td>-0.766074</td>\n",
       "      <td>-0.812543</td>\n",
       "      <td>-1.611744</td>\n",
       "      <td>-0.830445</td>\n",
       "    </tr>\n",
       "    <tr>\n",
       "      <th>2</th>\n",
       "      <td>-1.692889</td>\n",
       "      <td>1.095177</td>\n",
       "      <td>0.204130</td>\n",
       "      <td>-1.061701</td>\n",
       "      <td>0.470216</td>\n",
       "      <td>-1.939601</td>\n",
       "      <td>-1.420205</td>\n",
       "      <td>-0.35732</td>\n",
       "      <td>-0.157346</td>\n",
       "      <td>-0.127181</td>\n",
       "      <td>-0.109205</td>\n",
       "      <td>-0.591452</td>\n",
       "      <td>-0.608029</td>\n",
       "    </tr>\n",
       "    <tr>\n",
       "      <th>3</th>\n",
       "      <td>-0.398841</td>\n",
       "      <td>-0.913094</td>\n",
       "      <td>0.204130</td>\n",
       "      <td>-0.644295</td>\n",
       "      <td>-0.229510</td>\n",
       "      <td>1.262608</td>\n",
       "      <td>0.588555</td>\n",
       "      <td>-0.35732</td>\n",
       "      <td>-0.156768</td>\n",
       "      <td>-0.411134</td>\n",
       "      <td>-0.193605</td>\n",
       "      <td>1.449132</td>\n",
       "      <td>0.028891</td>\n",
       "    </tr>\n",
       "    <tr>\n",
       "      <th>4</th>\n",
       "      <td>0.071722</td>\n",
       "      <td>1.095177</td>\n",
       "      <td>-0.709351</td>\n",
       "      <td>-0.470376</td>\n",
       "      <td>0.470216</td>\n",
       "      <td>-1.214691</td>\n",
       "      <td>-1.420205</td>\n",
       "      <td>-0.35732</td>\n",
       "      <td>-0.145564</td>\n",
       "      <td>-0.411134</td>\n",
       "      <td>-0.446807</td>\n",
       "      <td>-0.591452</td>\n",
       "      <td>-0.122757</td>\n",
       "    </tr>\n",
       "  </tbody>\n",
       "</table>\n",
       "</div>"
      ],
      "text/plain": [
       "        Age       Sex   Marital    Income      Race  WaistCirc       BMI  \\\n",
       "0 -1.634069  1.095177  0.204130  1.512302 -0.929236  -1.220995 -0.933233   \n",
       "1 -0.340021 -0.913094 -0.709351  0.225300 -0.929236  -1.277727 -0.948451   \n",
       "2 -1.692889  1.095177  0.204130 -1.061701  0.470216  -1.939601 -1.420205   \n",
       "3 -0.398841 -0.913094  0.204130 -0.644295 -0.229510   1.262608  0.588555   \n",
       "4  0.071722  1.095177 -0.709351 -0.470376  0.470216  -1.214691 -1.420205   \n",
       "\n",
       "   Albuminuria   UrAlbCr  UricAcid  BloodGlucose       HDL  Triglycerides  \n",
       "0     -0.35732 -0.161928 -0.482122     -0.531208 -0.727491      -0.547370  \n",
       "1     -0.35732 -0.143946 -0.766074     -0.812543 -1.611744      -0.830445  \n",
       "2     -0.35732 -0.157346 -0.127181     -0.109205 -0.591452      -0.608029  \n",
       "3     -0.35732 -0.156768 -0.411134     -0.193605  1.449132       0.028891  \n",
       "4     -0.35732 -0.145564 -0.411134     -0.446807 -0.591452      -0.122757  "
      ]
     },
     "execution_count": 80,
     "metadata": {},
     "output_type": "execute_result"
    }
   ],
   "source": [
    "std_scaler = StandardScaler()\n",
    "array = std_scaler.fit_transform(x_sampled)\n",
    "x_std_df = pd.DataFrame(array,columns=x_sampled.columns)\n",
    "x_std_df.head()"
   ]
  },
  {
   "cell_type": "code",
   "execution_count": 81,
   "id": "ceee2d9e",
   "metadata": {},
   "outputs": [],
   "source": [
    "x = x_std_df.copy()\n",
    "y = df['MetabolicSyndrome']\n",
    "x_train, x_test, y_train, y_test = train_test_split(x_sampled,y_sampled,test_size=0.20, random_state=22, stratify=y_sampled)"
   ]
  },
  {
   "cell_type": "markdown",
   "id": "f63b694c",
   "metadata": {},
   "source": [
    "## Model Training"
   ]
  },
  {
   "cell_type": "code",
   "execution_count": 82,
   "id": "5e505f6c",
   "metadata": {},
   "outputs": [
    {
     "data": {
      "text/html": [
       "<style>#sk-container-id-3 {color: black;background-color: white;}#sk-container-id-3 pre{padding: 0;}#sk-container-id-3 div.sk-toggleable {background-color: white;}#sk-container-id-3 label.sk-toggleable__label {cursor: pointer;display: block;width: 100%;margin-bottom: 0;padding: 0.3em;box-sizing: border-box;text-align: center;}#sk-container-id-3 label.sk-toggleable__label-arrow:before {content: \"▸\";float: left;margin-right: 0.25em;color: #696969;}#sk-container-id-3 label.sk-toggleable__label-arrow:hover:before {color: black;}#sk-container-id-3 div.sk-estimator:hover label.sk-toggleable__label-arrow:before {color: black;}#sk-container-id-3 div.sk-toggleable__content {max-height: 0;max-width: 0;overflow: hidden;text-align: left;background-color: #f0f8ff;}#sk-container-id-3 div.sk-toggleable__content pre {margin: 0.2em;color: black;border-radius: 0.25em;background-color: #f0f8ff;}#sk-container-id-3 input.sk-toggleable__control:checked~div.sk-toggleable__content {max-height: 200px;max-width: 100%;overflow: auto;}#sk-container-id-3 input.sk-toggleable__control:checked~label.sk-toggleable__label-arrow:before {content: \"▾\";}#sk-container-id-3 div.sk-estimator input.sk-toggleable__control:checked~label.sk-toggleable__label {background-color: #d4ebff;}#sk-container-id-3 div.sk-label input.sk-toggleable__control:checked~label.sk-toggleable__label {background-color: #d4ebff;}#sk-container-id-3 input.sk-hidden--visually {border: 0;clip: rect(1px 1px 1px 1px);clip: rect(1px, 1px, 1px, 1px);height: 1px;margin: -1px;overflow: hidden;padding: 0;position: absolute;width: 1px;}#sk-container-id-3 div.sk-estimator {font-family: monospace;background-color: #f0f8ff;border: 1px dotted black;border-radius: 0.25em;box-sizing: border-box;margin-bottom: 0.5em;}#sk-container-id-3 div.sk-estimator:hover {background-color: #d4ebff;}#sk-container-id-3 div.sk-parallel-item::after {content: \"\";width: 100%;border-bottom: 1px solid gray;flex-grow: 1;}#sk-container-id-3 div.sk-label:hover label.sk-toggleable__label {background-color: #d4ebff;}#sk-container-id-3 div.sk-serial::before {content: \"\";position: absolute;border-left: 1px solid gray;box-sizing: border-box;top: 0;bottom: 0;left: 50%;z-index: 0;}#sk-container-id-3 div.sk-serial {display: flex;flex-direction: column;align-items: center;background-color: white;padding-right: 0.2em;padding-left: 0.2em;position: relative;}#sk-container-id-3 div.sk-item {position: relative;z-index: 1;}#sk-container-id-3 div.sk-parallel {display: flex;align-items: stretch;justify-content: center;background-color: white;position: relative;}#sk-container-id-3 div.sk-item::before, #sk-container-id-3 div.sk-parallel-item::before {content: \"\";position: absolute;border-left: 1px solid gray;box-sizing: border-box;top: 0;bottom: 0;left: 50%;z-index: -1;}#sk-container-id-3 div.sk-parallel-item {display: flex;flex-direction: column;z-index: 1;position: relative;background-color: white;}#sk-container-id-3 div.sk-parallel-item:first-child::after {align-self: flex-end;width: 50%;}#sk-container-id-3 div.sk-parallel-item:last-child::after {align-self: flex-start;width: 50%;}#sk-container-id-3 div.sk-parallel-item:only-child::after {width: 0;}#sk-container-id-3 div.sk-dashed-wrapped {border: 1px dashed gray;margin: 0 0.4em 0.5em 0.4em;box-sizing: border-box;padding-bottom: 0.4em;background-color: white;}#sk-container-id-3 div.sk-label label {font-family: monospace;font-weight: bold;display: inline-block;line-height: 1.2em;}#sk-container-id-3 div.sk-label-container {text-align: center;}#sk-container-id-3 div.sk-container {/* jupyter's `normalize.less` sets `[hidden] { display: none; }` but bootstrap.min.css set `[hidden] { display: none !important; }` so we also need the `!important` here to be able to override the default hidden behavior on the sphinx rendered scikit-learn.org. See: https://github.com/scikit-learn/scikit-learn/issues/21755 */display: inline-block !important;position: relative;}#sk-container-id-3 div.sk-text-repr-fallback {display: none;}</style><div id=\"sk-container-id-3\" class=\"sk-top-container\"><div class=\"sk-text-repr-fallback\"><pre>KNeighborsClassifier()</pre><b>In a Jupyter environment, please rerun this cell to show the HTML representation or trust the notebook. <br />On GitHub, the HTML representation is unable to render, please try loading this page with nbviewer.org.</b></div><div class=\"sk-container\" hidden><div class=\"sk-item\"><div class=\"sk-estimator sk-toggleable\"><input class=\"sk-toggleable__control sk-hidden--visually\" id=\"sk-estimator-id-3\" type=\"checkbox\" checked><label for=\"sk-estimator-id-3\" class=\"sk-toggleable__label sk-toggleable__label-arrow\">KNeighborsClassifier</label><div class=\"sk-toggleable__content\"><pre>KNeighborsClassifier()</pre></div></div></div></div></div>"
      ],
      "text/plain": [
       "KNeighborsClassifier()"
      ]
     },
     "execution_count": 82,
     "metadata": {},
     "output_type": "execute_result"
    }
   ],
   "source": [
    "knn_clf = KNeighborsClassifier() # Euclidean Distance, k = 5\n",
    "knn_clf.fit(x_train,y_train)"
   ]
  },
  {
   "cell_type": "code",
   "execution_count": 83,
   "id": "17242079",
   "metadata": {},
   "outputs": [
    {
     "name": "stdout",
     "output_type": "stream",
     "text": [
      "Confusion Matrix :\n",
      " [[1070  193]\n",
      " [  90 1047]]\n",
      "********************************************************************************\n",
      "Accuracy is : 0.8820833333333333\n",
      "********************************************************************************\n",
      "Classification Report :\n",
      "               precision    recall  f1-score   support\n",
      "\n",
      "           0       0.92      0.85      0.88      1263\n",
      "           1       0.84      0.92      0.88      1137\n",
      "\n",
      "    accuracy                           0.88      2400\n",
      "   macro avg       0.88      0.88      0.88      2400\n",
      "weighted avg       0.89      0.88      0.88      2400\n",
      "\n",
      "****************************************************************************************\n",
      "Precision : 0.8443548387096774\n",
      "Recall : 0.920844327176781\n",
      "f1-score : 0.8809423643247791\n"
     ]
    }
   ],
   "source": [
    "# Training Data Evaluation\n",
    "y_pred_train = knn_clf.predict(x_train)\n",
    "\n",
    "cnf_matrix = confusion_matrix(y_train, y_pred_train)\n",
    "print(\"Confusion Matrix :\\n\",cnf_matrix)\n",
    "print(\"*\"*80)\n",
    "\n",
    "knn_acc_train = accuracy_score(y_train, y_pred_train)\n",
    "print(\"Accuracy is :\",knn_acc_train)\n",
    "print(\"*\"*80)\n",
    "\n",
    "clf_report = classification_report(y_train, y_pred_train)\n",
    "print(\"Classification Report :\\n\",clf_report)\n",
    "\n",
    "print(\"*\"*88)\n",
    "knn_precision_train = precision_score(y_train, y_pred_train)\n",
    "print(\"Precision :\",knn_precision_train)\n",
    "\n",
    "knn_recall_train = recall_score(y_train, y_pred_train)\n",
    "print(\"Recall :\",knn_recall_train)\n",
    "\n",
    "knn_f1_score_train = f1_score(y_train, y_pred_train)\n",
    "print(\"f1-score :\",knn_f1_score_train)"
   ]
  },
  {
   "cell_type": "code",
   "execution_count": 84,
   "id": "d0cd86d4",
   "metadata": {},
   "outputs": [
    {
     "name": "stdout",
     "output_type": "stream",
     "text": [
      "Confusion Matrix :\n",
      " [[257  59]\n",
      " [ 24 260]]\n",
      "********************************************************************************\n",
      "Accuracy : 0.8616666666666667\n",
      "****************************************************************************************\n",
      "Classification Report :\n",
      "               precision    recall  f1-score   support\n",
      "\n",
      "           0       0.91      0.81      0.86       316\n",
      "           1       0.82      0.92      0.86       284\n",
      "\n",
      "    accuracy                           0.86       600\n",
      "   macro avg       0.86      0.86      0.86       600\n",
      "weighted avg       0.87      0.86      0.86       600\n",
      "\n",
      "****************************************************************************************\n",
      "Precision : 0.8150470219435737\n",
      "Recall : 0.9154929577464789\n",
      "f1-score : 0.8623548922056385\n"
     ]
    }
   ],
   "source": [
    "# Testing Data Evaluation\n",
    "y_pred = knn_clf.predict(x_test)\n",
    "\n",
    "cnf_matrix = confusion_matrix(y_test, y_pred)\n",
    "print(\"Confusion Matrix :\\n\",cnf_matrix)\n",
    "print(\"*\"*80)\n",
    "\n",
    "knn_acc_test = accuracy_score(y_test, y_pred)\n",
    "print(\"Accuracy :\",knn_acc_test)\n",
    "print(\"*\"*88)\n",
    "\n",
    "clf_report = classification_report(y_test, y_pred)\n",
    "print(\"Classification Report :\\n\",clf_report)\n",
    "\n",
    "print(\"*\"*88)\n",
    "knn_precision_test = precision_score(y_test, y_pred)\n",
    "print(\"Precision :\",knn_precision_test)\n",
    "\n",
    "knn_recall_test = recall_score(y_test, y_pred)\n",
    "print(\"Recall :\",knn_recall_test)\n",
    "\n",
    "knn_f1_score_test = f1_score(y_test, y_pred)\n",
    "print(\"f1-score :\",knn_f1_score_test)"
   ]
  },
  {
   "cell_type": "code",
   "execution_count": 85,
   "id": "ec0d857d",
   "metadata": {},
   "outputs": [
    {
     "data": {
      "text/html": [
       "<style>#sk-container-id-4 {color: black;background-color: white;}#sk-container-id-4 pre{padding: 0;}#sk-container-id-4 div.sk-toggleable {background-color: white;}#sk-container-id-4 label.sk-toggleable__label {cursor: pointer;display: block;width: 100%;margin-bottom: 0;padding: 0.3em;box-sizing: border-box;text-align: center;}#sk-container-id-4 label.sk-toggleable__label-arrow:before {content: \"▸\";float: left;margin-right: 0.25em;color: #696969;}#sk-container-id-4 label.sk-toggleable__label-arrow:hover:before {color: black;}#sk-container-id-4 div.sk-estimator:hover label.sk-toggleable__label-arrow:before {color: black;}#sk-container-id-4 div.sk-toggleable__content {max-height: 0;max-width: 0;overflow: hidden;text-align: left;background-color: #f0f8ff;}#sk-container-id-4 div.sk-toggleable__content pre {margin: 0.2em;color: black;border-radius: 0.25em;background-color: #f0f8ff;}#sk-container-id-4 input.sk-toggleable__control:checked~div.sk-toggleable__content {max-height: 200px;max-width: 100%;overflow: auto;}#sk-container-id-4 input.sk-toggleable__control:checked~label.sk-toggleable__label-arrow:before {content: \"▾\";}#sk-container-id-4 div.sk-estimator input.sk-toggleable__control:checked~label.sk-toggleable__label {background-color: #d4ebff;}#sk-container-id-4 div.sk-label input.sk-toggleable__control:checked~label.sk-toggleable__label {background-color: #d4ebff;}#sk-container-id-4 input.sk-hidden--visually {border: 0;clip: rect(1px 1px 1px 1px);clip: rect(1px, 1px, 1px, 1px);height: 1px;margin: -1px;overflow: hidden;padding: 0;position: absolute;width: 1px;}#sk-container-id-4 div.sk-estimator {font-family: monospace;background-color: #f0f8ff;border: 1px dotted black;border-radius: 0.25em;box-sizing: border-box;margin-bottom: 0.5em;}#sk-container-id-4 div.sk-estimator:hover {background-color: #d4ebff;}#sk-container-id-4 div.sk-parallel-item::after {content: \"\";width: 100%;border-bottom: 1px solid gray;flex-grow: 1;}#sk-container-id-4 div.sk-label:hover label.sk-toggleable__label {background-color: #d4ebff;}#sk-container-id-4 div.sk-serial::before {content: \"\";position: absolute;border-left: 1px solid gray;box-sizing: border-box;top: 0;bottom: 0;left: 50%;z-index: 0;}#sk-container-id-4 div.sk-serial {display: flex;flex-direction: column;align-items: center;background-color: white;padding-right: 0.2em;padding-left: 0.2em;position: relative;}#sk-container-id-4 div.sk-item {position: relative;z-index: 1;}#sk-container-id-4 div.sk-parallel {display: flex;align-items: stretch;justify-content: center;background-color: white;position: relative;}#sk-container-id-4 div.sk-item::before, #sk-container-id-4 div.sk-parallel-item::before {content: \"\";position: absolute;border-left: 1px solid gray;box-sizing: border-box;top: 0;bottom: 0;left: 50%;z-index: -1;}#sk-container-id-4 div.sk-parallel-item {display: flex;flex-direction: column;z-index: 1;position: relative;background-color: white;}#sk-container-id-4 div.sk-parallel-item:first-child::after {align-self: flex-end;width: 50%;}#sk-container-id-4 div.sk-parallel-item:last-child::after {align-self: flex-start;width: 50%;}#sk-container-id-4 div.sk-parallel-item:only-child::after {width: 0;}#sk-container-id-4 div.sk-dashed-wrapped {border: 1px dashed gray;margin: 0 0.4em 0.5em 0.4em;box-sizing: border-box;padding-bottom: 0.4em;background-color: white;}#sk-container-id-4 div.sk-label label {font-family: monospace;font-weight: bold;display: inline-block;line-height: 1.2em;}#sk-container-id-4 div.sk-label-container {text-align: center;}#sk-container-id-4 div.sk-container {/* jupyter's `normalize.less` sets `[hidden] { display: none; }` but bootstrap.min.css set `[hidden] { display: none !important; }` so we also need the `!important` here to be able to override the default hidden behavior on the sphinx rendered scikit-learn.org. See: https://github.com/scikit-learn/scikit-learn/issues/21755 */display: inline-block !important;position: relative;}#sk-container-id-4 div.sk-text-repr-fallback {display: none;}</style><div id=\"sk-container-id-4\" class=\"sk-top-container\"><div class=\"sk-text-repr-fallback\"><pre>KNeighborsClassifier(n_neighbors=7, p=1)</pre><b>In a Jupyter environment, please rerun this cell to show the HTML representation or trust the notebook. <br />On GitHub, the HTML representation is unable to render, please try loading this page with nbviewer.org.</b></div><div class=\"sk-container\" hidden><div class=\"sk-item\"><div class=\"sk-estimator sk-toggleable\"><input class=\"sk-toggleable__control sk-hidden--visually\" id=\"sk-estimator-id-4\" type=\"checkbox\" checked><label for=\"sk-estimator-id-4\" class=\"sk-toggleable__label sk-toggleable__label-arrow\">KNeighborsClassifier</label><div class=\"sk-toggleable__content\"><pre>KNeighborsClassifier(n_neighbors=7, p=1)</pre></div></div></div></div></div>"
      ],
      "text/plain": [
       "KNeighborsClassifier(n_neighbors=7, p=1)"
      ]
     },
     "execution_count": 85,
     "metadata": {},
     "output_type": "execute_result"
    }
   ],
   "source": [
    "knn_clf = KNeighborsClassifier() \n",
    "\n",
    "hyperparameters = {\"n_neighbors\" : np.arange(3,30),\n",
    "                  'p' :[1,2]}\n",
    "\n",
    "gscv_knn_clf = RandomizedSearchCV(knn_clf,hyperparameters,cv=5)\n",
    "gscv_knn_clf.fit(x_train, y_train)\n",
    "gscv_knn_clf.best_estimator_"
   ]
  },
  {
   "cell_type": "code",
   "execution_count": 86,
   "id": "1988e51b",
   "metadata": {},
   "outputs": [
    {
     "name": "stdout",
     "output_type": "stream",
     "text": [
      "Confusion Matrix :\n",
      " [[261  55]\n",
      " [ 30 254]]\n",
      "********************************************************************************\n",
      "Accuracy : 0.8583333333333333\n",
      "****************************************************************************************\n",
      "Classification Report :\n",
      "               precision    recall  f1-score   support\n",
      "\n",
      "           0       0.90      0.83      0.86       316\n",
      "           1       0.82      0.89      0.86       284\n",
      "\n",
      "    accuracy                           0.86       600\n",
      "   macro avg       0.86      0.86      0.86       600\n",
      "weighted avg       0.86      0.86      0.86       600\n",
      "\n",
      "****************************************************************************************\n",
      "Precision : 0.8220064724919094\n",
      "Recall : 0.8943661971830986\n",
      "f1-score : 0.8566610455311973\n"
     ]
    }
   ],
   "source": [
    "# Testing Data Evaluation\n",
    "knn_clf_hp = gscv_knn_clf.best_estimator_\n",
    "\n",
    "y_pred = knn_clf_hp.predict(x_test)\n",
    "\n",
    "cnf_matrix = confusion_matrix(y_test, y_pred)\n",
    "print(\"Confusion Matrix :\\n\",cnf_matrix)\n",
    "print(\"*\"*80)\n",
    "\n",
    "knn_acc_test_hp = accuracy_score(y_test, y_pred)\n",
    "print(\"Accuracy :\",knn_acc_test_hp)\n",
    "print(\"*\"*88)\n",
    "\n",
    "clf_report = classification_report(y_test, y_pred)\n",
    "print(\"Classification Report :\\n\",clf_report)\n",
    "\n",
    "print(\"*\"*88)\n",
    "knn_precision_test_hp = precision_score(y_test, y_pred)\n",
    "print(\"Precision :\",knn_precision_test_hp)\n",
    "\n",
    "knn_recall_test_hp = recall_score(y_test, y_pred)\n",
    "print(\"Recall :\",knn_recall_test_hp)\n",
    "\n",
    "knn_f1_score_test_hp = f1_score(y_test, y_pred)\n",
    "print(\"f1-score :\",knn_f1_score_test_hp)"
   ]
  },
  {
   "cell_type": "code",
   "execution_count": 87,
   "id": "cd28e3f8",
   "metadata": {},
   "outputs": [
    {
     "name": "stdout",
     "output_type": "stream",
     "text": [
      "Confusion Matrix :\n",
      " [[1075  188]\n",
      " [  91 1046]]\n",
      "********************************************************************************\n",
      "Accuracy is : 0.88375\n",
      "********************************************************************************\n",
      "Classification Report :\n",
      "               precision    recall  f1-score   support\n",
      "\n",
      "           0       0.92      0.85      0.89      1263\n",
      "           1       0.85      0.92      0.88      1137\n",
      "\n",
      "    accuracy                           0.88      2400\n",
      "   macro avg       0.88      0.89      0.88      2400\n",
      "weighted avg       0.89      0.88      0.88      2400\n",
      "\n",
      "****************************************************************************************\n",
      "Precision : 0.8476499189627229\n",
      "Recall : 0.9199648197009674\n",
      "f1-score : 0.8823281315900465\n"
     ]
    }
   ],
   "source": [
    "# Training Data Evaluation\n",
    "y_pred_train = knn_clf_hp.predict(x_train)\n",
    "\n",
    "cnf_matrix = confusion_matrix(y_train, y_pred_train)\n",
    "print(\"Confusion Matrix :\\n\",cnf_matrix)\n",
    "print(\"*\"*80)\n",
    "\n",
    "knn_acc_train_hp = accuracy_score(y_train, y_pred_train)\n",
    "print(\"Accuracy is :\",knn_acc_train_hp)\n",
    "print(\"*\"*80)\n",
    "\n",
    "clf_report = classification_report(y_train, y_pred_train)\n",
    "print(\"Classification Report :\\n\",clf_report)\n",
    "\n",
    "print(\"*\"*88)\n",
    "knn_precision_train_hp = precision_score(y_train, y_pred_train)\n",
    "print(\"Precision :\",knn_precision_train_hp)\n",
    "\n",
    "knn_recall_train_hp = recall_score(y_train, y_pred_train)\n",
    "print(\"Recall :\",knn_recall_train_hp)\n",
    "\n",
    "knn_f1_score_train_hp = f1_score(y_train, y_pred_train)\n",
    "print(\"f1-score :\",knn_f1_score_train_hp)"
   ]
  },
  {
   "cell_type": "markdown",
   "id": "990ee6f7",
   "metadata": {},
   "source": [
    "# Descision Tree Classifier"
   ]
  },
  {
   "cell_type": "code",
   "execution_count": 88,
   "id": "3bbe17ad",
   "metadata": {},
   "outputs": [],
   "source": [
    "x = df.drop(\"MetabolicSyndrome\",axis = 1)\n",
    "y = df['MetabolicSyndrome']\n",
    "\n",
    "x_train, x_test, y_train, y_test = train_test_split(x_sampled,y_sampled,test_size=0.20, random_state=22,stratify=y_sampled)"
   ]
  },
  {
   "cell_type": "code",
   "execution_count": 89,
   "id": "9782e1ac",
   "metadata": {},
   "outputs": [
    {
     "data": {
      "text/html": [
       "<style>#sk-container-id-5 {color: black;background-color: white;}#sk-container-id-5 pre{padding: 0;}#sk-container-id-5 div.sk-toggleable {background-color: white;}#sk-container-id-5 label.sk-toggleable__label {cursor: pointer;display: block;width: 100%;margin-bottom: 0;padding: 0.3em;box-sizing: border-box;text-align: center;}#sk-container-id-5 label.sk-toggleable__label-arrow:before {content: \"▸\";float: left;margin-right: 0.25em;color: #696969;}#sk-container-id-5 label.sk-toggleable__label-arrow:hover:before {color: black;}#sk-container-id-5 div.sk-estimator:hover label.sk-toggleable__label-arrow:before {color: black;}#sk-container-id-5 div.sk-toggleable__content {max-height: 0;max-width: 0;overflow: hidden;text-align: left;background-color: #f0f8ff;}#sk-container-id-5 div.sk-toggleable__content pre {margin: 0.2em;color: black;border-radius: 0.25em;background-color: #f0f8ff;}#sk-container-id-5 input.sk-toggleable__control:checked~div.sk-toggleable__content {max-height: 200px;max-width: 100%;overflow: auto;}#sk-container-id-5 input.sk-toggleable__control:checked~label.sk-toggleable__label-arrow:before {content: \"▾\";}#sk-container-id-5 div.sk-estimator input.sk-toggleable__control:checked~label.sk-toggleable__label {background-color: #d4ebff;}#sk-container-id-5 div.sk-label input.sk-toggleable__control:checked~label.sk-toggleable__label {background-color: #d4ebff;}#sk-container-id-5 input.sk-hidden--visually {border: 0;clip: rect(1px 1px 1px 1px);clip: rect(1px, 1px, 1px, 1px);height: 1px;margin: -1px;overflow: hidden;padding: 0;position: absolute;width: 1px;}#sk-container-id-5 div.sk-estimator {font-family: monospace;background-color: #f0f8ff;border: 1px dotted black;border-radius: 0.25em;box-sizing: border-box;margin-bottom: 0.5em;}#sk-container-id-5 div.sk-estimator:hover {background-color: #d4ebff;}#sk-container-id-5 div.sk-parallel-item::after {content: \"\";width: 100%;border-bottom: 1px solid gray;flex-grow: 1;}#sk-container-id-5 div.sk-label:hover label.sk-toggleable__label {background-color: #d4ebff;}#sk-container-id-5 div.sk-serial::before {content: \"\";position: absolute;border-left: 1px solid gray;box-sizing: border-box;top: 0;bottom: 0;left: 50%;z-index: 0;}#sk-container-id-5 div.sk-serial {display: flex;flex-direction: column;align-items: center;background-color: white;padding-right: 0.2em;padding-left: 0.2em;position: relative;}#sk-container-id-5 div.sk-item {position: relative;z-index: 1;}#sk-container-id-5 div.sk-parallel {display: flex;align-items: stretch;justify-content: center;background-color: white;position: relative;}#sk-container-id-5 div.sk-item::before, #sk-container-id-5 div.sk-parallel-item::before {content: \"\";position: absolute;border-left: 1px solid gray;box-sizing: border-box;top: 0;bottom: 0;left: 50%;z-index: -1;}#sk-container-id-5 div.sk-parallel-item {display: flex;flex-direction: column;z-index: 1;position: relative;background-color: white;}#sk-container-id-5 div.sk-parallel-item:first-child::after {align-self: flex-end;width: 50%;}#sk-container-id-5 div.sk-parallel-item:last-child::after {align-self: flex-start;width: 50%;}#sk-container-id-5 div.sk-parallel-item:only-child::after {width: 0;}#sk-container-id-5 div.sk-dashed-wrapped {border: 1px dashed gray;margin: 0 0.4em 0.5em 0.4em;box-sizing: border-box;padding-bottom: 0.4em;background-color: white;}#sk-container-id-5 div.sk-label label {font-family: monospace;font-weight: bold;display: inline-block;line-height: 1.2em;}#sk-container-id-5 div.sk-label-container {text-align: center;}#sk-container-id-5 div.sk-container {/* jupyter's `normalize.less` sets `[hidden] { display: none; }` but bootstrap.min.css set `[hidden] { display: none !important; }` so we also need the `!important` here to be able to override the default hidden behavior on the sphinx rendered scikit-learn.org. See: https://github.com/scikit-learn/scikit-learn/issues/21755 */display: inline-block !important;position: relative;}#sk-container-id-5 div.sk-text-repr-fallback {display: none;}</style><div id=\"sk-container-id-5\" class=\"sk-top-container\"><div class=\"sk-text-repr-fallback\"><pre>DecisionTreeClassifier()</pre><b>In a Jupyter environment, please rerun this cell to show the HTML representation or trust the notebook. <br />On GitHub, the HTML representation is unable to render, please try loading this page with nbviewer.org.</b></div><div class=\"sk-container\" hidden><div class=\"sk-item\"><div class=\"sk-estimator sk-toggleable\"><input class=\"sk-toggleable__control sk-hidden--visually\" id=\"sk-estimator-id-5\" type=\"checkbox\" checked><label for=\"sk-estimator-id-5\" class=\"sk-toggleable__label sk-toggleable__label-arrow\">DecisionTreeClassifier</label><div class=\"sk-toggleable__content\"><pre>DecisionTreeClassifier()</pre></div></div></div></div></div>"
      ],
      "text/plain": [
       "DecisionTreeClassifier()"
      ]
     },
     "execution_count": 89,
     "metadata": {},
     "output_type": "execute_result"
    }
   ],
   "source": [
    "dt_clf =DecisionTreeClassifier()\n",
    "dt_clf.fit(x_train,y_train)"
   ]
  },
  {
   "cell_type": "code",
   "execution_count": 90,
   "id": "28da08b6",
   "metadata": {},
   "outputs": [
    {
     "name": "stdout",
     "output_type": "stream",
     "text": [
      "Confusion Matrix :\n",
      " [[1263    0]\n",
      " [   0 1137]]\n",
      "****************************************************************************************\n",
      "Accuracy is : 1.0\n",
      "********************************************************************************\n",
      "Classification Report :\n",
      "               precision    recall  f1-score   support\n",
      "\n",
      "           0       1.00      1.00      1.00      1263\n",
      "           1       1.00      1.00      1.00      1137\n",
      "\n",
      "    accuracy                           1.00      2400\n",
      "   macro avg       1.00      1.00      1.00      2400\n",
      "weighted avg       1.00      1.00      1.00      2400\n",
      "\n",
      "****************************************************************************************\n",
      "Precision : 1.0\n",
      "Recall : 1.0\n",
      "f1-score : 1.0\n"
     ]
    }
   ],
   "source": [
    "# Training Data Evaluation\n",
    "y_pred_train = dt_clf.predict(x_train)\n",
    "\n",
    "cnf_matrix = confusion_matrix(y_train, y_pred_train)\n",
    "print(\"Confusion Matrix :\\n\",cnf_matrix)\n",
    "print(\"*\"*88)\n",
    "\n",
    "dt_acc_train = accuracy_score(y_train, y_pred_train)\n",
    "print(\"Accuracy is :\",dt_acc_train)\n",
    "print(\"*\"*80)\n",
    "\n",
    "clf_report = classification_report(y_train, y_pred_train)\n",
    "print(\"Classification Report :\\n\",clf_report)\n",
    "\n",
    "print(\"*\"*88)\n",
    "dt_precision_train = precision_score(y_train, y_pred_train)\n",
    "print(\"Precision :\",dt_precision_train)\n",
    "\n",
    "dt_recall_train = recall_score(y_train, y_pred_train)\n",
    "print(\"Recall :\",dt_recall_train)\n",
    "\n",
    "dt_f1_score_train = f1_score(y_train, y_pred_train)\n",
    "print(\"f1-score :\",dt_f1_score_train)"
   ]
  },
  {
   "cell_type": "code",
   "execution_count": 91,
   "id": "b7c33055",
   "metadata": {},
   "outputs": [
    {
     "name": "stdout",
     "output_type": "stream",
     "text": [
      "Confusion Matrix :\n",
      " [[278  38]\n",
      " [ 33 251]]\n",
      "****************************************************************************************\n",
      "Accuracy : 0.8816666666666667\n",
      "****************************************************************************************\n",
      "Classification Report :\n",
      "               precision    recall  f1-score   support\n",
      "\n",
      "           0       0.89      0.88      0.89       316\n",
      "           1       0.87      0.88      0.88       284\n",
      "\n",
      "    accuracy                           0.88       600\n",
      "   macro avg       0.88      0.88      0.88       600\n",
      "weighted avg       0.88      0.88      0.88       600\n",
      "\n",
      "****************************************************************************************\n",
      "Precision : 0.8685121107266436\n",
      "Recall : 0.8838028169014085\n",
      "f1-score : 0.8760907504363001\n"
     ]
    }
   ],
   "source": [
    "# Testing Data Evaluation\n",
    "y_pred = dt_clf.predict(x_test)\n",
    "\n",
    "cnf_matrix = confusion_matrix(y_test, y_pred)\n",
    "print(\"Confusion Matrix :\\n\",cnf_matrix)\n",
    "print(\"*\"*88)\n",
    "\n",
    "dt_acc_test = accuracy_score(y_test, y_pred)\n",
    "print(\"Accuracy :\",dt_acc_test)\n",
    "print(\"*\"*88)\n",
    "\n",
    "clf_report = classification_report(y_test, y_pred)\n",
    "print(\"Classification Report :\\n\",clf_report)\n",
    "\n",
    "print(\"*\"*88)\n",
    "dt_precision_test = precision_score(y_test, y_pred)\n",
    "print(\"Precision :\",dt_precision_test)\n",
    "\n",
    "dt_recall_test = recall_score(y_test, y_pred)\n",
    "print(\"Recall :\",dt_recall_test)\n",
    "\n",
    "dt_f1_score_test = f1_score(y_test, y_pred)\n",
    "print(\"f1-score :\",dt_f1_score_test)"
   ]
  },
  {
   "cell_type": "code",
   "execution_count": 92,
   "id": "7928704f",
   "metadata": {},
   "outputs": [
    {
     "data": {
      "text/html": [
       "<style>#sk-container-id-6 {color: black;background-color: white;}#sk-container-id-6 pre{padding: 0;}#sk-container-id-6 div.sk-toggleable {background-color: white;}#sk-container-id-6 label.sk-toggleable__label {cursor: pointer;display: block;width: 100%;margin-bottom: 0;padding: 0.3em;box-sizing: border-box;text-align: center;}#sk-container-id-6 label.sk-toggleable__label-arrow:before {content: \"▸\";float: left;margin-right: 0.25em;color: #696969;}#sk-container-id-6 label.sk-toggleable__label-arrow:hover:before {color: black;}#sk-container-id-6 div.sk-estimator:hover label.sk-toggleable__label-arrow:before {color: black;}#sk-container-id-6 div.sk-toggleable__content {max-height: 0;max-width: 0;overflow: hidden;text-align: left;background-color: #f0f8ff;}#sk-container-id-6 div.sk-toggleable__content pre {margin: 0.2em;color: black;border-radius: 0.25em;background-color: #f0f8ff;}#sk-container-id-6 input.sk-toggleable__control:checked~div.sk-toggleable__content {max-height: 200px;max-width: 100%;overflow: auto;}#sk-container-id-6 input.sk-toggleable__control:checked~label.sk-toggleable__label-arrow:before {content: \"▾\";}#sk-container-id-6 div.sk-estimator input.sk-toggleable__control:checked~label.sk-toggleable__label {background-color: #d4ebff;}#sk-container-id-6 div.sk-label input.sk-toggleable__control:checked~label.sk-toggleable__label {background-color: #d4ebff;}#sk-container-id-6 input.sk-hidden--visually {border: 0;clip: rect(1px 1px 1px 1px);clip: rect(1px, 1px, 1px, 1px);height: 1px;margin: -1px;overflow: hidden;padding: 0;position: absolute;width: 1px;}#sk-container-id-6 div.sk-estimator {font-family: monospace;background-color: #f0f8ff;border: 1px dotted black;border-radius: 0.25em;box-sizing: border-box;margin-bottom: 0.5em;}#sk-container-id-6 div.sk-estimator:hover {background-color: #d4ebff;}#sk-container-id-6 div.sk-parallel-item::after {content: \"\";width: 100%;border-bottom: 1px solid gray;flex-grow: 1;}#sk-container-id-6 div.sk-label:hover label.sk-toggleable__label {background-color: #d4ebff;}#sk-container-id-6 div.sk-serial::before {content: \"\";position: absolute;border-left: 1px solid gray;box-sizing: border-box;top: 0;bottom: 0;left: 50%;z-index: 0;}#sk-container-id-6 div.sk-serial {display: flex;flex-direction: column;align-items: center;background-color: white;padding-right: 0.2em;padding-left: 0.2em;position: relative;}#sk-container-id-6 div.sk-item {position: relative;z-index: 1;}#sk-container-id-6 div.sk-parallel {display: flex;align-items: stretch;justify-content: center;background-color: white;position: relative;}#sk-container-id-6 div.sk-item::before, #sk-container-id-6 div.sk-parallel-item::before {content: \"\";position: absolute;border-left: 1px solid gray;box-sizing: border-box;top: 0;bottom: 0;left: 50%;z-index: -1;}#sk-container-id-6 div.sk-parallel-item {display: flex;flex-direction: column;z-index: 1;position: relative;background-color: white;}#sk-container-id-6 div.sk-parallel-item:first-child::after {align-self: flex-end;width: 50%;}#sk-container-id-6 div.sk-parallel-item:last-child::after {align-self: flex-start;width: 50%;}#sk-container-id-6 div.sk-parallel-item:only-child::after {width: 0;}#sk-container-id-6 div.sk-dashed-wrapped {border: 1px dashed gray;margin: 0 0.4em 0.5em 0.4em;box-sizing: border-box;padding-bottom: 0.4em;background-color: white;}#sk-container-id-6 div.sk-label label {font-family: monospace;font-weight: bold;display: inline-block;line-height: 1.2em;}#sk-container-id-6 div.sk-label-container {text-align: center;}#sk-container-id-6 div.sk-container {/* jupyter's `normalize.less` sets `[hidden] { display: none; }` but bootstrap.min.css set `[hidden] { display: none !important; }` so we also need the `!important` here to be able to override the default hidden behavior on the sphinx rendered scikit-learn.org. See: https://github.com/scikit-learn/scikit-learn/issues/21755 */display: inline-block !important;position: relative;}#sk-container-id-6 div.sk-text-repr-fallback {display: none;}</style><div id=\"sk-container-id-6\" class=\"sk-top-container\"><div class=\"sk-text-repr-fallback\"><pre>DecisionTreeClassifier(criterion=&#x27;entropy&#x27;, max_depth=6, min_samples_leaf=6,\n",
       "                       min_samples_split=11)</pre><b>In a Jupyter environment, please rerun this cell to show the HTML representation or trust the notebook. <br />On GitHub, the HTML representation is unable to render, please try loading this page with nbviewer.org.</b></div><div class=\"sk-container\" hidden><div class=\"sk-item\"><div class=\"sk-estimator sk-toggleable\"><input class=\"sk-toggleable__control sk-hidden--visually\" id=\"sk-estimator-id-6\" type=\"checkbox\" checked><label for=\"sk-estimator-id-6\" class=\"sk-toggleable__label sk-toggleable__label-arrow\">DecisionTreeClassifier</label><div class=\"sk-toggleable__content\"><pre>DecisionTreeClassifier(criterion=&#x27;entropy&#x27;, max_depth=6, min_samples_leaf=6,\n",
       "                       min_samples_split=11)</pre></div></div></div></div></div>"
      ],
      "text/plain": [
       "DecisionTreeClassifier(criterion='entropy', max_depth=6, min_samples_leaf=6,\n",
       "                       min_samples_split=11)"
      ]
     },
     "execution_count": 92,
     "metadata": {},
     "output_type": "execute_result"
    }
   ],
   "source": [
    "hyperparameters ={ \"criterion\" :['gini','entropy'],\n",
    "     'max_depth': np.arange(3,8),\n",
    "     'min_samples_split' : np.arange(2,20),\n",
    "     'min_samples_leaf':np.arange(2,15)}\n",
    "\n",
    "rndcv_dt_clf = RandomizedSearchCV(dt_clf,hyperparameters, cv = 5)\n",
    "rndcv_dt_clf.fit(x_train, y_train)\n",
    "rndcv_dt_clf.best_estimator_"
   ]
  },
  {
   "cell_type": "code",
   "execution_count": 93,
   "id": "bb4c129f",
   "metadata": {},
   "outputs": [
    {
     "name": "stdout",
     "output_type": "stream",
     "text": [
      "Confusion Matrix :\n",
      " [[266  50]\n",
      " [ 22 262]]\n",
      "********************************************************************************\n",
      "Accuracy : 0.88\n",
      "****************************************************************************************\n",
      "Classification Report :\n",
      "               precision    recall  f1-score   support\n",
      "\n",
      "           0       0.92      0.84      0.88       316\n",
      "           1       0.84      0.92      0.88       284\n",
      "\n",
      "    accuracy                           0.88       600\n",
      "   macro avg       0.88      0.88      0.88       600\n",
      "weighted avg       0.88      0.88      0.88       600\n",
      "\n",
      "****************************************************************************************\n",
      "Precision : 0.8397435897435898\n",
      "Recall : 0.9225352112676056\n",
      "f1-score : 0.8791946308724832\n"
     ]
    }
   ],
   "source": [
    "# Testing Data Evaluation\n",
    "dt_clf_hp = rndcv_dt_clf.best_estimator_\n",
    "\n",
    "y_pred = dt_clf_hp.predict(x_test)\n",
    "\n",
    "cnf_matrix = confusion_matrix(y_test, y_pred)\n",
    "print(\"Confusion Matrix :\\n\",cnf_matrix)\n",
    "print(\"*\"*80)\n",
    "\n",
    "dt_acc_test_hp = accuracy_score(y_test, y_pred)\n",
    "print(\"Accuracy :\",dt_acc_test_hp)\n",
    "print(\"*\"*88)\n",
    "\n",
    "clf_report = classification_report(y_test, y_pred)\n",
    "print(\"Classification Report :\\n\",clf_report)\n",
    "\n",
    "print(\"*\"*88)\n",
    "dt_precision_test_hp = precision_score(y_test, y_pred)\n",
    "print(\"Precision :\",dt_precision_test_hp)\n",
    "\n",
    "dt_recall_test_hp = recall_score(y_test, y_pred)\n",
    "print(\"Recall :\",dt_recall_test_hp)\n",
    "\n",
    "dt_f1_score_test_hp = f1_score(y_test, y_pred)\n",
    "print(\"f1-score :\",dt_f1_score_test_hp)"
   ]
  },
  {
   "cell_type": "code",
   "execution_count": 94,
   "id": "7945e4ff",
   "metadata": {},
   "outputs": [
    {
     "name": "stdout",
     "output_type": "stream",
     "text": [
      "Confusion Matrix :\n",
      " [[1091  172]\n",
      " [  61 1076]]\n",
      "********************************************************************************\n",
      "Accuracy is : 0.9029166666666667\n",
      "********************************************************************************\n",
      "Classification Report :\n",
      "               precision    recall  f1-score   support\n",
      "\n",
      "           0       0.95      0.86      0.90      1263\n",
      "           1       0.86      0.95      0.90      1137\n",
      "\n",
      "    accuracy                           0.90      2400\n",
      "   macro avg       0.90      0.91      0.90      2400\n",
      "weighted avg       0.91      0.90      0.90      2400\n",
      "\n",
      "****************************************************************************************\n",
      "Precision : 0.8621794871794872\n",
      "Recall : 0.9463500439753738\n",
      "f1-score : 0.9023060796645703\n"
     ]
    }
   ],
   "source": [
    "# Training Data Evaluation\n",
    "y_pred_train = dt_clf_hp.predict(x_train)\n",
    "\n",
    "cnf_matrix = confusion_matrix(y_train, y_pred_train)\n",
    "print(\"Confusion Matrix :\\n\",cnf_matrix)\n",
    "print(\"*\"*80)\n",
    "\n",
    "dt_acc_train_hp = accuracy_score(y_train, y_pred_train)\n",
    "print(\"Accuracy is :\",dt_acc_train_hp)\n",
    "print(\"*\"*80)\n",
    "\n",
    "clf_report = classification_report(y_train, y_pred_train)\n",
    "print(\"Classification Report :\\n\",clf_report)\n",
    "\n",
    "print(\"*\"*88)\n",
    "dt_precision_train_hp = precision_score(y_train, y_pred_train)\n",
    "print(\"Precision :\",dt_precision_train_hp)\n",
    "\n",
    "dt_recall_train_hp = recall_score(y_train, y_pred_train)\n",
    "print(\"Recall :\",dt_recall_train_hp)\n",
    "\n",
    "dt_f1_score_train_hp = f1_score(y_train, y_pred_train)\n",
    "print(\"f1-score :\",dt_f1_score_train_hp)"
   ]
  },
  {
   "cell_type": "markdown",
   "id": "92a704ae",
   "metadata": {},
   "source": [
    "## Pruning"
   ]
  },
  {
   "cell_type": "code",
   "execution_count": 156,
   "id": "80b0fe84",
   "metadata": {},
   "outputs": [],
   "source": [
    "result = dt_clf.cost_complexity_pruning_path(x_train, y_train)\n",
    "ccp_alpha_list = result['ccp_alphas']\n",
    "# ccp_alpha_list"
   ]
  },
  {
   "cell_type": "code",
   "execution_count": 157,
   "id": "c56016f8",
   "metadata": {},
   "outputs": [],
   "source": [
    "train_accuracy_list = []\n",
    "test_accuracy_list = []\n",
    "for ccp_alpha in ccp_alpha_list:\n",
    "    dt_clf = DecisionTreeClassifier(random_state=22,ccp_alpha=ccp_alpha)\n",
    "    dt_clf.fit(x_train, y_train)\n",
    "    train_accuracy_list.append(dt_clf.score(x_train, y_train))\n",
    "    test_accuracy_list.append(dt_clf.score(x_test, y_test))\n",
    "    \n",
    "# train_accuracy_list\n",
    "# test_accuracy_list"
   ]
  },
  {
   "cell_type": "code",
   "execution_count": 158,
   "id": "a054b046",
   "metadata": {},
   "outputs": [
    {
     "data": {
      "text/plain": [
       "(array([33, 34, 35, 36, 52, 53, 54, 55, 56, 57, 58, 59, 60, 79, 81, 89, 90],\n",
       "       dtype=int64),)"
      ]
     },
     "execution_count": 158,
     "metadata": {},
     "output_type": "execute_result"
    }
   ],
   "source": [
    "np.where(test_accuracy_list == np.max(test_accuracy_list))"
   ]
  },
  {
   "cell_type": "code",
   "execution_count": 159,
   "id": "0677f4f3",
   "metadata": {},
   "outputs": [
    {
     "data": {
      "text/plain": [
       "0.000634920634920635"
      ]
     },
     "execution_count": 159,
     "metadata": {},
     "output_type": "execute_result"
    }
   ],
   "source": [
    "ccp_alpha_list[33]"
   ]
  },
  {
   "cell_type": "code",
   "execution_count": 160,
   "id": "82c7024c",
   "metadata": {},
   "outputs": [
    {
     "data": {
      "text/plain": [
       "0.98"
      ]
     },
     "execution_count": 160,
     "metadata": {},
     "output_type": "execute_result"
    }
   ],
   "source": [
    "train_accuracy_list[33]"
   ]
  },
  {
   "cell_type": "code",
   "execution_count": 161,
   "id": "2a7286c5",
   "metadata": {
    "scrolled": true
   },
   "outputs": [
    {
     "data": {
      "text/plain": [
       "<matplotlib.legend.Legend at 0x1fb64548880>"
      ]
     },
     "execution_count": 161,
     "metadata": {},
     "output_type": "execute_result"
    },
    {
     "data": {
      "image/png": "[encoded data removed]",
      "text/plain": [
       "<Figure size 432x288 with 1 Axes>"
      ]
     },
     "metadata": {
      "needs_background": "light"
     },
     "output_type": "display_data"
    }
   ],
   "source": [
    "fig,ax = plt.subplots()\n",
    "ax.plot(ccp_alpha_list, train_accuracy_list, label = \"Training Data Accuracy\")\n",
    "ax.plot(ccp_alpha_list, test_accuracy_list, label = \"Test Data Accuracy\")\n",
    "ax.legend()"
   ]
  },
  {
   "cell_type": "code",
   "execution_count": 162,
   "id": "319f61d9",
   "metadata": {},
   "outputs": [
    {
     "data": {
      "text/html": [
       "<style>#sk-container-id-14 {color: black;background-color: white;}#sk-container-id-14 pre{padding: 0;}#sk-container-id-14 div.sk-toggleable {background-color: white;}#sk-container-id-14 label.sk-toggleable__label {cursor: pointer;display: block;width: 100%;margin-bottom: 0;padding: 0.3em;box-sizing: border-box;text-align: center;}#sk-container-id-14 label.sk-toggleable__label-arrow:before {content: \"▸\";float: left;margin-right: 0.25em;color: #696969;}#sk-container-id-14 label.sk-toggleable__label-arrow:hover:before {color: black;}#sk-container-id-14 div.sk-estimator:hover label.sk-toggleable__label-arrow:before {color: black;}#sk-container-id-14 div.sk-toggleable__content {max-height: 0;max-width: 0;overflow: hidden;text-align: left;background-color: #f0f8ff;}#sk-container-id-14 div.sk-toggleable__content pre {margin: 0.2em;color: black;border-radius: 0.25em;background-color: #f0f8ff;}#sk-container-id-14 input.sk-toggleable__control:checked~div.sk-toggleable__content {max-height: 200px;max-width: 100%;overflow: auto;}#sk-container-id-14 input.sk-toggleable__control:checked~label.sk-toggleable__label-arrow:before {content: \"▾\";}#sk-container-id-14 div.sk-estimator input.sk-toggleable__control:checked~label.sk-toggleable__label {background-color: #d4ebff;}#sk-container-id-14 div.sk-label input.sk-toggleable__control:checked~label.sk-toggleable__label {background-color: #d4ebff;}#sk-container-id-14 input.sk-hidden--visually {border: 0;clip: rect(1px 1px 1px 1px);clip: rect(1px, 1px, 1px, 1px);height: 1px;margin: -1px;overflow: hidden;padding: 0;position: absolute;width: 1px;}#sk-container-id-14 div.sk-estimator {font-family: monospace;background-color: #f0f8ff;border: 1px dotted black;border-radius: 0.25em;box-sizing: border-box;margin-bottom: 0.5em;}#sk-container-id-14 div.sk-estimator:hover {background-color: #d4ebff;}#sk-container-id-14 div.sk-parallel-item::after {content: \"\";width: 100%;border-bottom: 1px solid gray;flex-grow: 1;}#sk-container-id-14 div.sk-label:hover label.sk-toggleable__label {background-color: #d4ebff;}#sk-container-id-14 div.sk-serial::before {content: \"\";position: absolute;border-left: 1px solid gray;box-sizing: border-box;top: 0;bottom: 0;left: 50%;z-index: 0;}#sk-container-id-14 div.sk-serial {display: flex;flex-direction: column;align-items: center;background-color: white;padding-right: 0.2em;padding-left: 0.2em;position: relative;}#sk-container-id-14 div.sk-item {position: relative;z-index: 1;}#sk-container-id-14 div.sk-parallel {display: flex;align-items: stretch;justify-content: center;background-color: white;position: relative;}#sk-container-id-14 div.sk-item::before, #sk-container-id-14 div.sk-parallel-item::before {content: \"\";position: absolute;border-left: 1px solid gray;box-sizing: border-box;top: 0;bottom: 0;left: 50%;z-index: -1;}#sk-container-id-14 div.sk-parallel-item {display: flex;flex-direction: column;z-index: 1;position: relative;background-color: white;}#sk-container-id-14 div.sk-parallel-item:first-child::after {align-self: flex-end;width: 50%;}#sk-container-id-14 div.sk-parallel-item:last-child::after {align-self: flex-start;width: 50%;}#sk-container-id-14 div.sk-parallel-item:only-child::after {width: 0;}#sk-container-id-14 div.sk-dashed-wrapped {border: 1px dashed gray;margin: 0 0.4em 0.5em 0.4em;box-sizing: border-box;padding-bottom: 0.4em;background-color: white;}#sk-container-id-14 div.sk-label label {font-family: monospace;font-weight: bold;display: inline-block;line-height: 1.2em;}#sk-container-id-14 div.sk-label-container {text-align: center;}#sk-container-id-14 div.sk-container {/* jupyter's `normalize.less` sets `[hidden] { display: none; }` but bootstrap.min.css set `[hidden] { display: none !important; }` so we also need the `!important` here to be able to override the default hidden behavior on the sphinx rendered scikit-learn.org. See: https://github.com/scikit-learn/scikit-learn/issues/21755 */display: inline-block !important;position: relative;}#sk-container-id-14 div.sk-text-repr-fallback {display: none;}</style><div id=\"sk-container-id-14\" class=\"sk-top-container\"><div class=\"sk-text-repr-fallback\"><pre>DecisionTreeClassifier(ccp_alpha=0.000634920634920635, random_state=22)</pre><b>In a Jupyter environment, please rerun this cell to show the HTML representation or trust the notebook. <br />On GitHub, the HTML representation is unable to render, please try loading this page with nbviewer.org.</b></div><div class=\"sk-container\" hidden><div class=\"sk-item\"><div class=\"sk-estimator sk-toggleable\"><input class=\"sk-toggleable__control sk-hidden--visually\" id=\"sk-estimator-id-14\" type=\"checkbox\" checked><label for=\"sk-estimator-id-14\" class=\"sk-toggleable__label sk-toggleable__label-arrow\">DecisionTreeClassifier</label><div class=\"sk-toggleable__content\"><pre>DecisionTreeClassifier(ccp_alpha=0.000634920634920635, random_state=22)</pre></div></div></div></div></div>"
      ],
      "text/plain": [
       "DecisionTreeClassifier(ccp_alpha=0.000634920634920635, random_state=22)"
      ]
     },
     "execution_count": 162,
     "metadata": {},
     "output_type": "execute_result"
    }
   ],
   "source": [
    "dt_clf = DecisionTreeClassifier(random_state=22,ccp_alpha=ccp_alpha_list[33])\n",
    "dt_clf.fit(x_train, y_train)"
   ]
  },
  {
   "cell_type": "code",
   "execution_count": 163,
   "id": "ad6ee7f4",
   "metadata": {},
   "outputs": [
    {
     "name": "stdout",
     "output_type": "stream",
     "text": [
      "Confusion Matrix :\n",
      " [[1239   24]\n",
      " [  24 1113]]\n",
      "****************************************************************************************\n",
      "Accuracy is : 0.98\n",
      "********************************************************************************\n",
      "Classification Report :\n",
      "               precision    recall  f1-score   support\n",
      "\n",
      "           0       0.98      0.98      0.98      1263\n",
      "           1       0.98      0.98      0.98      1137\n",
      "\n",
      "    accuracy                           0.98      2400\n",
      "   macro avg       0.98      0.98      0.98      2400\n",
      "weighted avg       0.98      0.98      0.98      2400\n",
      "\n",
      "****************************************************************************************\n",
      "Precision : 0.978891820580475\n",
      "Recall : 0.978891820580475\n",
      "f1-score : 0.978891820580475\n"
     ]
    }
   ],
   "source": [
    "# Training Data Evaluation\n",
    "y_pred_train = dt_clf.predict(x_train)\n",
    "\n",
    "cnf_matrix = confusion_matrix(y_train, y_pred_train)\n",
    "print(\"Confusion Matrix :\\n\",cnf_matrix)\n",
    "print(\"*\"*88)\n",
    "\n",
    "dt_acc_train_pr = accuracy_score(y_train, y_pred_train)\n",
    "print(\"Accuracy is :\",dt_acc_train_pr)\n",
    "print(\"*\"*80)\n",
    "\n",
    "clf_report = classification_report(y_train, y_pred_train)\n",
    "print(\"Classification Report :\\n\",clf_report)\n",
    "\n",
    "print(\"*\"*88)\n",
    "dt_precision_train_pr = precision_score(y_train, y_pred_train)\n",
    "print(\"Precision :\",dt_precision_train_pr)\n",
    "\n",
    "dt_recall_train_pr = recall_score(y_train, y_pred_train)\n",
    "print(\"Recall :\",dt_recall_train_pr)\n",
    "\n",
    "dt_f1_score_train_pr = f1_score(y_train, y_pred_train)\n",
    "print(\"f1-score :\",dt_f1_score_train_pr)"
   ]
  },
  {
   "cell_type": "code",
   "execution_count": 164,
   "id": "09f98fb5",
   "metadata": {},
   "outputs": [
    {
     "name": "stdout",
     "output_type": "stream",
     "text": [
      "Confusion Matrix :\n",
      " [[284  32]\n",
      " [ 28 256]]\n",
      "****************************************************************************************\n",
      "Accuracy : 0.9\n",
      "****************************************************************************************\n",
      "Classification Report :\n",
      "               precision    recall  f1-score   support\n",
      "\n",
      "           0       0.91      0.90      0.90       316\n",
      "           1       0.89      0.90      0.90       284\n",
      "\n",
      "    accuracy                           0.90       600\n",
      "   macro avg       0.90      0.90      0.90       600\n",
      "weighted avg       0.90      0.90      0.90       600\n",
      "\n",
      "****************************************************************************************\n",
      "Precision : 0.8888888888888888\n",
      "Recall : 0.9014084507042254\n",
      "f1-score : 0.8951048951048951\n"
     ]
    }
   ],
   "source": [
    "# Testing Data Evaluation\n",
    "y_pred = dt_clf.predict(x_test)\n",
    "\n",
    "cnf_matrix = confusion_matrix(y_test, y_pred)\n",
    "print(\"Confusion Matrix :\\n\",cnf_matrix)\n",
    "print(\"*\"*88)\n",
    "\n",
    "dt_acc_test_pr = accuracy_score(y_test, y_pred)\n",
    "print(\"Accuracy :\",dt_acc_test_pr)\n",
    "print(\"*\"*88)\n",
    "\n",
    "clf_report = classification_report(y_test, y_pred)\n",
    "print(\"Classification Report :\\n\",clf_report)\n",
    "\n",
    "print(\"*\"*88)\n",
    "dt_precision_test_pr = precision_score(y_test, y_pred)\n",
    "print(\"Precision :\",dt_precision_test_pr)\n",
    "\n",
    "dt_recall_test_pr = recall_score(y_test, y_pred)\n",
    "print(\"Recall :\",dt_recall_test_pr)\n",
    "\n",
    "dt_f1_score_test_pr = f1_score(y_test, y_pred)\n",
    "print(\"f1-score :\",dt_f1_score_test_pr)"
   ]
  },
  {
   "cell_type": "markdown",
   "id": "bea727a4",
   "metadata": {},
   "source": [
    "# Random Forest"
   ]
  },
  {
   "cell_type": "code",
   "execution_count": 117,
   "id": "9de503a9",
   "metadata": {},
   "outputs": [],
   "source": [
    "x = df.drop(\"MetabolicSyndrome\",axis = 1)\n",
    "y = df['MetabolicSyndrome']\n",
    "\n",
    "x_train, x_test, y_train, y_test = train_test_split(x_sampled,y_sampled,test_size=0.20, random_state=22,stratify=y_sampled)"
   ]
  },
  {
   "cell_type": "code",
   "execution_count": 170,
   "id": "965d16de",
   "metadata": {},
   "outputs": [
    {
     "data": {
      "text/html": [
       "<style>#sk-container-id-15 {color: black;background-color: white;}#sk-container-id-15 pre{padding: 0;}#sk-container-id-15 div.sk-toggleable {background-color: white;}#sk-container-id-15 label.sk-toggleable__label {cursor: pointer;display: block;width: 100%;margin-bottom: 0;padding: 0.3em;box-sizing: border-box;text-align: center;}#sk-container-id-15 label.sk-toggleable__label-arrow:before {content: \"▸\";float: left;margin-right: 0.25em;color: #696969;}#sk-container-id-15 label.sk-toggleable__label-arrow:hover:before {color: black;}#sk-container-id-15 div.sk-estimator:hover label.sk-toggleable__label-arrow:before {color: black;}#sk-container-id-15 div.sk-toggleable__content {max-height: 0;max-width: 0;overflow: hidden;text-align: left;background-color: #f0f8ff;}#sk-container-id-15 div.sk-toggleable__content pre {margin: 0.2em;color: black;border-radius: 0.25em;background-color: #f0f8ff;}#sk-container-id-15 input.sk-toggleable__control:checked~div.sk-toggleable__content {max-height: 200px;max-width: 100%;overflow: auto;}#sk-container-id-15 input.sk-toggleable__control:checked~label.sk-toggleable__label-arrow:before {content: \"▾\";}#sk-container-id-15 div.sk-estimator input.sk-toggleable__control:checked~label.sk-toggleable__label {background-color: #d4ebff;}#sk-container-id-15 div.sk-label input.sk-toggleable__control:checked~label.sk-toggleable__label {background-color: #d4ebff;}#sk-container-id-15 input.sk-hidden--visually {border: 0;clip: rect(1px 1px 1px 1px);clip: rect(1px, 1px, 1px, 1px);height: 1px;margin: -1px;overflow: hidden;padding: 0;position: absolute;width: 1px;}#sk-container-id-15 div.sk-estimator {font-family: monospace;background-color: #f0f8ff;border: 1px dotted black;border-radius: 0.25em;box-sizing: border-box;margin-bottom: 0.5em;}#sk-container-id-15 div.sk-estimator:hover {background-color: #d4ebff;}#sk-container-id-15 div.sk-parallel-item::after {content: \"\";width: 100%;border-bottom: 1px solid gray;flex-grow: 1;}#sk-container-id-15 div.sk-label:hover label.sk-toggleable__label {background-color: #d4ebff;}#sk-container-id-15 div.sk-serial::before {content: \"\";position: absolute;border-left: 1px solid gray;box-sizing: border-box;top: 0;bottom: 0;left: 50%;z-index: 0;}#sk-container-id-15 div.sk-serial {display: flex;flex-direction: column;align-items: center;background-color: white;padding-right: 0.2em;padding-left: 0.2em;position: relative;}#sk-container-id-15 div.sk-item {position: relative;z-index: 1;}#sk-container-id-15 div.sk-parallel {display: flex;align-items: stretch;justify-content: center;background-color: white;position: relative;}#sk-container-id-15 div.sk-item::before, #sk-container-id-15 div.sk-parallel-item::before {content: \"\";position: absolute;border-left: 1px solid gray;box-sizing: border-box;top: 0;bottom: 0;left: 50%;z-index: -1;}#sk-container-id-15 div.sk-parallel-item {display: flex;flex-direction: column;z-index: 1;position: relative;background-color: white;}#sk-container-id-15 div.sk-parallel-item:first-child::after {align-self: flex-end;width: 50%;}#sk-container-id-15 div.sk-parallel-item:last-child::after {align-self: flex-start;width: 50%;}#sk-container-id-15 div.sk-parallel-item:only-child::after {width: 0;}#sk-container-id-15 div.sk-dashed-wrapped {border: 1px dashed gray;margin: 0 0.4em 0.5em 0.4em;box-sizing: border-box;padding-bottom: 0.4em;background-color: white;}#sk-container-id-15 div.sk-label label {font-family: monospace;font-weight: bold;display: inline-block;line-height: 1.2em;}#sk-container-id-15 div.sk-label-container {text-align: center;}#sk-container-id-15 div.sk-container {/* jupyter's `normalize.less` sets `[hidden] { display: none; }` but bootstrap.min.css set `[hidden] { display: none !important; }` so we also need the `!important` here to be able to override the default hidden behavior on the sphinx rendered scikit-learn.org. See: https://github.com/scikit-learn/scikit-learn/issues/21755 */display: inline-block !important;position: relative;}#sk-container-id-15 div.sk-text-repr-fallback {display: none;}</style><div id=\"sk-container-id-15\" class=\"sk-top-container\"><div class=\"sk-text-repr-fallback\"><pre>RandomForestClassifier()</pre><b>In a Jupyter environment, please rerun this cell to show the HTML representation or trust the notebook. <br />On GitHub, the HTML representation is unable to render, please try loading this page with nbviewer.org.</b></div><div class=\"sk-container\" hidden><div class=\"sk-item\"><div class=\"sk-estimator sk-toggleable\"><input class=\"sk-toggleable__control sk-hidden--visually\" id=\"sk-estimator-id-15\" type=\"checkbox\" checked><label for=\"sk-estimator-id-15\" class=\"sk-toggleable__label sk-toggleable__label-arrow\">RandomForestClassifier</label><div class=\"sk-toggleable__content\"><pre>RandomForestClassifier()</pre></div></div></div></div></div>"
      ],
      "text/plain": [
       "RandomForestClassifier()"
      ]
     },
     "execution_count": 170,
     "metadata": {},
     "output_type": "execute_result"
    }
   ],
   "source": [
    "rf_clf = RandomForestClassifier()\n",
    "rf_clf.fit(x_train,y_train)"
   ]
  },
  {
   "cell_type": "code",
   "execution_count": 119,
   "id": "3eb7e4c4",
   "metadata": {},
   "outputs": [
    {
     "name": "stdout",
     "output_type": "stream",
     "text": [
      "Confusion Matrix :\n",
      " [[1263    0]\n",
      " [   0 1137]]\n",
      "****************************************************************************************\n",
      "Accuracy is : 1.0\n",
      "********************************************************************************\n",
      "Classification Report :\n",
      "               precision    recall  f1-score   support\n",
      "\n",
      "           0       1.00      1.00      1.00      1263\n",
      "           1       1.00      1.00      1.00      1137\n",
      "\n",
      "    accuracy                           1.00      2400\n",
      "   macro avg       1.00      1.00      1.00      2400\n",
      "weighted avg       1.00      1.00      1.00      2400\n",
      "\n",
      "****************************************************************************************\n",
      "Precision : 1.0\n",
      "Recall : 1.0\n",
      "f1-score : 1.0\n"
     ]
    }
   ],
   "source": [
    "# Training Data Evaluation\n",
    "y_pred_train = rf_clf.predict(x_train)\n",
    "\n",
    "cnf_matrix = confusion_matrix(y_train, y_pred_train)\n",
    "print(\"Confusion Matrix :\\n\",cnf_matrix)\n",
    "print(\"*\"*88)\n",
    "\n",
    "rf_acc_train = accuracy_score(y_train, y_pred_train)\n",
    "print(\"Accuracy is :\",rf_acc_train)\n",
    "print(\"*\"*80)\n",
    "\n",
    "clf_report = classification_report(y_train, y_pred_train)\n",
    "print(\"Classification Report :\\n\",clf_report)\n",
    "\n",
    "print(\"*\"*88)\n",
    "rf_precision_train = precision_score(y_train, y_pred_train)\n",
    "print(\"Precision :\",rf_precision_train)\n",
    "\n",
    "rf_recall_train = recall_score(y_train, y_pred_train)\n",
    "print(\"Recall :\",rf_recall_train)\n",
    "\n",
    "rf_f1_score_train = f1_score(y_train, y_pred_train)\n",
    "print(\"f1-score :\",rf_f1_score_train)"
   ]
  },
  {
   "cell_type": "code",
   "execution_count": 120,
   "id": "e325c27f",
   "metadata": {},
   "outputs": [
    {
     "name": "stdout",
     "output_type": "stream",
     "text": [
      "Confusion Matrix :\n",
      " [[288  28]\n",
      " [ 19 265]]\n",
      "****************************************************************************************\n",
      "Accuracy : 0.9216666666666666\n",
      "****************************************************************************************\n",
      "Classification Report :\n",
      "               precision    recall  f1-score   support\n",
      "\n",
      "           0       0.94      0.91      0.92       316\n",
      "           1       0.90      0.93      0.92       284\n",
      "\n",
      "    accuracy                           0.92       600\n",
      "   macro avg       0.92      0.92      0.92       600\n",
      "weighted avg       0.92      0.92      0.92       600\n",
      "\n",
      "****************************************************************************************\n",
      "Precision : 0.9044368600682594\n",
      "Recall : 0.9330985915492958\n",
      "f1-score : 0.9185441941074522\n"
     ]
    }
   ],
   "source": [
    "# Testing Data Evaluation\n",
    "y_pred = rf_clf.predict(x_test)\n",
    "\n",
    "cnf_matrix = confusion_matrix(y_test, y_pred)\n",
    "print(\"Confusion Matrix :\\n\",cnf_matrix)\n",
    "print(\"*\"*88)\n",
    "\n",
    "rf_acc_test = accuracy_score(y_test, y_pred)\n",
    "print(\"Accuracy :\",rf_acc_test)\n",
    "print(\"*\"*88)\n",
    "\n",
    "clf_report = classification_report(y_test, y_pred)\n",
    "print(\"Classification Report :\\n\",clf_report)\n",
    "\n",
    "print(\"*\"*88)\n",
    "rf_precision_test = precision_score(y_test, y_pred)\n",
    "print(\"Precision :\",rf_precision_test)\n",
    "\n",
    "rf_recall_test = recall_score(y_test, y_pred)\n",
    "print(\"Recall :\",rf_recall_test)\n",
    "\n",
    "rf_f1_score_test = f1_score(y_test, y_pred)\n",
    "print(\"f1-score :\",rf_f1_score_test)"
   ]
  },
  {
   "cell_type": "markdown",
   "id": "7efdee15",
   "metadata": {},
   "source": [
    "## with Hyper Parameters"
   ]
  },
  {
   "cell_type": "code",
   "execution_count": 99,
   "id": "da47e2f8",
   "metadata": {},
   "outputs": [],
   "source": [
    "hyperparameters = {\n",
    "                \"n_estimators\" :np.arange(10,200),\n",
    "                \"criterion\" : ['gini','entropy'],\n",
    "                \"max_depth\" : np.arange(3, 20),\n",
    "                \"min_samples_split\" : np.arange(4,20), \n",
    "                \"min_samples_leaf\" : np.arange(3,10),\n",
    "                \"oob_score\" : [True],\n",
    "                \"random_state\" : [11]\n",
    "                    }"
   ]
  },
  {
   "cell_type": "code",
   "execution_count": 100,
   "id": "f825b775",
   "metadata": {},
   "outputs": [
    {
     "data": {
      "text/html": [
       "<style>#sk-container-id-8 {color: black;background-color: white;}#sk-container-id-8 pre{padding: 0;}#sk-container-id-8 div.sk-toggleable {background-color: white;}#sk-container-id-8 label.sk-toggleable__label {cursor: pointer;display: block;width: 100%;margin-bottom: 0;padding: 0.3em;box-sizing: border-box;text-align: center;}#sk-container-id-8 label.sk-toggleable__label-arrow:before {content: \"▸\";float: left;margin-right: 0.25em;color: #696969;}#sk-container-id-8 label.sk-toggleable__label-arrow:hover:before {color: black;}#sk-container-id-8 div.sk-estimator:hover label.sk-toggleable__label-arrow:before {color: black;}#sk-container-id-8 div.sk-toggleable__content {max-height: 0;max-width: 0;overflow: hidden;text-align: left;background-color: #f0f8ff;}#sk-container-id-8 div.sk-toggleable__content pre {margin: 0.2em;color: black;border-radius: 0.25em;background-color: #f0f8ff;}#sk-container-id-8 input.sk-toggleable__control:checked~div.sk-toggleable__content {max-height: 200px;max-width: 100%;overflow: auto;}#sk-container-id-8 input.sk-toggleable__control:checked~label.sk-toggleable__label-arrow:before {content: \"▾\";}#sk-container-id-8 div.sk-estimator input.sk-toggleable__control:checked~label.sk-toggleable__label {background-color: #d4ebff;}#sk-container-id-8 div.sk-label input.sk-toggleable__control:checked~label.sk-toggleable__label {background-color: #d4ebff;}#sk-container-id-8 input.sk-hidden--visually {border: 0;clip: rect(1px 1px 1px 1px);clip: rect(1px, 1px, 1px, 1px);height: 1px;margin: -1px;overflow: hidden;padding: 0;position: absolute;width: 1px;}#sk-container-id-8 div.sk-estimator {font-family: monospace;background-color: #f0f8ff;border: 1px dotted black;border-radius: 0.25em;box-sizing: border-box;margin-bottom: 0.5em;}#sk-container-id-8 div.sk-estimator:hover {background-color: #d4ebff;}#sk-container-id-8 div.sk-parallel-item::after {content: \"\";width: 100%;border-bottom: 1px solid gray;flex-grow: 1;}#sk-container-id-8 div.sk-label:hover label.sk-toggleable__label {background-color: #d4ebff;}#sk-container-id-8 div.sk-serial::before {content: \"\";position: absolute;border-left: 1px solid gray;box-sizing: border-box;top: 0;bottom: 0;left: 50%;z-index: 0;}#sk-container-id-8 div.sk-serial {display: flex;flex-direction: column;align-items: center;background-color: white;padding-right: 0.2em;padding-left: 0.2em;position: relative;}#sk-container-id-8 div.sk-item {position: relative;z-index: 1;}#sk-container-id-8 div.sk-parallel {display: flex;align-items: stretch;justify-content: center;background-color: white;position: relative;}#sk-container-id-8 div.sk-item::before, #sk-container-id-8 div.sk-parallel-item::before {content: \"\";position: absolute;border-left: 1px solid gray;box-sizing: border-box;top: 0;bottom: 0;left: 50%;z-index: -1;}#sk-container-id-8 div.sk-parallel-item {display: flex;flex-direction: column;z-index: 1;position: relative;background-color: white;}#sk-container-id-8 div.sk-parallel-item:first-child::after {align-self: flex-end;width: 50%;}#sk-container-id-8 div.sk-parallel-item:last-child::after {align-self: flex-start;width: 50%;}#sk-container-id-8 div.sk-parallel-item:only-child::after {width: 0;}#sk-container-id-8 div.sk-dashed-wrapped {border: 1px dashed gray;margin: 0 0.4em 0.5em 0.4em;box-sizing: border-box;padding-bottom: 0.4em;background-color: white;}#sk-container-id-8 div.sk-label label {font-family: monospace;font-weight: bold;display: inline-block;line-height: 1.2em;}#sk-container-id-8 div.sk-label-container {text-align: center;}#sk-container-id-8 div.sk-container {/* jupyter's `normalize.less` sets `[hidden] { display: none; }` but bootstrap.min.css set `[hidden] { display: none !important; }` so we also need the `!important` here to be able to override the default hidden behavior on the sphinx rendered scikit-learn.org. See: https://github.com/scikit-learn/scikit-learn/issues/21755 */display: inline-block !important;position: relative;}#sk-container-id-8 div.sk-text-repr-fallback {display: none;}</style><div id=\"sk-container-id-8\" class=\"sk-top-container\"><div class=\"sk-text-repr-fallback\"><pre>RandomForestClassifier(criterion=&#x27;entropy&#x27;, max_depth=10, min_samples_leaf=9,\n",
       "                       min_samples_split=16, n_estimators=191, oob_score=True,\n",
       "                       random_state=11)</pre><b>In a Jupyter environment, please rerun this cell to show the HTML representation or trust the notebook. <br />On GitHub, the HTML representation is unable to render, please try loading this page with nbviewer.org.</b></div><div class=\"sk-container\" hidden><div class=\"sk-item\"><div class=\"sk-estimator sk-toggleable\"><input class=\"sk-toggleable__control sk-hidden--visually\" id=\"sk-estimator-id-8\" type=\"checkbox\" checked><label for=\"sk-estimator-id-8\" class=\"sk-toggleable__label sk-toggleable__label-arrow\">RandomForestClassifier</label><div class=\"sk-toggleable__content\"><pre>RandomForestClassifier(criterion=&#x27;entropy&#x27;, max_depth=10, min_samples_leaf=9,\n",
       "                       min_samples_split=16, n_estimators=191, oob_score=True,\n",
       "                       random_state=11)</pre></div></div></div></div></div>"
      ],
      "text/plain": [
       "RandomForestClassifier(criterion='entropy', max_depth=10, min_samples_leaf=9,\n",
       "                       min_samples_split=16, n_estimators=191, oob_score=True,\n",
       "                       random_state=11)"
      ]
     },
     "execution_count": 100,
     "metadata": {},
     "output_type": "execute_result"
    }
   ],
   "source": [
    "rndcv_rf_model = RandomizedSearchCV(rf_clf,hyperparameters,cv = 7)\n",
    "rndcv_rf_model.fit(x_train, y_train)\n",
    "rndcv_rf_model.best_estimator_"
   ]
  },
  {
   "cell_type": "code",
   "execution_count": 101,
   "id": "75e19727",
   "metadata": {},
   "outputs": [
    {
     "name": "stdout",
     "output_type": "stream",
     "text": [
      "Confusion Matrix :\n",
      " [[266  50]\n",
      " [ 22 262]]\n",
      "********************************************************************************\n",
      "Accuracy : 0.88\n",
      "****************************************************************************************\n",
      "Classification Report :\n",
      "               precision    recall  f1-score   support\n",
      "\n",
      "           0       0.92      0.84      0.88       316\n",
      "           1       0.84      0.92      0.88       284\n",
      "\n",
      "    accuracy                           0.88       600\n",
      "   macro avg       0.88      0.88      0.88       600\n",
      "weighted avg       0.88      0.88      0.88       600\n",
      "\n",
      "****************************************************************************************\n",
      "Precision : 0.8397435897435898\n",
      "Recall : 0.9225352112676056\n",
      "f1-score : 0.8791946308724832\n"
     ]
    }
   ],
   "source": [
    "# Testing Data Evaluation\n",
    "rf_clf_hp = rndcv_dt_clf.best_estimator_\n",
    "\n",
    "y_pred = rf_clf_hp.predict(x_test)\n",
    "\n",
    "cnf_matrix = confusion_matrix(y_test, y_pred)\n",
    "print(\"Confusion Matrix :\\n\",cnf_matrix)\n",
    "print(\"*\"*80)\n",
    "\n",
    "rf_acc_test_hp = accuracy_score(y_test, y_pred)\n",
    "print(\"Accuracy :\",rf_acc_test_hp)\n",
    "print(\"*\"*88)\n",
    "\n",
    "clf_report = classification_report(y_test, y_pred)\n",
    "print(\"Classification Report :\\n\",clf_report)\n",
    "\n",
    "print(\"*\"*88)\n",
    "rf_precision_test_hp = precision_score(y_test, y_pred)\n",
    "print(\"Precision :\",rf_precision_test_hp)\n",
    "\n",
    "rf_recall_test_hp = recall_score(y_test, y_pred)\n",
    "print(\"Recall :\",rf_recall_test_hp)\n",
    "\n",
    "rf_f1_score_test_hp = f1_score(y_test, y_pred)\n",
    "print(\"f1-score :\",rf_f1_score_test_hp)"
   ]
  },
  {
   "cell_type": "code",
   "execution_count": 102,
   "id": "3c04b255",
   "metadata": {},
   "outputs": [
    {
     "name": "stdout",
     "output_type": "stream",
     "text": [
      "Confusion Matrix :\n",
      " [[1091  172]\n",
      " [  61 1076]]\n",
      "********************************************************************************\n",
      "Accuracy is : 0.9029166666666667\n",
      "********************************************************************************\n",
      "Classification Report :\n",
      "               precision    recall  f1-score   support\n",
      "\n",
      "           0       0.95      0.86      0.90      1263\n",
      "           1       0.86      0.95      0.90      1137\n",
      "\n",
      "    accuracy                           0.90      2400\n",
      "   macro avg       0.90      0.91      0.90      2400\n",
      "weighted avg       0.91      0.90      0.90      2400\n",
      "\n",
      "****************************************************************************************\n",
      "Precision : 0.8621794871794872\n",
      "Recall : 0.9463500439753738\n",
      "f1-score : 0.9023060796645703\n"
     ]
    }
   ],
   "source": [
    "# Training Data Evaluation\n",
    "y_pred_train = rf_clf_hp.predict(x_train)\n",
    "\n",
    "cnf_matrix = confusion_matrix(y_train, y_pred_train)\n",
    "print(\"Confusion Matrix :\\n\",cnf_matrix)\n",
    "print(\"*\"*80)\n",
    "\n",
    "rf_acc_train_hp = accuracy_score(y_train, y_pred_train)\n",
    "print(\"Accuracy is :\",rf_acc_train_hp)\n",
    "print(\"*\"*80)\n",
    "\n",
    "clf_report = classification_report(y_train, y_pred_train)\n",
    "print(\"Classification Report :\\n\",clf_report)\n",
    "\n",
    "print(\"*\"*88)\n",
    "rf_precision_train_hp = precision_score(y_train, y_pred_train)\n",
    "print(\"Precision :\",rf_precision_train_hp)\n",
    "\n",
    "rf_recall_train_hp = recall_score(y_train, y_pred_train)\n",
    "print(\"Recall :\",rf_recall_train_hp)\n",
    "\n",
    "rf_f1_score_train_hp = f1_score(y_train, y_pred_train)\n",
    "print(\"f1-score :\",rf_f1_score_train_hp)"
   ]
  },
  {
   "cell_type": "code",
   "execution_count": 103,
   "id": "2ee43f0d",
   "metadata": {},
   "outputs": [
    {
     "data": {
      "text/plain": [
       "<AxesSubplot:>"
      ]
     },
     "execution_count": 103,
     "metadata": {},
     "output_type": "execute_result"
    },
    {
     "data": {
      "image/png": "[encoded data removed]",
      "text/plain": [
       "<Figure size 504x360 with 2 Axes>"
      ]
     },
     "metadata": {
      "needs_background": "light"
     },
     "output_type": "display_data"
    }
   ],
   "source": [
    "plt.figure(figsize = (7, 5))\n",
    "sns.heatmap(cnf_matrix, annot = True)"
   ]
  },
  {
   "cell_type": "markdown",
   "id": "c55833a8",
   "metadata": {},
   "source": [
    "# Adaptiive Boosting - AdaBoost"
   ]
  },
  {
   "cell_type": "code",
   "execution_count": 104,
   "id": "085c2476",
   "metadata": {},
   "outputs": [],
   "source": [
    "x = df.drop(\"MetabolicSyndrome\",axis = 1)\n",
    "y = df['MetabolicSyndrome']\n",
    "\n",
    "x_train, x_test, y_train, y_test = train_test_split(x_sampled,y_sampled,test_size=0.20, random_state=22,stratify=y_sampled)"
   ]
  },
  {
   "cell_type": "code",
   "execution_count": 105,
   "id": "84b708a8",
   "metadata": {},
   "outputs": [
    {
     "data": {
      "text/html": [
       "<style>#sk-container-id-9 {color: black;background-color: white;}#sk-container-id-9 pre{padding: 0;}#sk-container-id-9 div.sk-toggleable {background-color: white;}#sk-container-id-9 label.sk-toggleable__label {cursor: pointer;display: block;width: 100%;margin-bottom: 0;padding: 0.3em;box-sizing: border-box;text-align: center;}#sk-container-id-9 label.sk-toggleable__label-arrow:before {content: \"▸\";float: left;margin-right: 0.25em;color: #696969;}#sk-container-id-9 label.sk-toggleable__label-arrow:hover:before {color: black;}#sk-container-id-9 div.sk-estimator:hover label.sk-toggleable__label-arrow:before {color: black;}#sk-container-id-9 div.sk-toggleable__content {max-height: 0;max-width: 0;overflow: hidden;text-align: left;background-color: #f0f8ff;}#sk-container-id-9 div.sk-toggleable__content pre {margin: 0.2em;color: black;border-radius: 0.25em;background-color: #f0f8ff;}#sk-container-id-9 input.sk-toggleable__control:checked~div.sk-toggleable__content {max-height: 200px;max-width: 100%;overflow: auto;}#sk-container-id-9 input.sk-toggleable__control:checked~label.sk-toggleable__label-arrow:before {content: \"▾\";}#sk-container-id-9 div.sk-estimator input.sk-toggleable__control:checked~label.sk-toggleable__label {background-color: #d4ebff;}#sk-container-id-9 div.sk-label input.sk-toggleable__control:checked~label.sk-toggleable__label {background-color: #d4ebff;}#sk-container-id-9 input.sk-hidden--visually {border: 0;clip: rect(1px 1px 1px 1px);clip: rect(1px, 1px, 1px, 1px);height: 1px;margin: -1px;overflow: hidden;padding: 0;position: absolute;width: 1px;}#sk-container-id-9 div.sk-estimator {font-family: monospace;background-color: #f0f8ff;border: 1px dotted black;border-radius: 0.25em;box-sizing: border-box;margin-bottom: 0.5em;}#sk-container-id-9 div.sk-estimator:hover {background-color: #d4ebff;}#sk-container-id-9 div.sk-parallel-item::after {content: \"\";width: 100%;border-bottom: 1px solid gray;flex-grow: 1;}#sk-container-id-9 div.sk-label:hover label.sk-toggleable__label {background-color: #d4ebff;}#sk-container-id-9 div.sk-serial::before {content: \"\";position: absolute;border-left: 1px solid gray;box-sizing: border-box;top: 0;bottom: 0;left: 50%;z-index: 0;}#sk-container-id-9 div.sk-serial {display: flex;flex-direction: column;align-items: center;background-color: white;padding-right: 0.2em;padding-left: 0.2em;position: relative;}#sk-container-id-9 div.sk-item {position: relative;z-index: 1;}#sk-container-id-9 div.sk-parallel {display: flex;align-items: stretch;justify-content: center;background-color: white;position: relative;}#sk-container-id-9 div.sk-item::before, #sk-container-id-9 div.sk-parallel-item::before {content: \"\";position: absolute;border-left: 1px solid gray;box-sizing: border-box;top: 0;bottom: 0;left: 50%;z-index: -1;}#sk-container-id-9 div.sk-parallel-item {display: flex;flex-direction: column;z-index: 1;position: relative;background-color: white;}#sk-container-id-9 div.sk-parallel-item:first-child::after {align-self: flex-end;width: 50%;}#sk-container-id-9 div.sk-parallel-item:last-child::after {align-self: flex-start;width: 50%;}#sk-container-id-9 div.sk-parallel-item:only-child::after {width: 0;}#sk-container-id-9 div.sk-dashed-wrapped {border: 1px dashed gray;margin: 0 0.4em 0.5em 0.4em;box-sizing: border-box;padding-bottom: 0.4em;background-color: white;}#sk-container-id-9 div.sk-label label {font-family: monospace;font-weight: bold;display: inline-block;line-height: 1.2em;}#sk-container-id-9 div.sk-label-container {text-align: center;}#sk-container-id-9 div.sk-container {/* jupyter's `normalize.less` sets `[hidden] { display: none; }` but bootstrap.min.css set `[hidden] { display: none !important; }` so we also need the `!important` here to be able to override the default hidden behavior on the sphinx rendered scikit-learn.org. See: https://github.com/scikit-learn/scikit-learn/issues/21755 */display: inline-block !important;position: relative;}#sk-container-id-9 div.sk-text-repr-fallback {display: none;}</style><div id=\"sk-container-id-9\" class=\"sk-top-container\"><div class=\"sk-text-repr-fallback\"><pre>AdaBoostClassifier()</pre><b>In a Jupyter environment, please rerun this cell to show the HTML representation or trust the notebook. <br />On GitHub, the HTML representation is unable to render, please try loading this page with nbviewer.org.</b></div><div class=\"sk-container\" hidden><div class=\"sk-item\"><div class=\"sk-estimator sk-toggleable\"><input class=\"sk-toggleable__control sk-hidden--visually\" id=\"sk-estimator-id-9\" type=\"checkbox\" checked><label for=\"sk-estimator-id-9\" class=\"sk-toggleable__label sk-toggleable__label-arrow\">AdaBoostClassifier</label><div class=\"sk-toggleable__content\"><pre>AdaBoostClassifier()</pre></div></div></div></div></div>"
      ],
      "text/plain": [
       "AdaBoostClassifier()"
      ]
     },
     "execution_count": 105,
     "metadata": {},
     "output_type": "execute_result"
    }
   ],
   "source": [
    "adb_clf = AdaBoostClassifier()\n",
    "adb_clf.fit(x_train, y_train)"
   ]
  },
  {
   "cell_type": "code",
   "execution_count": 106,
   "id": "68696263",
   "metadata": {},
   "outputs": [
    {
     "name": "stdout",
     "output_type": "stream",
     "text": [
      "Confusion Matrix :\n",
      " [[1147  116]\n",
      " [ 112 1025]]\n",
      "****************************************************************************************\n",
      "Accuracy is : 0.905\n",
      "********************************************************************************\n",
      "Classification Report :\n",
      "               precision    recall  f1-score   support\n",
      "\n",
      "           0       0.91      0.91      0.91      1263\n",
      "           1       0.90      0.90      0.90      1137\n",
      "\n",
      "    accuracy                           0.91      2400\n",
      "   macro avg       0.90      0.90      0.90      2400\n",
      "weighted avg       0.91      0.91      0.91      2400\n",
      "\n",
      "****************************************************************************************\n",
      "Precision : 0.8983347940403155\n",
      "Recall : 0.9014951627088831\n",
      "f1-score : 0.8999122036874452\n"
     ]
    }
   ],
   "source": [
    "# Training Data Evaluation\n",
    "y_pred_train = adb_clf.predict(x_train)\n",
    "\n",
    "cnf_matrix = confusion_matrix(y_train, y_pred_train)\n",
    "print(\"Confusion Matrix :\\n\",cnf_matrix)\n",
    "print(\"*\"*88)\n",
    "\n",
    "adb_acc_train = accuracy_score(y_train, y_pred_train)\n",
    "print(\"Accuracy is :\",adb_acc_train)\n",
    "print(\"*\"*80)\n",
    "\n",
    "clf_report = classification_report(y_train, y_pred_train)\n",
    "print(\"Classification Report :\\n\",clf_report)\n",
    "\n",
    "print(\"*\"*88)\n",
    "adb_precision_train = precision_score(y_train, y_pred_train)\n",
    "print(\"Precision :\",adb_precision_train)\n",
    "\n",
    "adb_recall_train = recall_score(y_train, y_pred_train)\n",
    "print(\"Recall :\",adb_recall_train)\n",
    "\n",
    "adb_f1_score_train = f1_score(y_train, y_pred_train)\n",
    "print(\"f1-score :\",adb_f1_score_train)"
   ]
  },
  {
   "cell_type": "code",
   "execution_count": 107,
   "id": "01530533",
   "metadata": {},
   "outputs": [
    {
     "name": "stdout",
     "output_type": "stream",
     "text": [
      "Confusion Matrix :\n",
      " [[278  38]\n",
      " [ 31 253]]\n",
      "****************************************************************************************\n",
      "Accuracy : 0.885\n",
      "****************************************************************************************\n",
      "Classification Report :\n",
      "               precision    recall  f1-score   support\n",
      "\n",
      "           0       0.90      0.88      0.89       316\n",
      "           1       0.87      0.89      0.88       284\n",
      "\n",
      "    accuracy                           0.89       600\n",
      "   macro avg       0.88      0.89      0.88       600\n",
      "weighted avg       0.89      0.89      0.89       600\n",
      "\n",
      "****************************************************************************************\n",
      "Precision : 0.8694158075601375\n",
      "Recall : 0.8908450704225352\n",
      "f1-score : 0.88\n"
     ]
    }
   ],
   "source": [
    "# Testing Data Evaluation\n",
    "y_pred = adb_clf.predict(x_test)\n",
    "\n",
    "cnf_matrix = confusion_matrix(y_test, y_pred)\n",
    "print(\"Confusion Matrix :\\n\",cnf_matrix)\n",
    "print(\"*\"*88)\n",
    "\n",
    "adb_acc_test = accuracy_score(y_test, y_pred)\n",
    "print(\"Accuracy :\",adb_acc_test)\n",
    "print(\"*\"*88)\n",
    "\n",
    "clf_report = classification_report(y_test, y_pred)\n",
    "print(\"Classification Report :\\n\",clf_report)\n",
    "\n",
    "print(\"*\"*88)\n",
    "adb_precision_test = precision_score(y_test, y_pred)\n",
    "print(\"Precision :\",adb_precision_test)\n",
    "\n",
    "adb_recall_test = recall_score(y_test, y_pred)\n",
    "print(\"Recall :\",adb_recall_test)\n",
    "\n",
    "adb_f1_score_test = f1_score(y_test, y_pred)\n",
    "print(\"f1-score :\",adb_f1_score_test)"
   ]
  },
  {
   "cell_type": "markdown",
   "id": "9c02da40",
   "metadata": {},
   "source": [
    "# Hyperparameter tunnig"
   ]
  },
  {
   "cell_type": "code",
   "execution_count": 108,
   "id": "3fe2319f",
   "metadata": {},
   "outputs": [
    {
     "data": {
      "text/html": [
       "<style>#sk-container-id-10 {color: black;background-color: white;}#sk-container-id-10 pre{padding: 0;}#sk-container-id-10 div.sk-toggleable {background-color: white;}#sk-container-id-10 label.sk-toggleable__label {cursor: pointer;display: block;width: 100%;margin-bottom: 0;padding: 0.3em;box-sizing: border-box;text-align: center;}#sk-container-id-10 label.sk-toggleable__label-arrow:before {content: \"▸\";float: left;margin-right: 0.25em;color: #696969;}#sk-container-id-10 label.sk-toggleable__label-arrow:hover:before {color: black;}#sk-container-id-10 div.sk-estimator:hover label.sk-toggleable__label-arrow:before {color: black;}#sk-container-id-10 div.sk-toggleable__content {max-height: 0;max-width: 0;overflow: hidden;text-align: left;background-color: #f0f8ff;}#sk-container-id-10 div.sk-toggleable__content pre {margin: 0.2em;color: black;border-radius: 0.25em;background-color: #f0f8ff;}#sk-container-id-10 input.sk-toggleable__control:checked~div.sk-toggleable__content {max-height: 200px;max-width: 100%;overflow: auto;}#sk-container-id-10 input.sk-toggleable__control:checked~label.sk-toggleable__label-arrow:before {content: \"▾\";}#sk-container-id-10 div.sk-estimator input.sk-toggleable__control:checked~label.sk-toggleable__label {background-color: #d4ebff;}#sk-container-id-10 div.sk-label input.sk-toggleable__control:checked~label.sk-toggleable__label {background-color: #d4ebff;}#sk-container-id-10 input.sk-hidden--visually {border: 0;clip: rect(1px 1px 1px 1px);clip: rect(1px, 1px, 1px, 1px);height: 1px;margin: -1px;overflow: hidden;padding: 0;position: absolute;width: 1px;}#sk-container-id-10 div.sk-estimator {font-family: monospace;background-color: #f0f8ff;border: 1px dotted black;border-radius: 0.25em;box-sizing: border-box;margin-bottom: 0.5em;}#sk-container-id-10 div.sk-estimator:hover {background-color: #d4ebff;}#sk-container-id-10 div.sk-parallel-item::after {content: \"\";width: 100%;border-bottom: 1px solid gray;flex-grow: 1;}#sk-container-id-10 div.sk-label:hover label.sk-toggleable__label {background-color: #d4ebff;}#sk-container-id-10 div.sk-serial::before {content: \"\";position: absolute;border-left: 1px solid gray;box-sizing: border-box;top: 0;bottom: 0;left: 50%;z-index: 0;}#sk-container-id-10 div.sk-serial {display: flex;flex-direction: column;align-items: center;background-color: white;padding-right: 0.2em;padding-left: 0.2em;position: relative;}#sk-container-id-10 div.sk-item {position: relative;z-index: 1;}#sk-container-id-10 div.sk-parallel {display: flex;align-items: stretch;justify-content: center;background-color: white;position: relative;}#sk-container-id-10 div.sk-item::before, #sk-container-id-10 div.sk-parallel-item::before {content: \"\";position: absolute;border-left: 1px solid gray;box-sizing: border-box;top: 0;bottom: 0;left: 50%;z-index: -1;}#sk-container-id-10 div.sk-parallel-item {display: flex;flex-direction: column;z-index: 1;position: relative;background-color: white;}#sk-container-id-10 div.sk-parallel-item:first-child::after {align-self: flex-end;width: 50%;}#sk-container-id-10 div.sk-parallel-item:last-child::after {align-self: flex-start;width: 50%;}#sk-container-id-10 div.sk-parallel-item:only-child::after {width: 0;}#sk-container-id-10 div.sk-dashed-wrapped {border: 1px dashed gray;margin: 0 0.4em 0.5em 0.4em;box-sizing: border-box;padding-bottom: 0.4em;background-color: white;}#sk-container-id-10 div.sk-label label {font-family: monospace;font-weight: bold;display: inline-block;line-height: 1.2em;}#sk-container-id-10 div.sk-label-container {text-align: center;}#sk-container-id-10 div.sk-container {/* jupyter's `normalize.less` sets `[hidden] { display: none; }` but bootstrap.min.css set `[hidden] { display: none !important; }` so we also need the `!important` here to be able to override the default hidden behavior on the sphinx rendered scikit-learn.org. See: https://github.com/scikit-learn/scikit-learn/issues/21755 */display: inline-block !important;position: relative;}#sk-container-id-10 div.sk-text-repr-fallback {display: none;}</style><div id=\"sk-container-id-10\" class=\"sk-top-container\"><div class=\"sk-text-repr-fallback\"><pre>AdaBoostClassifier(learning_rate=0.34800000000000003, n_estimators=72,\n",
       "                   random_state=23)</pre><b>In a Jupyter environment, please rerun this cell to show the HTML representation or trust the notebook. <br />On GitHub, the HTML representation is unable to render, please try loading this page with nbviewer.org.</b></div><div class=\"sk-container\" hidden><div class=\"sk-item\"><div class=\"sk-estimator sk-toggleable\"><input class=\"sk-toggleable__control sk-hidden--visually\" id=\"sk-estimator-id-10\" type=\"checkbox\" checked><label for=\"sk-estimator-id-10\" class=\"sk-toggleable__label sk-toggleable__label-arrow\">AdaBoostClassifier</label><div class=\"sk-toggleable__content\"><pre>AdaBoostClassifier(learning_rate=0.34800000000000003, n_estimators=72,\n",
       "                   random_state=23)</pre></div></div></div></div></div>"
      ],
      "text/plain": [
       "AdaBoostClassifier(learning_rate=0.34800000000000003, n_estimators=72,\n",
       "                   random_state=23)"
      ]
     },
     "execution_count": 108,
     "metadata": {},
     "output_type": "execute_result"
    }
   ],
   "source": [
    "adb_clf = AdaBoostClassifier(random_state=23)\n",
    "\n",
    "\n",
    "Hyperparameters = {\"n_estimators\" : np.arange(10,100),\n",
    "                    \"learning_rate\" : np.arange(0,2,0.001)\n",
    "                }\n",
    "\n",
    "rscv_adb_clf = RandomizedSearchCV(adb_clf,Hyperparameters,cv= 3)\n",
    "rscv_adb_clf.fit(x_train, y_train)\n",
    "rscv_adb_clf.best_estimator_"
   ]
  },
  {
   "cell_type": "code",
   "execution_count": 109,
   "id": "426cad35",
   "metadata": {
    "scrolled": true
   },
   "outputs": [
    {
     "name": "stdout",
     "output_type": "stream",
     "text": [
      "Confusion Matrix :\n",
      " [[266  50]\n",
      " [ 22 262]]\n",
      "********************************************************************************\n",
      "Accuracy : 0.88\n",
      "****************************************************************************************\n",
      "Classification Report :\n",
      "               precision    recall  f1-score   support\n",
      "\n",
      "           0       0.92      0.84      0.88       316\n",
      "           1       0.84      0.92      0.88       284\n",
      "\n",
      "    accuracy                           0.88       600\n",
      "   macro avg       0.88      0.88      0.88       600\n",
      "weighted avg       0.88      0.88      0.88       600\n",
      "\n",
      "****************************************************************************************\n",
      "Precision : 0.8397435897435898\n",
      "Recall : 0.9225352112676056\n",
      "f1-score : 0.8791946308724832\n"
     ]
    }
   ],
   "source": [
    "# Testing Data Evaluation\n",
    "adb_clf_hp = rndcv_dt_clf.best_estimator_\n",
    "\n",
    "y_pred = adb_clf_hp.predict(x_test)\n",
    "\n",
    "cnf_matrix = confusion_matrix(y_test, y_pred)\n",
    "print(\"Confusion Matrix :\\n\",cnf_matrix)\n",
    "print(\"*\"*80)\n",
    "\n",
    "adb_acc_test_hp = accuracy_score(y_test, y_pred)\n",
    "print(\"Accuracy :\",adb_acc_test_hp)\n",
    "print(\"*\"*88)\n",
    "\n",
    "clf_report = classification_report(y_test, y_pred)\n",
    "print(\"Classification Report :\\n\",clf_report)\n",
    "\n",
    "print(\"*\"*88)\n",
    "adb_precision_test_hp = precision_score(y_test, y_pred)\n",
    "print(\"Precision :\",adb_precision_test_hp)\n",
    "\n",
    "adb_recall_test_hp = recall_score(y_test, y_pred)\n",
    "print(\"Recall :\",adb_recall_test_hp)\n",
    "\n",
    "adb_f1_score_test_hp = f1_score(y_test, y_pred)\n",
    "print(\"f1-score :\",adb_f1_score_test_hp)"
   ]
  },
  {
   "cell_type": "code",
   "execution_count": 110,
   "id": "a824346d",
   "metadata": {},
   "outputs": [
    {
     "name": "stdout",
     "output_type": "stream",
     "text": [
      "Confusion Matrix :\n",
      " [[1091  172]\n",
      " [  61 1076]]\n",
      "********************************************************************************\n",
      "Accuracy is : 0.9029166666666667\n",
      "********************************************************************************\n",
      "Classification Report :\n",
      "               precision    recall  f1-score   support\n",
      "\n",
      "           0       0.95      0.86      0.90      1263\n",
      "           1       0.86      0.95      0.90      1137\n",
      "\n",
      "    accuracy                           0.90      2400\n",
      "   macro avg       0.90      0.91      0.90      2400\n",
      "weighted avg       0.91      0.90      0.90      2400\n",
      "\n",
      "****************************************************************************************\n",
      "Precision : 0.8621794871794872\n",
      "Recall : 0.9463500439753738\n",
      "f1-score : 0.9023060796645703\n"
     ]
    }
   ],
   "source": [
    "# Training Data Evaluation\n",
    "y_pred_train = adb_clf_hp.predict(x_train)\n",
    "\n",
    "cnf_matrix = confusion_matrix(y_train, y_pred_train)\n",
    "print(\"Confusion Matrix :\\n\",cnf_matrix)\n",
    "print(\"*\"*80)\n",
    "\n",
    "adb_acc_train_hp = accuracy_score(y_train, y_pred_train)\n",
    "print(\"Accuracy is :\",adb_acc_train_hp)\n",
    "print(\"*\"*80)\n",
    "\n",
    "clf_report = classification_report(y_train, y_pred_train)\n",
    "print(\"Classification Report :\\n\",clf_report)\n",
    "\n",
    "print(\"*\"*88)\n",
    "adb_precision_train_hp = precision_score(y_train, y_pred_train)\n",
    "print(\"Precision :\",adb_precision_train_hp)\n",
    "\n",
    "adb_recall_train_hp = recall_score(y_train, y_pred_train)\n",
    "print(\"Recall :\",adb_recall_train_hp)\n",
    "\n",
    "adb_f1_score_train_hp = f1_score(y_train, y_pred_train)\n",
    "print(\"f1-score :\",adb_f1_score_train_hp)"
   ]
  },
  {
   "cell_type": "code",
   "execution_count": null,
   "id": "eed5bb53",
   "metadata": {},
   "outputs": [],
   "source": []
  },
  {
   "cell_type": "code",
   "execution_count": 111,
   "id": "7088ff68",
   "metadata": {},
   "outputs": [],
   "source": [
    "evaluation_matrix_base = {\n",
    "    'Logistic Regression': [Log_acc_test,log_precision_test, log_recall_test, log_f1_score_test],\n",
    "    'KNN':[knn_acc_test,knn_precision_test, knn_recall_test, knn_f1_score_test],\n",
    "    'Decision Tree':[dt_acc_test,dt_precision_test, dt_recall_test, dt_f1_score_test],\n",
    "    'Random Forest':[rf_acc_test,rf_precision_test, rf_recall_test, rf_f1_score_test],\n",
    "    'AdaBoost':[adb_acc_test,adb_precision_test, adb_recall_test, adb_f1_score_test]\n",
    "}\n",
    "\n",
    "eva_base = pd.DataFrame(data = evaluation_matrix_base, index = ['Accucary', 'Recall', 'Precision', 'F1 Score'])\n",
    "\n",
    "evaluation_matrix_base_training = {\n",
    "    \"training\" : [Log_acc_train, knn_acc_train, dt_acc_train, rf_acc_train,adb_acc_train],\n",
    "    \"testing\": [Log_acc_test, knn_acc_test, dt_acc_test, rf_acc_test,adb_acc_test]\n",
    "}\n",
    "    \n",
    "\n",
    "eva_base_train = pd.DataFrame(data = evaluation_matrix_base_training, index = ['Logreg', 'KNN', 'Decision Tree', 'Random Forest', 'AdaBoost'])\n",
    "\n",
    "#display_side_by_side([eva_base, eva_base_train], ['Evaluation Matrix', 'Accuracy Train & Test'])\n"
   ]
  },
  {
   "cell_type": "code",
   "execution_count": 112,
   "id": "ab8ee7ce",
   "metadata": {},
   "outputs": [
    {
     "data": {
      "text/html": [
       "<div>\n",
       "<style scoped>\n",
       "    .dataframe tbody tr th:only-of-type {\n",
       "        vertical-align: middle;\n",
       "    }\n",
       "\n",
       "    .dataframe tbody tr th {\n",
       "        vertical-align: top;\n",
       "    }\n",
       "\n",
       "    .dataframe thead th {\n",
       "        text-align: right;\n",
       "    }\n",
       "</style>\n",
       "<table border=\"1\" class=\"dataframe\">\n",
       "  <thead>\n",
       "    <tr style=\"text-align: right;\">\n",
       "      <th></th>\n",
       "      <th>Logistic Regression</th>\n",
       "      <th>KNN</th>\n",
       "      <th>Decision Tree</th>\n",
       "      <th>Random Forest</th>\n",
       "      <th>AdaBoost</th>\n",
       "    </tr>\n",
       "  </thead>\n",
       "  <tbody>\n",
       "    <tr>\n",
       "      <th>Accucary</th>\n",
       "      <td>0.793333</td>\n",
       "      <td>0.861667</td>\n",
       "      <td>0.881667</td>\n",
       "      <td>0.915000</td>\n",
       "      <td>0.885000</td>\n",
       "    </tr>\n",
       "    <tr>\n",
       "      <th>Recall</th>\n",
       "      <td>0.763158</td>\n",
       "      <td>0.815047</td>\n",
       "      <td>0.868512</td>\n",
       "      <td>0.897611</td>\n",
       "      <td>0.869416</td>\n",
       "    </tr>\n",
       "    <tr>\n",
       "      <th>Precision</th>\n",
       "      <td>0.816901</td>\n",
       "      <td>0.915493</td>\n",
       "      <td>0.883803</td>\n",
       "      <td>0.926056</td>\n",
       "      <td>0.890845</td>\n",
       "    </tr>\n",
       "    <tr>\n",
       "      <th>F1 Score</th>\n",
       "      <td>0.789116</td>\n",
       "      <td>0.862355</td>\n",
       "      <td>0.876091</td>\n",
       "      <td>0.911612</td>\n",
       "      <td>0.880000</td>\n",
       "    </tr>\n",
       "  </tbody>\n",
       "</table>\n",
       "</div>"
      ],
      "text/plain": [
       "           Logistic Regression       KNN  Decision Tree  Random Forest  \\\n",
       "Accucary              0.793333  0.861667       0.881667       0.915000   \n",
       "Recall                0.763158  0.815047       0.868512       0.897611   \n",
       "Precision             0.816901  0.915493       0.883803       0.926056   \n",
       "F1 Score              0.789116  0.862355       0.876091       0.911612   \n",
       "\n",
       "           AdaBoost  \n",
       "Accucary   0.885000  \n",
       "Recall     0.869416  \n",
       "Precision  0.890845  \n",
       "F1 Score   0.880000  "
      ]
     },
     "execution_count": 112,
     "metadata": {},
     "output_type": "execute_result"
    }
   ],
   "source": [
    "eva_base"
   ]
  },
  {
   "cell_type": "code",
   "execution_count": 113,
   "id": "2fe82492",
   "metadata": {},
   "outputs": [
    {
     "data": {
      "text/html": [
       "<div>\n",
       "<style scoped>\n",
       "    .dataframe tbody tr th:only-of-type {\n",
       "        vertical-align: middle;\n",
       "    }\n",
       "\n",
       "    .dataframe tbody tr th {\n",
       "        vertical-align: top;\n",
       "    }\n",
       "\n",
       "    .dataframe thead th {\n",
       "        text-align: right;\n",
       "    }\n",
       "</style>\n",
       "<table border=\"1\" class=\"dataframe\">\n",
       "  <thead>\n",
       "    <tr style=\"text-align: right;\">\n",
       "      <th></th>\n",
       "      <th>training</th>\n",
       "      <th>testing</th>\n",
       "    </tr>\n",
       "  </thead>\n",
       "  <tbody>\n",
       "    <tr>\n",
       "      <th>Logreg</th>\n",
       "      <td>0.805833</td>\n",
       "      <td>0.793333</td>\n",
       "    </tr>\n",
       "    <tr>\n",
       "      <th>KNN</th>\n",
       "      <td>0.882083</td>\n",
       "      <td>0.861667</td>\n",
       "    </tr>\n",
       "    <tr>\n",
       "      <th>Decision Tree</th>\n",
       "      <td>1.000000</td>\n",
       "      <td>0.881667</td>\n",
       "    </tr>\n",
       "    <tr>\n",
       "      <th>Random Forest</th>\n",
       "      <td>1.000000</td>\n",
       "      <td>0.915000</td>\n",
       "    </tr>\n",
       "    <tr>\n",
       "      <th>AdaBoost</th>\n",
       "      <td>0.905000</td>\n",
       "      <td>0.885000</td>\n",
       "    </tr>\n",
       "  </tbody>\n",
       "</table>\n",
       "</div>"
      ],
      "text/plain": [
       "               training   testing\n",
       "Logreg         0.805833  0.793333\n",
       "KNN            0.882083  0.861667\n",
       "Decision Tree  1.000000  0.881667\n",
       "Random Forest  1.000000  0.915000\n",
       "AdaBoost       0.905000  0.885000"
      ]
     },
     "execution_count": 113,
     "metadata": {},
     "output_type": "execute_result"
    }
   ],
   "source": [
    "eva_base_train"
   ]
  },
  {
   "cell_type": "code",
   "execution_count": 361,
   "id": "9d5d2948",
   "metadata": {},
   "outputs": [],
   "source": [
    "# Ater Hyperparameter Tunning"
   ]
  },
  {
   "cell_type": "code",
   "execution_count": 165,
   "id": "c74910a3",
   "metadata": {},
   "outputs": [],
   "source": [
    "evaluation_matrix_base = {\n",
    "    #'Logistic Regression': [Log_acc_test_hp,log_precision_test_hp, log_recall_test_hp, log_f1_score_test_hp],\n",
    "    'KNN':[knn_acc_test_hp,knn_precision_test_hp, knn_recall_test_hp, knn_f1_score_test_hp],\n",
    "    'Decision Tree':[dt_acc_test_pr,dt_precision_test_pr, dt_recall_test_pr, dt_f1_score_test_pr],\n",
    "    'Random Forest':[rf_acc_test_hp,rf_precision_test_hp, rf_recall_test_hp, rf_f1_score_test_hp],\n",
    "    'AdaBoost':[adb_acc_test_hp,adb_precision_test_hp, adb_recall_test_hp, adb_f1_score_test_hp],\n",
    "}\n",
    "\n",
    "eva_base = pd.DataFrame(data = evaluation_matrix_base, index = ['Accucary', 'Recall', 'Precision', 'F1 Score'])\n",
    "\n",
    "evaluation_matrix_base_training = {\n",
    "    \"training\" : [ knn_acc_train_hp, dt_acc_train_pr, rf_acc_train_hp, adb_acc_train_hp],\n",
    "    \"testing\": [ knn_acc_test_hp, dt_acc_test_pr, rf_acc_test_hp, adb_acc_test_hp]\n",
    "}\n",
    "    \n",
    "\n",
    "eva_base_train = pd.DataFrame(data = evaluation_matrix_base_training, index = [ 'KNN', 'Decision Tree', 'Random Forest', 'AdaBoost'])\n",
    "\n",
    "#display_side_by_side([eva_base, eva_base_train], ['Evaluation Matrix', 'Accuracy Train & Test'])\n"
   ]
  },
  {
   "cell_type": "code",
   "execution_count": 166,
   "id": "87481dca",
   "metadata": {},
   "outputs": [
    {
     "data": {
      "text/html": [
       "<div>\n",
       "<style scoped>\n",
       "    .dataframe tbody tr th:only-of-type {\n",
       "        vertical-align: middle;\n",
       "    }\n",
       "\n",
       "    .dataframe tbody tr th {\n",
       "        vertical-align: top;\n",
       "    }\n",
       "\n",
       "    .dataframe thead th {\n",
       "        text-align: right;\n",
       "    }\n",
       "</style>\n",
       "<table border=\"1\" class=\"dataframe\">\n",
       "  <thead>\n",
       "    <tr style=\"text-align: right;\">\n",
       "      <th></th>\n",
       "      <th>KNN</th>\n",
       "      <th>Decision Tree</th>\n",
       "      <th>Random Forest</th>\n",
       "      <th>AdaBoost</th>\n",
       "    </tr>\n",
       "  </thead>\n",
       "  <tbody>\n",
       "    <tr>\n",
       "      <th>Accucary</th>\n",
       "      <td>0.858333</td>\n",
       "      <td>0.900000</td>\n",
       "      <td>0.880000</td>\n",
       "      <td>0.880000</td>\n",
       "    </tr>\n",
       "    <tr>\n",
       "      <th>Recall</th>\n",
       "      <td>0.822006</td>\n",
       "      <td>0.888889</td>\n",
       "      <td>0.839744</td>\n",
       "      <td>0.839744</td>\n",
       "    </tr>\n",
       "    <tr>\n",
       "      <th>Precision</th>\n",
       "      <td>0.894366</td>\n",
       "      <td>0.901408</td>\n",
       "      <td>0.922535</td>\n",
       "      <td>0.922535</td>\n",
       "    </tr>\n",
       "    <tr>\n",
       "      <th>F1 Score</th>\n",
       "      <td>0.856661</td>\n",
       "      <td>0.895105</td>\n",
       "      <td>0.879195</td>\n",
       "      <td>0.879195</td>\n",
       "    </tr>\n",
       "  </tbody>\n",
       "</table>\n",
       "</div>"
      ],
      "text/plain": [
       "                KNN  Decision Tree  Random Forest  AdaBoost\n",
       "Accucary   0.858333       0.900000       0.880000  0.880000\n",
       "Recall     0.822006       0.888889       0.839744  0.839744\n",
       "Precision  0.894366       0.901408       0.922535  0.922535\n",
       "F1 Score   0.856661       0.895105       0.879195  0.879195"
      ]
     },
     "execution_count": 166,
     "metadata": {},
     "output_type": "execute_result"
    }
   ],
   "source": [
    "eva_base"
   ]
  },
  {
   "cell_type": "code",
   "execution_count": 167,
   "id": "44a9bf1b",
   "metadata": {},
   "outputs": [
    {
     "data": {
      "text/html": [
       "<div>\n",
       "<style scoped>\n",
       "    .dataframe tbody tr th:only-of-type {\n",
       "        vertical-align: middle;\n",
       "    }\n",
       "\n",
       "    .dataframe tbody tr th {\n",
       "        vertical-align: top;\n",
       "    }\n",
       "\n",
       "    .dataframe thead th {\n",
       "        text-align: right;\n",
       "    }\n",
       "</style>\n",
       "<table border=\"1\" class=\"dataframe\">\n",
       "  <thead>\n",
       "    <tr style=\"text-align: right;\">\n",
       "      <th></th>\n",
       "      <th>training</th>\n",
       "      <th>testing</th>\n",
       "    </tr>\n",
       "  </thead>\n",
       "  <tbody>\n",
       "    <tr>\n",
       "      <th>KNN</th>\n",
       "      <td>0.883750</td>\n",
       "      <td>0.858333</td>\n",
       "    </tr>\n",
       "    <tr>\n",
       "      <th>Decision Tree</th>\n",
       "      <td>0.980000</td>\n",
       "      <td>0.900000</td>\n",
       "    </tr>\n",
       "    <tr>\n",
       "      <th>Random Forest</th>\n",
       "      <td>0.902917</td>\n",
       "      <td>0.880000</td>\n",
       "    </tr>\n",
       "    <tr>\n",
       "      <th>AdaBoost</th>\n",
       "      <td>0.902917</td>\n",
       "      <td>0.880000</td>\n",
       "    </tr>\n",
       "  </tbody>\n",
       "</table>\n",
       "</div>"
      ],
      "text/plain": [
       "               training   testing\n",
       "KNN            0.883750  0.858333\n",
       "Decision Tree  0.980000  0.900000\n",
       "Random Forest  0.902917  0.880000\n",
       "AdaBoost       0.902917  0.880000"
      ]
     },
     "execution_count": 167,
     "metadata": {},
     "output_type": "execute_result"
    }
   ],
   "source": [
    "eva_base_train "
   ]
  },
  {
   "cell_type": "markdown",
   "id": "9a1a21c6",
   "metadata": {},
   "source": [
    "# Random Forest Single Row Testing"
   ]
  },
  {
   "cell_type": "code",
   "execution_count": 172,
   "id": "eb2e38e7",
   "metadata": {},
   "outputs": [
    {
     "data": {
      "text/html": [
       "<div>\n",
       "<style scoped>\n",
       "    .dataframe tbody tr th:only-of-type {\n",
       "        vertical-align: middle;\n",
       "    }\n",
       "\n",
       "    .dataframe tbody tr th {\n",
       "        vertical-align: top;\n",
       "    }\n",
       "\n",
       "    .dataframe thead th {\n",
       "        text-align: right;\n",
       "    }\n",
       "</style>\n",
       "<table border=\"1\" class=\"dataframe\">\n",
       "  <thead>\n",
       "    <tr style=\"text-align: right;\">\n",
       "      <th></th>\n",
       "      <th>0</th>\n",
       "    </tr>\n",
       "  </thead>\n",
       "  <tbody>\n",
       "    <tr>\n",
       "      <th>Age</th>\n",
       "      <td>22.00</td>\n",
       "    </tr>\n",
       "    <tr>\n",
       "      <th>Sex</th>\n",
       "      <td>1.00</td>\n",
       "    </tr>\n",
       "    <tr>\n",
       "      <th>Income</th>\n",
       "      <td>8200.00</td>\n",
       "    </tr>\n",
       "    <tr>\n",
       "      <th>WaistCirc</th>\n",
       "      <td>81.00</td>\n",
       "    </tr>\n",
       "    <tr>\n",
       "      <th>BMI</th>\n",
       "      <td>23.30</td>\n",
       "    </tr>\n",
       "    <tr>\n",
       "      <th>Albuminuria</th>\n",
       "      <td>0.00</td>\n",
       "    </tr>\n",
       "    <tr>\n",
       "      <th>UrAlbCr</th>\n",
       "      <td>3.88</td>\n",
       "    </tr>\n",
       "    <tr>\n",
       "      <th>UricAcid</th>\n",
       "      <td>4.90</td>\n",
       "    </tr>\n",
       "    <tr>\n",
       "      <th>BloodGlucose</th>\n",
       "      <td>92.00</td>\n",
       "    </tr>\n",
       "    <tr>\n",
       "      <th>HDL</th>\n",
       "      <td>41.00</td>\n",
       "    </tr>\n",
       "    <tr>\n",
       "      <th>Triglycerides</th>\n",
       "      <td>84.00</td>\n",
       "    </tr>\n",
       "  </tbody>\n",
       "</table>\n",
       "</div>"
      ],
      "text/plain": [
       "                     0\n",
       "Age              22.00\n",
       "Sex               1.00\n",
       "Income         8200.00\n",
       "WaistCirc        81.00\n",
       "BMI              23.30\n",
       "Albuminuria       0.00\n",
       "UrAlbCr           3.88\n",
       "UricAcid          4.90\n",
       "BloodGlucose     92.00\n",
       "HDL              41.00\n",
       "Triglycerides    84.00"
      ]
     },
     "execution_count": 172,
     "metadata": {},
     "output_type": "execute_result"
    }
   ],
   "source": [
    "x.head(1).T"
   ]
  },
  {
   "cell_type": "code",
   "execution_count": 173,
   "id": "ea9ace6f",
   "metadata": {},
   "outputs": [
    {
     "data": {
      "text/plain": [
       "1"
      ]
     },
     "execution_count": 173,
     "metadata": {},
     "output_type": "execute_result"
    }
   ],
   "source": [
    "Age                   = 70.00\n",
    "Sex                   = 1.00\n",
    "Marital               =  0.00\n",
    "Income              = 3500.00\n",
    "Race                 =   4.00\n",
    "WaistCirc             =103.60\n",
    "BMI                  =  30.70\n",
    "Albuminuria            = 0.00\n",
    "UrAlbCr               =  8.99\n",
    "UricAcid               = 5.40\n",
    "BloodGlucose        =  100.00\n",
    "HDL                  =  55.00\n",
    "Triglycerides       =  103.00\n",
    "#MetabolicSyndrome       1.00\n",
    "\n",
    "test_array = np.array([[Age ,Sex,Marital,Income,Race,WaistCirc,BMI,Albuminuria,UrAlbCr,UricAcid,BloodGlucose,HDL,Triglycerides]])\n",
    "test_array\n",
    "predicted_class = rf_clf_hp.predict(test_array)[0]\n",
    "predicted_class"
   ]
  },
  {
   "cell_type": "code",
   "execution_count": 174,
   "id": "c507d96e",
   "metadata": {},
   "outputs": [],
   "source": [
    "import pickle\n",
    "import json"
   ]
  },
  {
   "cell_type": "code",
   "execution_count": 175,
   "id": "8e89f42f",
   "metadata": {},
   "outputs": [],
   "source": [
    "with open('Best_RF_model.pkl','wb') as f:\n",
    "    pickle.dump(rf_clf_hp,f)"
   ]
  },
  {
   "cell_type": "code",
   "execution_count": 176,
   "id": "16c5159b",
   "metadata": {},
   "outputs": [],
   "source": [
    "project_data = {'columns' : list(x.columns)}"
   ]
  },
  {
   "cell_type": "code",
   "execution_count": 177,
   "id": "d91a44d7",
   "metadata": {},
   "outputs": [],
   "source": [
    "with open(\"project_data.json\",'w') as f:\n",
    "    json.dump(project_data,f)"
   ]
  }
 ],
 "metadata": {
  "kernelspec": {
   "display_name": "Python 3 (ipykernel)",
   "language": "python",
   "name": "python3"
  },
  "language_info": {
   "codemirror_mode": {
    "name": "ipython",
    "version": 3
   },
   "file_extension": ".py",
   "mimetype": "text/x-python",
   "name": "python",
   "nbconvert_exporter": "python",
   "pygments_lexer": "ipython3",
   "version": "3.9.7"
  }
 },
 "nbformat": 4,
 "nbformat_minor": 5
}
